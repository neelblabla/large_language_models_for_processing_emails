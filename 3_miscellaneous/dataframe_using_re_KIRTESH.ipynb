{
 "cells": [
  {
   "cell_type": "code",
   "execution_count": 224,
   "id": "93b97685",
   "metadata": {},
   "outputs": [],
   "source": [
    "import pandas as pd\n",
    "import re\n",
    "import requests\n",
    "from io import StringIO"
   ]
  },
  {
   "cell_type": "code",
   "execution_count": 225,
   "id": "a5b7fbb4",
   "metadata": {},
   "outputs": [
    {
     "data": {
      "text/html": [
       "<div>\n",
       "<style scoped>\n",
       "    .dataframe tbody tr th:only-of-type {\n",
       "        vertical-align: middle;\n",
       "    }\n",
       "\n",
       "    .dataframe tbody tr th {\n",
       "        vertical-align: top;\n",
       "    }\n",
       "\n",
       "    .dataframe thead th {\n",
       "        text-align: right;\n",
       "    }\n",
       "</style>\n",
       "<table border=\"1\" class=\"dataframe\">\n",
       "  <thead>\n",
       "    <tr style=\"text-align: right;\">\n",
       "      <th></th>\n",
       "      <th>RawMailContent</th>\n",
       "    </tr>\n",
       "  </thead>\n",
       "  <tbody>\n",
       "    <tr>\n",
       "      <th>0</th>\n",
       "      <td>Message-ID: &lt;21713028.1075855434284.JavaMail.e...</td>\n",
       "    </tr>\n",
       "    <tr>\n",
       "      <th>1</th>\n",
       "      <td>Message-ID: &lt;30445252.1075855073917.JavaMail.e...</td>\n",
       "    </tr>\n",
       "    <tr>\n",
       "      <th>2</th>\n",
       "      <td>Message-ID: &lt;12158479.1075847131465.JavaMail.e...</td>\n",
       "    </tr>\n",
       "    <tr>\n",
       "      <th>3</th>\n",
       "      <td>Message-ID: &lt;13684295.1075845928316.JavaMail.e...</td>\n",
       "    </tr>\n",
       "    <tr>\n",
       "      <th>4</th>\n",
       "      <td>Message-ID: &lt;2352172.1075842967105.JavaMail.ev...</td>\n",
       "    </tr>\n",
       "    <tr>\n",
       "      <th>...</th>\n",
       "      <td>...</td>\n",
       "    </tr>\n",
       "    <tr>\n",
       "      <th>4995</th>\n",
       "      <td>Message-ID: &lt;10566838.1075846391124.JavaMail.e...</td>\n",
       "    </tr>\n",
       "    <tr>\n",
       "      <th>4996</th>\n",
       "      <td>Message-ID: &lt;32232039.1075847075437.JavaMail.e...</td>\n",
       "    </tr>\n",
       "    <tr>\n",
       "      <th>4997</th>\n",
       "      <td>Message-ID: &lt;9769889.1075858707282.JavaMail.ev...</td>\n",
       "    </tr>\n",
       "    <tr>\n",
       "      <th>4998</th>\n",
       "      <td>Message-ID: &lt;31276235.1075846020705.JavaMail.e...</td>\n",
       "    </tr>\n",
       "    <tr>\n",
       "      <th>4999</th>\n",
       "      <td>Message-ID: &lt;28545397.1075846014448.JavaMail.e...</td>\n",
       "    </tr>\n",
       "  </tbody>\n",
       "</table>\n",
       "<p>5000 rows × 1 columns</p>\n",
       "</div>"
      ],
      "text/plain": [
       "                                         RawMailContent\n",
       "0     Message-ID: <21713028.1075855434284.JavaMail.e...\n",
       "1     Message-ID: <30445252.1075855073917.JavaMail.e...\n",
       "2     Message-ID: <12158479.1075847131465.JavaMail.e...\n",
       "3     Message-ID: <13684295.1075845928316.JavaMail.e...\n",
       "4     Message-ID: <2352172.1075842967105.JavaMail.ev...\n",
       "...                                                 ...\n",
       "4995  Message-ID: <10566838.1075846391124.JavaMail.e...\n",
       "4996  Message-ID: <32232039.1075847075437.JavaMail.e...\n",
       "4997  Message-ID: <9769889.1075858707282.JavaMail.ev...\n",
       "4998  Message-ID: <31276235.1075846020705.JavaMail.e...\n",
       "4999  Message-ID: <28545397.1075846014448.JavaMail.e...\n",
       "\n",
       "[5000 rows x 1 columns]"
      ]
     },
     "execution_count": 225,
     "metadata": {},
     "output_type": "execute_result"
    }
   ],
   "source": [
    "df = pd.read_csv('enron_mails_subsample.csv')\n",
    "df"
   ]
  },
  {
   "cell_type": "code",
   "execution_count": null,
   "id": "95d87767",
   "metadata": {},
   "outputs": [],
   "source": []
  },
  {
   "cell_type": "code",
   "execution_count": 226,
   "id": "906ebd46",
   "metadata": {},
   "outputs": [
    {
     "data": {
      "text/plain": [
       "\"\\nlabels=[]\\nwith open('1.txt', 'r') as file:\\n    for line in file:\\n        li=line.strip()\\n        print(li)\\n        li=re.findall('(^.*?):',li)\\n        labels.append(li)\\nlabel=[i for sl in labels for i in sl]\\nlabel=label[:-1]\\n# label.append('Body')\\nlabel\\n\""
      ]
     },
     "execution_count": 226,
     "metadata": {},
     "output_type": "execute_result"
    }
   ],
   "source": [
    "'''\n",
    "labels=[]\n",
    "with open('1.txt', 'r') as file:\n",
    "    for line in file:\n",
    "        li=line.strip()\n",
    "        print(li)\n",
    "        li=re.findall('(^.*?):',li)\n",
    "        labels.append(li)\n",
    "label=[i for sl in labels for i in sl]\n",
    "label=label[:-1]\n",
    "# label.append('Body')\n",
    "label\n",
    "'''"
   ]
  },
  {
   "cell_type": "code",
   "execution_count": null,
   "id": "415c1c11",
   "metadata": {},
   "outputs": [],
   "source": []
  },
  {
   "cell_type": "code",
   "execution_count": 227,
   "id": "05d1b2be",
   "metadata": {},
   "outputs": [
    {
     "data": {
      "text/plain": [
       "0         Forwarded for tracking purposes.  -----Origi...\n",
       "2        Tana,  Hope you are well.  I wondered whether...\n",
       "12       Debra Perlingiere Enron North America Corp. L...\n",
       "13       Bob -  I believe what we sent them was a form...\n",
       "17       This one is easy, Texas Gas k#T018123 was rec...\n",
       "                              ...                        \n",
       "4967     I thought this one was funny enough to forwar...\n",
       "4972     it was really good.  how'd you cut up those d...\n",
       "4979     Alan, here's the open season announcement I s...\n",
       "4986     I was reading through your and others' recomm...\n",
       "4997     Attached below is a 9 page summary of what Ch...\n",
       "Name: Body, Length: 737, dtype: object"
      ]
     },
     "execution_count": 227,
     "metadata": {},
     "output_type": "execute_result"
    }
   ],
   "source": [
    "df['Message-ID']=df['RawMailContent'].str.extract('Message-ID'+r':\\s(.*)\\n')\n",
    "df['Subject']=df['RawMailContent'].str.extract('Subject'+r':\\s(.*)\\n')\n",
    "df['Body']=df['RawMailContent'].str.extract('X-FileName'+r':\\s.*\\n([\\s\\S]*)$')\n",
    "df.drop('RawMailContent',axis=1,inplace=True)\n",
    "df['Body']=df['Body'].replace({'\\n':' ','\\t':' '},regex=True)\n",
    "\n",
    "df.loc[df['Body'].str.contains('-----Original Message-----'),'Body']\n",
    "df.loc[df['Body'].str.contains('-----Original Message-----'),'Body']"
   ]
  },
  {
   "cell_type": "code",
   "execution_count": 228,
   "id": "73e68b2f",
   "metadata": {},
   "outputs": [
    {
     "data": {
      "text/html": [
       "<div>\n",
       "<style scoped>\n",
       "    .dataframe tbody tr th:only-of-type {\n",
       "        vertical-align: middle;\n",
       "    }\n",
       "\n",
       "    .dataframe tbody tr th {\n",
       "        vertical-align: top;\n",
       "    }\n",
       "\n",
       "    .dataframe thead th {\n",
       "        text-align: right;\n",
       "    }\n",
       "</style>\n",
       "<table border=\"1\" class=\"dataframe\">\n",
       "  <thead>\n",
       "    <tr style=\"text-align: right;\">\n",
       "      <th></th>\n",
       "      <th>Message-ID</th>\n",
       "      <th>Subject</th>\n",
       "      <th>Body</th>\n",
       "    </tr>\n",
       "  </thead>\n",
       "  <tbody>\n",
       "    <tr>\n",
       "      <th>0</th>\n",
       "      <td>&lt;21713028.1075855434284.JavaMail.evans@thyme&gt;</td>\n",
       "      <td>FW: Notice of Termination - Power Purchase and...</td>\n",
       "      <td>Forwarded for tracking purposes.</td>\n",
       "    </tr>\n",
       "    <tr>\n",
       "      <th>1</th>\n",
       "      <td>&lt;30445252.1075855073917.JavaMail.evans@thyme&gt;</td>\n",
       "      <td></td>\n",
       "      <td>Return Receipt   Your  document:   was recei...</td>\n",
       "    </tr>\n",
       "    <tr>\n",
       "      <th>2</th>\n",
       "      <td>&lt;12158479.1075847131465.JavaMail.evans@thyme&gt;</td>\n",
       "      <td>RE: FW: Deutsche Bank ISDA Master Agreements</td>\n",
       "      <td>Tana,  Hope you are well.  I wondered whether...</td>\n",
       "    </tr>\n",
       "    <tr>\n",
       "      <th>3</th>\n",
       "      <td>&lt;13684295.1075845928316.JavaMail.evans@thyme&gt;</td>\n",
       "      <td>Re: FW: VEPCO/City of Rocky Mount</td>\n",
       "      <td>I'm travelling on Monday, so please ask my as...</td>\n",
       "    </tr>\n",
       "    <tr>\n",
       "      <th>4</th>\n",
       "      <td>&lt;2352172.1075842967105.JavaMail.evans@thyme&gt;</td>\n",
       "      <td></td>\n",
       "      <td>If there's other stuff you need, or if you'd ...</td>\n",
       "    </tr>\n",
       "    <tr>\n",
       "      <th>...</th>\n",
       "      <td>...</td>\n",
       "      <td>...</td>\n",
       "      <td>...</td>\n",
       "    </tr>\n",
       "    <tr>\n",
       "      <th>4995</th>\n",
       "      <td>&lt;10566838.1075846391124.JavaMail.evans@thyme&gt;</td>\n",
       "      <td>Letter to John Pope</td>\n",
       "      <td>Attached is a new draft of the letter to John...</td>\n",
       "    </tr>\n",
       "    <tr>\n",
       "      <th>4996</th>\n",
       "      <td>&lt;32232039.1075847075437.JavaMail.evans@thyme&gt;</td>\n",
       "      <td>Re: New CA's &amp; Revised List</td>\n",
       "      <td>One comment - the Platt's agreement has been ...</td>\n",
       "    </tr>\n",
       "    <tr>\n",
       "      <th>4997</th>\n",
       "      <td>&lt;9769889.1075858707282.JavaMail.evans@thyme&gt;</td>\n",
       "      <td>FW: Summary of Sections to be marked up</td>\n",
       "      <td>Attached below is a 9 page summary of what Ch...</td>\n",
       "    </tr>\n",
       "    <tr>\n",
       "      <th>4998</th>\n",
       "      <td>&lt;31276235.1075846020705.JavaMail.evans@thyme&gt;</td>\n",
       "      <td>World Hunger- Section 9.6 Additional tests - t...</td>\n",
       "      <td>9.6  Additional Factory Testing .  In the eve...</td>\n",
       "    </tr>\n",
       "    <tr>\n",
       "      <th>4999</th>\n",
       "      <td>&lt;28545397.1075846014448.JavaMail.evans@thyme&gt;</td>\n",
       "      <td>Re: Dinner on Wednesday, May 2, 2001, San Anto...</td>\n",
       "      <td>I have a closing scheduled for Wednesday, so ...</td>\n",
       "    </tr>\n",
       "  </tbody>\n",
       "</table>\n",
       "<p>5000 rows × 3 columns</p>\n",
       "</div>"
      ],
      "text/plain": [
       "                                         Message-ID  \\\n",
       "0     <21713028.1075855434284.JavaMail.evans@thyme>   \n",
       "1     <30445252.1075855073917.JavaMail.evans@thyme>   \n",
       "2     <12158479.1075847131465.JavaMail.evans@thyme>   \n",
       "3     <13684295.1075845928316.JavaMail.evans@thyme>   \n",
       "4      <2352172.1075842967105.JavaMail.evans@thyme>   \n",
       "...                                             ...   \n",
       "4995  <10566838.1075846391124.JavaMail.evans@thyme>   \n",
       "4996  <32232039.1075847075437.JavaMail.evans@thyme>   \n",
       "4997   <9769889.1075858707282.JavaMail.evans@thyme>   \n",
       "4998  <31276235.1075846020705.JavaMail.evans@thyme>   \n",
       "4999  <28545397.1075846014448.JavaMail.evans@thyme>   \n",
       "\n",
       "                                                Subject  \\\n",
       "0     FW: Notice of Termination - Power Purchase and...   \n",
       "1                                                         \n",
       "2          RE: FW: Deutsche Bank ISDA Master Agreements   \n",
       "3                     Re: FW: VEPCO/City of Rocky Mount   \n",
       "4                                                         \n",
       "...                                                 ...   \n",
       "4995                                Letter to John Pope   \n",
       "4996                        Re: New CA's & Revised List   \n",
       "4997            FW: Summary of Sections to be marked up   \n",
       "4998  World Hunger- Section 9.6 Additional tests - t...   \n",
       "4999  Re: Dinner on Wednesday, May 2, 2001, San Anto...   \n",
       "\n",
       "                                                   Body  \n",
       "0                    Forwarded for tracking purposes.    \n",
       "1       Return Receipt   Your  document:   was recei...  \n",
       "2      Tana,  Hope you are well.  I wondered whether...  \n",
       "3      I'm travelling on Monday, so please ask my as...  \n",
       "4      If there's other stuff you need, or if you'd ...  \n",
       "...                                                 ...  \n",
       "4995   Attached is a new draft of the letter to John...  \n",
       "4996   One comment - the Platt's agreement has been ...  \n",
       "4997   Attached below is a 9 page summary of what Ch...  \n",
       "4998   9.6  Additional Factory Testing .  In the eve...  \n",
       "4999   I have a closing scheduled for Wednesday, so ...  \n",
       "\n",
       "[5000 rows x 3 columns]"
      ]
     },
     "execution_count": 228,
     "metadata": {},
     "output_type": "execute_result"
    }
   ],
   "source": [
    "df.loc[df['Body'].str.contains('-----Original Message-----'),'Body']=df.loc[df['Body'].str.contains('-----Original Message-----'),'Body'].str.extract(r'([\\s\\S]*?)'+r'-----Original Message-----',expand=False)\n",
    "# \n",
    "df"
   ]
  },
  {
   "cell_type": "code",
   "execution_count": 15,
   "id": "1c262d66",
   "metadata": {},
   "outputs": [
    {
     "data": {
      "text/plain": [
       "\" for a in label:\\n    if not df['RawMailContent'].str.contains(a).any():\\n        continue\\n    #if df['RawMailContent'].str.extract(a+r':\\\\s*(.*)').iloc[0,0] in label:\\n     #   continue\\n    df[a]=df['RawMailContent'].str.extract(a+r':\\\\s(.*)\\n')\\n    \\n    df['RawMailContent']=df['RawMailContent'].str.replace(a+r':\\\\s(.*)\\n','')\\n    df['RawMailContent']=df['RawMailContent'].str.strip('\\n')\\ndf\\n\""
      ]
     },
     "execution_count": 15,
     "metadata": {},
     "output_type": "execute_result"
    }
   ],
   "source": [
    "''' for a in label:\n",
    "    if not df['RawMailContent'].str.contains(a).any():\n",
    "        continue\n",
    "    #if df['RawMailContent'].str.extract(a+r':\\s*(.*)').iloc[0,0] in label:\n",
    "     #   continue\n",
    "    df[a]=df['RawMailContent'].str.extract(a+r':\\s(.*)\\n')\n",
    "    \n",
    "    df['RawMailContent']=df['RawMailContent'].str.replace(a+r':\\s(.*)\\n','')\n",
    "    df['RawMailContent']=df['RawMailContent'].str.strip('\\n')\n",
    "df\n",
    "'''"
   ]
  },
  {
   "cell_type": "code",
   "execution_count": 16,
   "id": "5c57dca5",
   "metadata": {},
   "outputs": [
    {
     "data": {
      "text/plain": [
       "'  Forwarded for tracking purposes.  '"
      ]
     },
     "execution_count": 16,
     "metadata": {},
     "output_type": "execute_result"
    }
   ],
   "source": [
    "import numpy as np\n",
    "df.iloc[0,2]"
   ]
  },
  {
   "cell_type": "code",
   "execution_count": null,
   "id": "2d991987",
   "metadata": {},
   "outputs": [],
   "source": [
    "# df[~(df['X-bcc']=='')]"
   ]
  },
  {
   "cell_type": "code",
   "execution_count": null,
   "id": "4d47606d",
   "metadata": {},
   "outputs": [],
   "source": [
    "df['Body'].iloc[0]"
   ]
  },
  {
   "cell_type": "code",
   "execution_count": null,
   "id": "f6fcd422",
   "metadata": {},
   "outputs": [],
   "source": [
    "df['RawMailContent']"
   ]
  },
  {
   "cell_type": "code",
   "execution_count": null,
   "id": "c4f67fad",
   "metadata": {},
   "outputs": [],
   "source": [
    "df.iloc[4995]"
   ]
  },
  {
   "cell_type": "code",
   "execution_count": null,
   "id": "29428c1e",
   "metadata": {},
   "outputs": [],
   "source": [
    "df.iloc[4995,4]"
   ]
  },
  {
   "cell_type": "code",
   "execution_count": null,
   "id": "72c30c70",
   "metadata": {},
   "outputs": [],
   "source": []
  }
 ],
 "metadata": {
  "kernelspec": {
   "display_name": "Python 3 (ipykernel)",
   "language": "python",
   "name": "python3"
  },
  "language_info": {
   "codemirror_mode": {
    "name": "ipython",
    "version": 3
   },
   "file_extension": ".py",
   "mimetype": "text/x-python",
   "name": "python",
   "nbconvert_exporter": "python",
   "pygments_lexer": "ipython3",
   "version": "3.10.9"
  }
 },
 "nbformat": 4,
 "nbformat_minor": 5
}
