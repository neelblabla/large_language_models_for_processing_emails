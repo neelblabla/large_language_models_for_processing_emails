{
 "cells": [
  {
   "cell_type": "code",
   "execution_count": 1,
   "id": "4c5e2885",
   "metadata": {
    "id": "4c5e2885"
   },
   "outputs": [
    {
     "name": "stderr",
     "output_type": "stream",
     "text": [
      "C:\\Users\\hp\\miniconda3\\envs\\tf_gpu\\lib\\site-packages\\tqdm\\auto.py:21: TqdmWarning: IProgress not found. Please update jupyter and ipywidgets. See https://ipywidgets.readthedocs.io/en/stable/user_install.html\n",
      "  from .autonotebook import tqdm as notebook_tqdm\n"
     ]
    }
   ],
   "source": [
    "import torch\n",
    "from torch import nn\n",
    "from torch.nn import BCEWithLogitsLoss\n",
    "import torchsummary as summary\n",
    "\n",
    "from torch.utils.data import TensorDataset, DataLoader, RandomSampler, SequentialSampler\n",
    "from transformers import AdamW, XLNetTokenizer, XLNetModel, XLNetLMHeadModel, XLNetConfig\n",
    "\n",
    "from sklearn.model_selection import train_test_split\n",
    "\n",
    "import numpy as np\n",
    "import pandas as pd\n",
    "import os\n",
    "import matplotlib.pyplot as plt\n",
    "%matplotlib inline\n",
    "\n",
    "from tqdm import tqdm, trange"
   ]
  },
  {
   "cell_type": "code",
   "execution_count": 2,
   "id": "5fec05ad",
   "metadata": {
    "id": "5fec05ad"
   },
   "outputs": [],
   "source": [
    "torch.cuda.empty_cache()"
   ]
  },
  {
   "cell_type": "code",
   "execution_count": 3,
   "id": "fff40ee7",
   "metadata": {
    "colab": {
     "base_uri": "https://localhost:8080/"
    },
    "id": "fff40ee7",
    "outputId": "11c0fdd4-a78f-4d43-ed76-1abbd19e0f37"
   },
   "outputs": [
    {
     "data": {
      "text/plain": [
       "\"\\nfrom google.colab import drive\\ndrive.mount('/content/drive')\\n\\nimport os\\nos.chdir('/content/drive/My Drive/')\\n\\n\\ndf=pd.read_csv('BERT_data.csv')\\ndf=df[~(df['content']=='nan')]\\ndf['content']=df['content'].astype(str)\\ndf['subject']=df['subject'].astype(str)\\n\""
      ]
     },
     "execution_count": 3,
     "metadata": {},
     "output_type": "execute_result"
    }
   ],
   "source": [
    "'''\n",
    "from google.colab import drive\n",
    "drive.mount('/content/drive')\n",
    "\n",
    "import os\n",
    "os.chdir('/content/drive/My Drive/')\n",
    "\n",
    "\n",
    "df=pd.read_csv('BERT_data.csv')\n",
    "df=df[~(df['content']=='nan')]\n",
    "df['content']=df['content'].astype(str)\n",
    "df['subject']=df['subject'].astype(str)\n",
    "'''"
   ]
  },
  {
   "cell_type": "code",
   "execution_count": 4,
   "id": "862a17fe",
   "metadata": {
    "colab": {
     "base_uri": "https://localhost:8080/",
     "height": 53
    },
    "id": "862a17fe",
    "outputId": "6aa6d00d-cdc8-49ac-b34e-38be032d4249"
   },
   "outputs": [],
   "source": [
    "df=pd.read_csv('BERT_data.csv')\n",
    "df['content']=df['content'].astype(str)\n",
    "df['subject']=df['subject'].astype(str)"
   ]
  },
  {
   "cell_type": "code",
   "execution_count": 5,
   "id": "645c3857",
   "metadata": {
    "colab": {
     "base_uri": "https://localhost:8080/"
    },
    "id": "645c3857",
    "outputId": "e0555b1d-8805-4a6e-ad56-df2c8e41d61d"
   },
   "outputs": [
    {
     "data": {
      "text/plain": [
       "array([0, 2, 3, 4, 1, 6, 5, 7], dtype=int64)"
      ]
     },
     "execution_count": 5,
     "metadata": {},
     "output_type": "execute_result"
    }
   ],
   "source": [
    "df['cat_1_level_2']=df['cat_1_level_2']-1\n",
    "df['cat_1_level_2'].unique()"
   ]
  },
  {
   "cell_type": "code",
   "execution_count": 6,
   "id": "f3d96f8e",
   "metadata": {},
   "outputs": [
    {
     "data": {
      "text/plain": [
       "array([0, 2, 3, 4, 1, 5], dtype=int64)"
      ]
     },
     "execution_count": 6,
     "metadata": {},
     "output_type": "execute_result"
    }
   ],
   "source": [
    "df=df[~(df['cat_1_level_2']==6)]\n",
    "df=df[~(df['cat_1_level_2']==7)]\n",
    "df['cat_1_level_2'].unique()"
   ]
  },
  {
   "cell_type": "code",
   "execution_count": 7,
   "id": "c74ffb44",
   "metadata": {},
   "outputs": [
    {
     "data": {
      "text/plain": [
       "2951"
      ]
     },
     "execution_count": 7,
     "metadata": {},
     "output_type": "execute_result"
    }
   ],
   "source": [
    "# to count max word length\n",
    "def word_count(text):\n",
    "    words=text.split()\n",
    "    return len(words)\n",
    "max(df['content'].apply(word_count))"
   ]
  },
  {
   "cell_type": "code",
   "execution_count": 8,
   "id": "97659d46",
   "metadata": {
    "id": "97659d46"
   },
   "outputs": [],
   "source": [
    "tokenizer = XLNetTokenizer.from_pretrained('xlnet-base-cased')\n",
    "\n",
    "class Dataset(torch.utils.data.Dataset):\n",
    "    def __init__(self,df):\n",
    "        self.labels=df['cat_1_level_2']\n",
    "        self.text=[tokenizer(text,padding='max_length',max_length=512,truncation=True,return_tensors=\"pt\") for text in df['content']]\n",
    "\n",
    "    def classes(self):\n",
    "        return self.labels\n",
    "\n",
    "    def __len__(self):\n",
    "        return len(self.labels)\n",
    "\n",
    "    def get_batch_labels(self, idx):\n",
    "        # Fetch a batch of labels\n",
    "        return np.array(self.labels[idx])\n",
    "\n",
    "    def get_batch_texts(self, idx):\n",
    "        # Fetch a batch of inputs\n",
    "        return self.text[idx]\n",
    "\n",
    "    def __getitem__(self, idx):\n",
    "\n",
    "        batch_texts = self.get_batch_texts(idx)\n",
    "        batch_y = self.get_batch_labels(idx)\n",
    "\n",
    "        return batch_texts, batch_y"
   ]
  },
  {
   "cell_type": "code",
   "execution_count": 9,
   "id": "c327d458",
   "metadata": {
    "id": "c327d458"
   },
   "outputs": [
    {
     "data": {
      "text/html": [
       "<div>\n",
       "<style scoped>\n",
       "    .dataframe tbody tr th:only-of-type {\n",
       "        vertical-align: middle;\n",
       "    }\n",
       "\n",
       "    .dataframe tbody tr th {\n",
       "        vertical-align: top;\n",
       "    }\n",
       "\n",
       "    .dataframe thead th {\n",
       "        text-align: right;\n",
       "    }\n",
       "</style>\n",
       "<table border=\"1\" class=\"dataframe\">\n",
       "  <thead>\n",
       "    <tr style=\"text-align: right;\">\n",
       "      <th></th>\n",
       "      <th>message_id</th>\n",
       "      <th>subject</th>\n",
       "      <th>content</th>\n",
       "      <th>cat_1_level_2</th>\n",
       "    </tr>\n",
       "  </thead>\n",
       "  <tbody>\n",
       "    <tr>\n",
       "      <th>0</th>\n",
       "      <td>&lt;9831685.1075855725804.JavaMail.evans@thyme&gt;</td>\n",
       "      <td>re confidenti employe informationlenhart</td>\n",
       "      <td>also need know base salari jay reitmey moniqu ...</td>\n",
       "      <td>0</td>\n",
       "    </tr>\n",
       "    <tr>\n",
       "      <th>1</th>\n",
       "      <td>&lt;21041312.1075855725847.JavaMail.evans@thyme&gt;</td>\n",
       "      <td>re person and confidenti compens inform</td>\n",
       "      <td>thank inform would help would send detail work...</td>\n",
       "      <td>2</td>\n",
       "    </tr>\n",
       "    <tr>\n",
       "      <th>2</th>\n",
       "      <td>&lt;21261996.1075858638025.JavaMail.evans@thyme&gt;</td>\n",
       "      <td>re western wholesal activ gas power conf call ...</td>\n",
       "      <td>guy coordin make sure someon listen confer cal...</td>\n",
       "      <td>3</td>\n",
       "    </tr>\n",
       "    <tr>\n",
       "      <th>3</th>\n",
       "      <td>&lt;20399547.1075857614321.JavaMail.evans@thyme&gt;</td>\n",
       "      <td>re confidenti employe informationdutch quigley</td>\n",
       "      <td>thx jeani slone pm john cc confidenti employe ...</td>\n",
       "      <td>4</td>\n",
       "    </tr>\n",
       "    <tr>\n",
       "      <th>4</th>\n",
       "      <td>&lt;860767.1075849626951.JavaMail.evans@thyme&gt;</td>\n",
       "      <td>re hp confidenti intern document</td>\n",
       "      <td>excel updat thank put togeth dalepatrick let r...</td>\n",
       "      <td>0</td>\n",
       "    </tr>\n",
       "    <tr>\n",
       "      <th>...</th>\n",
       "      <td>...</td>\n",
       "      <td>...</td>\n",
       "      <td>...</td>\n",
       "      <td>...</td>\n",
       "    </tr>\n",
       "    <tr>\n",
       "      <th>1485</th>\n",
       "      <td>&lt;18361957.1075861368310.JavaMail.evans@thyme&gt;</td>\n",
       "      <td>confidenti due dilig info g</td>\n",
       "      <td>lot confidenti inform item detail month pl cov...</td>\n",
       "      <td>0</td>\n",
       "    </tr>\n",
       "    <tr>\n",
       "      <th>1486</th>\n",
       "      <td>&lt;29049822.1075842045435.JavaMail.evans@thyme&gt;</td>\n",
       "      <td>california dim bulb</td>\n",
       "      <td>may seen first came back worth rerun</td>\n",
       "      <td>0</td>\n",
       "    </tr>\n",
       "    <tr>\n",
       "      <th>1487</th>\n",
       "      <td>&lt;205897.1075861997314.JavaMail.evans@thyme&gt;</td>\n",
       "      <td>re confidenti ee info</td>\n",
       "      <td>mark email fax ani written document give heidi...</td>\n",
       "      <td>4</td>\n",
       "    </tr>\n",
       "    <tr>\n",
       "      <th>1488</th>\n",
       "      <td>&lt;23743848.1075863311776.JavaMail.evans@thyme&gt;</td>\n",
       "      <td>confidenti inform and secur trade</td>\n",
       "      <td>william william enron wholesal servic offic ch...</td>\n",
       "      <td>0</td>\n",
       "    </tr>\n",
       "    <tr>\n",
       "      <th>1489</th>\n",
       "      <td>&lt;18158190.1075839992060.JavaMail.evans@thyme&gt;</td>\n",
       "      <td>confidenti sicchew immedi after read sic</td>\n",
       "      <td>love avail beauti lass view thing interest enr...</td>\n",
       "      <td>1</td>\n",
       "    </tr>\n",
       "  </tbody>\n",
       "</table>\n",
       "<p>1458 rows × 4 columns</p>\n",
       "</div>"
      ],
      "text/plain": [
       "                                         message_id  \\\n",
       "0      <9831685.1075855725804.JavaMail.evans@thyme>   \n",
       "1     <21041312.1075855725847.JavaMail.evans@thyme>   \n",
       "2     <21261996.1075858638025.JavaMail.evans@thyme>   \n",
       "3     <20399547.1075857614321.JavaMail.evans@thyme>   \n",
       "4       <860767.1075849626951.JavaMail.evans@thyme>   \n",
       "...                                             ...   \n",
       "1485  <18361957.1075861368310.JavaMail.evans@thyme>   \n",
       "1486  <29049822.1075842045435.JavaMail.evans@thyme>   \n",
       "1487    <205897.1075861997314.JavaMail.evans@thyme>   \n",
       "1488  <23743848.1075863311776.JavaMail.evans@thyme>   \n",
       "1489  <18158190.1075839992060.JavaMail.evans@thyme>   \n",
       "\n",
       "                                                subject  \\\n",
       "0              re confidenti employe informationlenhart   \n",
       "1               re person and confidenti compens inform   \n",
       "2     re western wholesal activ gas power conf call ...   \n",
       "3        re confidenti employe informationdutch quigley   \n",
       "4                      re hp confidenti intern document   \n",
       "...                                                 ...   \n",
       "1485                        confidenti due dilig info g   \n",
       "1486                                california dim bulb   \n",
       "1487                              re confidenti ee info   \n",
       "1488                  confidenti inform and secur trade   \n",
       "1489           confidenti sicchew immedi after read sic   \n",
       "\n",
       "                                                content  cat_1_level_2  \n",
       "0     also need know base salari jay reitmey moniqu ...              0  \n",
       "1     thank inform would help would send detail work...              2  \n",
       "2     guy coordin make sure someon listen confer cal...              3  \n",
       "3     thx jeani slone pm john cc confidenti employe ...              4  \n",
       "4     excel updat thank put togeth dalepatrick let r...              0  \n",
       "...                                                 ...            ...  \n",
       "1485  lot confidenti inform item detail month pl cov...              0  \n",
       "1486               may seen first came back worth rerun              0  \n",
       "1487  mark email fax ani written document give heidi...              4  \n",
       "1488  william william enron wholesal servic offic ch...              0  \n",
       "1489  love avail beauti lass view thing interest enr...              1  \n",
       "\n",
       "[1458 rows x 4 columns]"
      ]
     },
     "execution_count": 9,
     "metadata": {},
     "output_type": "execute_result"
    }
   ],
   "source": [
    "df"
   ]
  },
  {
   "cell_type": "code",
   "execution_count": 10,
   "id": "8a1a835a",
   "metadata": {},
   "outputs": [],
   "source": [
    "X_train, X_test, y_train, y_test = train_test_split(df[['message_id','subject','content']], df['cat_1_level_2'], test_size=0.4, stratify=df['cat_1_level_2'])"
   ]
  },
  {
   "cell_type": "code",
   "execution_count": 11,
   "id": "2f08669a",
   "metadata": {},
   "outputs": [],
   "source": [
    "X_train['cat_1_level_2']=y_train\n",
    "X_test['cat_1_level_2']=y_test\n",
    "df_train=X_train\n",
    "df_val=X_test\n",
    "df_test=0"
   ]
  },
  {
   "cell_type": "code",
   "execution_count": 12,
   "id": "yDzCUBywaqK_",
   "metadata": {
    "colab": {
     "base_uri": "https://localhost:8080/"
    },
    "id": "yDzCUBywaqK_",
    "outputId": "f0c830cc-e9c2-4e35-8c9f-e7b0e6f9f5aa"
   },
   "outputs": [
    {
     "name": "stdout",
     "output_type": "stream",
     "text": [
      "874 584\n"
     ]
    }
   ],
   "source": [
    "df_train.reset_index(inplace=True)\n",
    "df_train=df_train.drop('index',axis=1)\n",
    "\n",
    "df_val.reset_index(inplace=True)\n",
    "df_val=df_val.drop('index',axis=1)\n",
    "'''\n",
    "df_test.reset_index(inplace=True)\n",
    "df_test=df_test.drop('index',axis=1)\n",
    "'''\n",
    "print(len(df_train),len(df_val))"
   ]
  },
  {
   "cell_type": "code",
   "execution_count": 13,
   "id": "3e4d8e9a",
   "metadata": {},
   "outputs": [],
   "source": [
    "class XLNetClassifier(nn.Module):\n",
    "    def __init__(self, dropout=0.3):\n",
    "        super(XLNetClassifier, self).__init__() \n",
    "        self.xlnet = XLNetModel.from_pretrained('xlnet-base-cased', return_dict=True)\n",
    "        self.dropout = nn.Dropout(dropout)\n",
    "        self.linear = nn.Linear(self.xlnet.config.hidden_size, 6)\n",
    "        torch.nn.init.kaiming_uniform_(self.linear.weight, nonlinearity='relu')\n",
    "        self.relu = nn.ReLU()\n",
    "        \n",
    "    def forward(self, input_ids, attention_mask):\n",
    "        \n",
    "        outputs = self.xlnet(input_ids=input_ids, attention_mask=attention_mask)\n",
    "        pooled_output = outputs.last_hidden_state[:, 0, :]  # Get the CLS token representation\n",
    "        dropout_output = self.dropout(pooled_output)\n",
    "        linear_output = self.linear(dropout_output)\n",
    "        final_layer = self.relu(linear_output)\n",
    "        return final_layer\n"
   ]
  },
  {
   "cell_type": "code",
   "execution_count": 14,
   "id": "0cedf1b1",
   "metadata": {
    "id": "0cedf1b1"
   },
   "outputs": [
    {
     "data": {
      "text/plain": [
       "\"\\nclass XLNetClassifier(nn.Module):\\n\\n    def __init__(self, dropout=0.3):\\n\\n        super(XLNetClassifier, self).__init__()\\n        self.xlnet = XLNetModel.from_pretrained('xlnet-base-cased')\\n        self.dropout = nn.Dropout(dropout)\\n        self.linear = nn.Linear(768, 6)\\n        torch.nn.init.kaiming_uniform_(self.linear.weight, nonlinearity='relu')\\n        self.relu = nn.ReLU()\\n\\n    def forward(self, input_id, mask):\\n\\n        _,pooled_output = self.xlnet(input_ids= input_id, attention_mask=mask)\\n        dropout_output = self.dropout(pooled_output[0])\\n        linear_output = self.linear(dropout_output)\\n        final_layer = self.relu(linear_output)\\n\\n        return final_layer\\n\""
      ]
     },
     "execution_count": 14,
     "metadata": {},
     "output_type": "execute_result"
    }
   ],
   "source": [
    "'''\n",
    "class XLNetClassifier(nn.Module):\n",
    "\n",
    "    def __init__(self, dropout=0.3):\n",
    "\n",
    "        super(XLNetClassifier, self).__init__()\n",
    "        self.xlnet = XLNetModel.from_pretrained('xlnet-base-cased')\n",
    "        self.dropout = nn.Dropout(dropout)\n",
    "        self.linear = nn.Linear(768, 6)\n",
    "        torch.nn.init.kaiming_uniform_(self.linear.weight, nonlinearity='relu')\n",
    "        self.relu = nn.ReLU()\n",
    "\n",
    "    def forward(self, input_id, mask):\n",
    "\n",
    "        _,pooled_output = self.xlnet(input_ids= input_id, attention_mask=mask)\n",
    "        dropout_output = self.dropout(pooled_output[0])\n",
    "        linear_output = self.linear(dropout_output)\n",
    "        final_layer = self.relu(linear_output)\n",
    "\n",
    "        return final_layer\n",
    "'''"
   ]
  },
  {
   "cell_type": "code",
   "execution_count": 15,
   "id": "50e427bd",
   "metadata": {
    "colab": {
     "base_uri": "https://localhost:8080/"
    },
    "id": "50e427bd",
    "outputId": "00e951a8-0497-4f1f-d04e-7d941be41a07"
   },
   "outputs": [
    {
     "data": {
      "text/plain": [
       "device(type='cuda')"
      ]
     },
     "execution_count": 15,
     "metadata": {},
     "output_type": "execute_result"
    }
   ],
   "source": [
    "use_cuda = torch.cuda.is_available()\n",
    "device = torch.device(\"cuda\" if use_cuda else \"cpu\")\n",
    "device"
   ]
  },
  {
   "cell_type": "code",
   "execution_count": 16,
   "id": "383e6dad",
   "metadata": {},
   "outputs": [],
   "source": [
    "EPOCHS = 300\n",
    "model = XLNetClassifier()\n",
    "LR = 0.000001"
   ]
  },
  {
   "cell_type": "code",
   "execution_count": 17,
   "id": "bd93f8c0",
   "metadata": {},
   "outputs": [
    {
     "name": "stdout",
     "output_type": "stream",
     "text": [
      "xlnet.mask_emb\n",
      "xlnet.word_embedding.weight\n",
      "xlnet.layer.0.rel_attn.q\n",
      "xlnet.layer.0.rel_attn.k\n",
      "xlnet.layer.0.rel_attn.v\n",
      "xlnet.layer.0.rel_attn.o\n",
      "xlnet.layer.0.rel_attn.r\n",
      "xlnet.layer.0.rel_attn.r_r_bias\n",
      "xlnet.layer.0.rel_attn.r_s_bias\n",
      "xlnet.layer.0.rel_attn.r_w_bias\n",
      "xlnet.layer.0.rel_attn.seg_embed\n",
      "xlnet.layer.0.rel_attn.layer_norm.weight\n",
      "xlnet.layer.0.rel_attn.layer_norm.bias\n",
      "xlnet.layer.0.ff.layer_norm.weight\n",
      "xlnet.layer.0.ff.layer_norm.bias\n",
      "xlnet.layer.0.ff.layer_1.weight\n",
      "xlnet.layer.0.ff.layer_1.bias\n",
      "xlnet.layer.0.ff.layer_2.weight\n",
      "xlnet.layer.0.ff.layer_2.bias\n",
      "xlnet.layer.1.rel_attn.q\n",
      "xlnet.layer.1.rel_attn.k\n",
      "xlnet.layer.1.rel_attn.v\n",
      "xlnet.layer.1.rel_attn.o\n",
      "xlnet.layer.1.rel_attn.r\n",
      "xlnet.layer.1.rel_attn.r_r_bias\n",
      "xlnet.layer.1.rel_attn.r_s_bias\n",
      "xlnet.layer.1.rel_attn.r_w_bias\n",
      "xlnet.layer.1.rel_attn.seg_embed\n",
      "xlnet.layer.1.rel_attn.layer_norm.weight\n",
      "xlnet.layer.1.rel_attn.layer_norm.bias\n",
      "xlnet.layer.1.ff.layer_norm.weight\n",
      "xlnet.layer.1.ff.layer_norm.bias\n",
      "xlnet.layer.1.ff.layer_1.weight\n",
      "xlnet.layer.1.ff.layer_1.bias\n",
      "xlnet.layer.1.ff.layer_2.weight\n",
      "xlnet.layer.1.ff.layer_2.bias\n",
      "xlnet.layer.2.rel_attn.q\n",
      "xlnet.layer.2.rel_attn.k\n",
      "xlnet.layer.2.rel_attn.v\n",
      "xlnet.layer.2.rel_attn.o\n",
      "xlnet.layer.2.rel_attn.r\n",
      "xlnet.layer.2.rel_attn.r_r_bias\n",
      "xlnet.layer.2.rel_attn.r_s_bias\n",
      "xlnet.layer.2.rel_attn.r_w_bias\n",
      "xlnet.layer.2.rel_attn.seg_embed\n",
      "xlnet.layer.2.rel_attn.layer_norm.weight\n",
      "xlnet.layer.2.rel_attn.layer_norm.bias\n",
      "xlnet.layer.2.ff.layer_norm.weight\n",
      "xlnet.layer.2.ff.layer_norm.bias\n",
      "xlnet.layer.2.ff.layer_1.weight\n",
      "xlnet.layer.2.ff.layer_1.bias\n",
      "xlnet.layer.2.ff.layer_2.weight\n",
      "xlnet.layer.2.ff.layer_2.bias\n",
      "xlnet.layer.3.rel_attn.q\n",
      "xlnet.layer.3.rel_attn.k\n",
      "xlnet.layer.3.rel_attn.v\n",
      "xlnet.layer.3.rel_attn.o\n",
      "xlnet.layer.3.rel_attn.r\n",
      "xlnet.layer.3.rel_attn.r_r_bias\n",
      "xlnet.layer.3.rel_attn.r_s_bias\n",
      "xlnet.layer.3.rel_attn.r_w_bias\n",
      "xlnet.layer.3.rel_attn.seg_embed\n",
      "xlnet.layer.3.rel_attn.layer_norm.weight\n",
      "xlnet.layer.3.rel_attn.layer_norm.bias\n",
      "xlnet.layer.3.ff.layer_norm.weight\n",
      "xlnet.layer.3.ff.layer_norm.bias\n",
      "xlnet.layer.3.ff.layer_1.weight\n",
      "xlnet.layer.3.ff.layer_1.bias\n",
      "xlnet.layer.3.ff.layer_2.weight\n",
      "xlnet.layer.3.ff.layer_2.bias\n",
      "xlnet.layer.4.rel_attn.q\n",
      "xlnet.layer.4.rel_attn.k\n",
      "xlnet.layer.4.rel_attn.v\n",
      "xlnet.layer.4.rel_attn.o\n",
      "xlnet.layer.4.rel_attn.r\n",
      "xlnet.layer.4.rel_attn.r_r_bias\n",
      "xlnet.layer.4.rel_attn.r_s_bias\n",
      "xlnet.layer.4.rel_attn.r_w_bias\n",
      "xlnet.layer.4.rel_attn.seg_embed\n",
      "xlnet.layer.4.rel_attn.layer_norm.weight\n",
      "xlnet.layer.4.rel_attn.layer_norm.bias\n",
      "xlnet.layer.4.ff.layer_norm.weight\n",
      "xlnet.layer.4.ff.layer_norm.bias\n",
      "xlnet.layer.4.ff.layer_1.weight\n",
      "xlnet.layer.4.ff.layer_1.bias\n",
      "xlnet.layer.4.ff.layer_2.weight\n",
      "xlnet.layer.4.ff.layer_2.bias\n",
      "xlnet.layer.5.rel_attn.q\n",
      "xlnet.layer.5.rel_attn.k\n",
      "xlnet.layer.5.rel_attn.v\n",
      "xlnet.layer.5.rel_attn.o\n",
      "xlnet.layer.5.rel_attn.r\n",
      "xlnet.layer.5.rel_attn.r_r_bias\n",
      "xlnet.layer.5.rel_attn.r_s_bias\n",
      "xlnet.layer.5.rel_attn.r_w_bias\n",
      "xlnet.layer.5.rel_attn.seg_embed\n",
      "xlnet.layer.5.rel_attn.layer_norm.weight\n",
      "xlnet.layer.5.rel_attn.layer_norm.bias\n",
      "xlnet.layer.5.ff.layer_norm.weight\n",
      "xlnet.layer.5.ff.layer_norm.bias\n",
      "xlnet.layer.5.ff.layer_1.weight\n",
      "xlnet.layer.5.ff.layer_1.bias\n",
      "xlnet.layer.5.ff.layer_2.weight\n",
      "xlnet.layer.5.ff.layer_2.bias\n",
      "xlnet.layer.6.rel_attn.q\n",
      "xlnet.layer.6.rel_attn.k\n",
      "xlnet.layer.6.rel_attn.v\n",
      "xlnet.layer.6.rel_attn.o\n",
      "xlnet.layer.6.rel_attn.r\n",
      "xlnet.layer.6.rel_attn.r_r_bias\n",
      "xlnet.layer.6.rel_attn.r_s_bias\n",
      "xlnet.layer.6.rel_attn.r_w_bias\n",
      "xlnet.layer.6.rel_attn.seg_embed\n",
      "xlnet.layer.6.rel_attn.layer_norm.weight\n",
      "xlnet.layer.6.rel_attn.layer_norm.bias\n",
      "xlnet.layer.6.ff.layer_norm.weight\n",
      "xlnet.layer.6.ff.layer_norm.bias\n",
      "xlnet.layer.6.ff.layer_1.weight\n",
      "xlnet.layer.6.ff.layer_1.bias\n",
      "xlnet.layer.6.ff.layer_2.weight\n",
      "xlnet.layer.6.ff.layer_2.bias\n",
      "xlnet.layer.7.rel_attn.q\n",
      "xlnet.layer.7.rel_attn.k\n",
      "xlnet.layer.7.rel_attn.v\n",
      "xlnet.layer.7.rel_attn.o\n",
      "xlnet.layer.7.rel_attn.r\n",
      "xlnet.layer.7.rel_attn.r_r_bias\n",
      "xlnet.layer.7.rel_attn.r_s_bias\n",
      "xlnet.layer.7.rel_attn.r_w_bias\n",
      "xlnet.layer.7.rel_attn.seg_embed\n",
      "xlnet.layer.7.rel_attn.layer_norm.weight\n",
      "xlnet.layer.7.rel_attn.layer_norm.bias\n",
      "xlnet.layer.7.ff.layer_norm.weight\n",
      "xlnet.layer.7.ff.layer_norm.bias\n",
      "xlnet.layer.7.ff.layer_1.weight\n",
      "xlnet.layer.7.ff.layer_1.bias\n",
      "xlnet.layer.7.ff.layer_2.weight\n",
      "xlnet.layer.7.ff.layer_2.bias\n",
      "xlnet.layer.8.rel_attn.q\n",
      "xlnet.layer.8.rel_attn.k\n",
      "xlnet.layer.8.rel_attn.v\n",
      "xlnet.layer.8.rel_attn.o\n",
      "xlnet.layer.8.rel_attn.r\n",
      "xlnet.layer.8.rel_attn.r_r_bias\n",
      "xlnet.layer.8.rel_attn.r_s_bias\n",
      "xlnet.layer.8.rel_attn.r_w_bias\n",
      "xlnet.layer.8.rel_attn.seg_embed\n",
      "xlnet.layer.8.rel_attn.layer_norm.weight\n",
      "xlnet.layer.8.rel_attn.layer_norm.bias\n",
      "xlnet.layer.8.ff.layer_norm.weight\n",
      "xlnet.layer.8.ff.layer_norm.bias\n",
      "xlnet.layer.8.ff.layer_1.weight\n",
      "xlnet.layer.8.ff.layer_1.bias\n",
      "xlnet.layer.8.ff.layer_2.weight\n",
      "xlnet.layer.8.ff.layer_2.bias\n",
      "xlnet.layer.9.rel_attn.q\n",
      "xlnet.layer.9.rel_attn.k\n",
      "xlnet.layer.9.rel_attn.v\n",
      "xlnet.layer.9.rel_attn.o\n",
      "xlnet.layer.9.rel_attn.r\n",
      "xlnet.layer.9.rel_attn.r_r_bias\n",
      "xlnet.layer.9.rel_attn.r_s_bias\n",
      "xlnet.layer.9.rel_attn.r_w_bias\n",
      "xlnet.layer.9.rel_attn.seg_embed\n",
      "xlnet.layer.9.rel_attn.layer_norm.weight\n",
      "xlnet.layer.9.rel_attn.layer_norm.bias\n",
      "xlnet.layer.9.ff.layer_norm.weight\n",
      "xlnet.layer.9.ff.layer_norm.bias\n",
      "xlnet.layer.9.ff.layer_1.weight\n",
      "xlnet.layer.9.ff.layer_1.bias\n",
      "xlnet.layer.9.ff.layer_2.weight\n",
      "xlnet.layer.9.ff.layer_2.bias\n",
      "xlnet.layer.10.rel_attn.q\n",
      "xlnet.layer.10.rel_attn.k\n",
      "xlnet.layer.10.rel_attn.v\n",
      "xlnet.layer.10.rel_attn.o\n",
      "xlnet.layer.10.rel_attn.r\n",
      "xlnet.layer.10.rel_attn.r_r_bias\n",
      "xlnet.layer.10.rel_attn.r_s_bias\n",
      "xlnet.layer.10.rel_attn.r_w_bias\n",
      "xlnet.layer.10.rel_attn.seg_embed\n",
      "xlnet.layer.10.rel_attn.layer_norm.weight\n",
      "xlnet.layer.10.rel_attn.layer_norm.bias\n",
      "xlnet.layer.10.ff.layer_norm.weight\n",
      "xlnet.layer.10.ff.layer_norm.bias\n",
      "xlnet.layer.10.ff.layer_1.weight\n",
      "xlnet.layer.10.ff.layer_1.bias\n",
      "xlnet.layer.10.ff.layer_2.weight\n",
      "xlnet.layer.10.ff.layer_2.bias\n",
      "xlnet.layer.11.rel_attn.q\n",
      "xlnet.layer.11.rel_attn.k\n",
      "xlnet.layer.11.rel_attn.v\n",
      "xlnet.layer.11.rel_attn.o\n",
      "xlnet.layer.11.rel_attn.r\n",
      "xlnet.layer.11.rel_attn.r_r_bias\n",
      "xlnet.layer.11.rel_attn.r_s_bias\n",
      "xlnet.layer.11.rel_attn.r_w_bias\n",
      "xlnet.layer.11.rel_attn.seg_embed\n",
      "xlnet.layer.11.rel_attn.layer_norm.weight\n",
      "xlnet.layer.11.rel_attn.layer_norm.bias\n",
      "xlnet.layer.11.ff.layer_norm.weight\n",
      "xlnet.layer.11.ff.layer_norm.bias\n",
      "xlnet.layer.11.ff.layer_1.weight\n",
      "xlnet.layer.11.ff.layer_1.bias\n",
      "xlnet.layer.11.ff.layer_2.weight\n",
      "xlnet.layer.11.ff.layer_2.bias\n",
      "linear.weight\n",
      "linear.bias\n"
     ]
    },
    {
     "data": {
      "text/plain": [
       "208"
      ]
     },
     "execution_count": 17,
     "metadata": {},
     "output_type": "execute_result"
    }
   ],
   "source": [
    "n=0\n",
    "for x in model.state_dict():\n",
    "    n=n+1\n",
    "    print(x)\n",
    "n"
   ]
  },
  {
   "cell_type": "code",
   "execution_count": 18,
   "id": "c9734c9d",
   "metadata": {},
   "outputs": [],
   "source": [
    "# freeze first 7 layers \n",
    "n=0\n",
    "for param in model.parameters():\n",
    "    n=n+1\n",
    "    param.requires_grad = False\n",
    "    if n==(201-68):\n",
    "        break"
   ]
  },
  {
   "cell_type": "code",
   "execution_count": 19,
   "id": "4a9d9ab8",
   "metadata": {},
   "outputs": [
    {
     "data": {
      "text/plain": [
       "'\\ntrain, val = Dataset(df_train), Dataset(df_val)\\ntrain_dataloader = torch.utils.data.DataLoader(train, batch_size=20)\\nval_dataloader = torch.utils.data.DataLoader(val, batch_size=20)\\n\\n'"
      ]
     },
     "execution_count": 19,
     "metadata": {},
     "output_type": "execute_result"
    }
   ],
   "source": [
    "'''\n",
    "train, val = Dataset(df_train), Dataset(df_val)\n",
    "train_dataloader = torch.utils.data.DataLoader(train, batch_size=20)\n",
    "val_dataloader = torch.utils.data.DataLoader(val, batch_size=20)\n",
    "\n",
    "'''"
   ]
  },
  {
   "cell_type": "code",
   "execution_count": 20,
   "id": "695b53a2",
   "metadata": {},
   "outputs": [],
   "source": [
    "# train[321][0]['input_ids']"
   ]
  },
  {
   "cell_type": "code",
   "execution_count": 21,
   "id": "09d80d1a",
   "metadata": {},
   "outputs": [
    {
     "data": {
      "text/plain": [
       "\"\\ntrain, val = Dataset(df_train), Dataset(df_val)\\n\\nmodel = model.cuda()\\ntrain_dataloader = torch.utils.data.DataLoader(train, batch_size=2)\\nfor train_input, train_label in tqdm(train_dataloader):\\n                train_label = train_label.to(device)\\n                mask = train_input['attention_mask'].squeeze(1).to(device)\\n                input_id = train_input['input_ids'].squeeze(1).to(device)\\n                output = model(input_id, mask)\\n                print(mask)\\n\""
      ]
     },
     "execution_count": 21,
     "metadata": {},
     "output_type": "execute_result"
    }
   ],
   "source": [
    "'''\n",
    "train, val = Dataset(df_train), Dataset(df_val)\n",
    "\n",
    "model = model.cuda()\n",
    "train_dataloader = torch.utils.data.DataLoader(train, batch_size=2)\n",
    "for train_input, train_label in tqdm(train_dataloader):\n",
    "                train_label = train_label.to(device)\n",
    "                mask = train_input['attention_mask'].squeeze(1).to(device)\n",
    "                input_id = train_input['input_ids'].squeeze(1).to(device)\n",
    "                output = model(input_id, mask)\n",
    "                print(mask)\n",
    "'''"
   ]
  },
  {
   "cell_type": "code",
   "execution_count": 22,
   "id": "6a253c84",
   "metadata": {},
   "outputs": [
    {
     "ename": "NameError",
     "evalue": "name 'input_id' is not defined",
     "output_type": "error",
     "traceback": [
      "\u001b[1;31m---------------------------------------------------------------------------\u001b[0m",
      "\u001b[1;31mNameError\u001b[0m                                 Traceback (most recent call last)",
      "Cell \u001b[1;32mIn[22], line 1\u001b[0m\n\u001b[1;32m----> 1\u001b[0m \u001b[43minput_id\u001b[49m\u001b[38;5;241m.\u001b[39mshape\n",
      "\u001b[1;31mNameError\u001b[0m: name 'input_id' is not defined"
     ]
    }
   ],
   "source": [
    "# input_id.shape"
   ]
  },
  {
   "cell_type": "code",
   "execution_count": 23,
   "id": "72ff0c5d",
   "metadata": {
    "colab": {
     "base_uri": "https://localhost:8080/",
     "height": 1000
    },
    "id": "72ff0c5d",
    "outputId": "0f9a549a-7e09-4eaf-f974-3aaced2a7338"
   },
   "outputs": [
    {
     "name": "stderr",
     "output_type": "stream",
     "text": [
      "100%|██████████████████████████████████████████████████████████████████████████████████| 88/88 [01:19<00:00,  1.11it/s]\n"
     ]
    },
    {
     "name": "stdout",
     "output_type": "stream",
     "text": [
      "Epochs: 1 | Train Loss:  0.248                 | Train Accuracy:  0.319                 | Val Loss:  0.195                 | Val Accuracy:  0.401\n"
     ]
    },
    {
     "name": "stderr",
     "output_type": "stream",
     "text": [
      "100%|██████████████████████████████████████████████████████████████████████████████████| 88/88 [01:17<00:00,  1.14it/s]\n"
     ]
    },
    {
     "name": "stdout",
     "output_type": "stream",
     "text": [
      "Epochs: 2 | Train Loss:  0.188                 | Train Accuracy:  0.429                 | Val Loss:  0.172                 | Val Accuracy:  0.437\n"
     ]
    },
    {
     "name": "stderr",
     "output_type": "stream",
     "text": [
      "100%|██████████████████████████████████████████████████████████████████████████████████| 88/88 [01:17<00:00,  1.14it/s]\n"
     ]
    },
    {
     "name": "stdout",
     "output_type": "stream",
     "text": [
      "Epochs: 3 | Train Loss:  0.170                 | Train Accuracy:  0.446                 | Val Loss:  0.164                 | Val Accuracy:  0.462\n"
     ]
    },
    {
     "name": "stderr",
     "output_type": "stream",
     "text": [
      "100%|██████████████████████████████████████████████████████████████████████████████████| 88/88 [01:17<00:00,  1.14it/s]\n"
     ]
    },
    {
     "name": "stdout",
     "output_type": "stream",
     "text": [
      "Epochs: 4 | Train Loss:  0.157                 | Train Accuracy:  0.470                 | Val Loss:  0.157                 | Val Accuracy:  0.476\n"
     ]
    },
    {
     "name": "stderr",
     "output_type": "stream",
     "text": [
      "100%|██████████████████████████████████████████████████████████████████████████████████| 88/88 [01:16<00:00,  1.14it/s]\n"
     ]
    },
    {
     "name": "stdout",
     "output_type": "stream",
     "text": [
      "Epochs: 5 | Train Loss:  0.155                 | Train Accuracy:  0.487                 | Val Loss:  0.161                 | Val Accuracy:  0.467\n"
     ]
    },
    {
     "name": "stderr",
     "output_type": "stream",
     "text": [
      "100%|██████████████████████████████████████████████████████████████████████████████████| 88/88 [01:16<00:00,  1.14it/s]\n"
     ]
    },
    {
     "name": "stdout",
     "output_type": "stream",
     "text": [
      "Epochs: 6 | Train Loss:  0.149                 | Train Accuracy:  0.510                 | Val Loss:  0.158                 | Val Accuracy:  0.469\n"
     ]
    },
    {
     "name": "stderr",
     "output_type": "stream",
     "text": [
      "100%|██████████████████████████████████████████████████████████████████████████████████| 88/88 [01:16<00:00,  1.14it/s]\n"
     ]
    },
    {
     "name": "stdout",
     "output_type": "stream",
     "text": [
      "Epochs: 7 | Train Loss:  0.146                 | Train Accuracy:  0.518                 | Val Loss:  0.149                 | Val Accuracy:  0.493\n"
     ]
    },
    {
     "name": "stderr",
     "output_type": "stream",
     "text": [
      "100%|██████████████████████████████████████████████████████████████████████████████████| 88/88 [01:16<00:00,  1.14it/s]\n"
     ]
    },
    {
     "name": "stdout",
     "output_type": "stream",
     "text": [
      "Epochs: 8 | Train Loss:  0.147                 | Train Accuracy:  0.494                 | Val Loss:  0.150                 | Val Accuracy:  0.514\n"
     ]
    },
    {
     "name": "stderr",
     "output_type": "stream",
     "text": [
      "100%|██████████████████████████████████████████████████████████████████████████████████| 88/88 [01:16<00:00,  1.14it/s]\n"
     ]
    },
    {
     "name": "stdout",
     "output_type": "stream",
     "text": [
      "Epochs: 9 | Train Loss:  0.143                 | Train Accuracy:  0.513                 | Val Loss:  0.151                 | Val Accuracy:  0.486\n"
     ]
    },
    {
     "name": "stderr",
     "output_type": "stream",
     "text": [
      "100%|██████████████████████████████████████████████████████████████████████████████████| 88/88 [01:16<00:00,  1.15it/s]\n"
     ]
    },
    {
     "name": "stdout",
     "output_type": "stream",
     "text": [
      "Epochs: 10 | Train Loss:  0.138                 | Train Accuracy:  0.534                 | Val Loss:  0.150                 | Val Accuracy:  0.517\n"
     ]
    },
    {
     "name": "stderr",
     "output_type": "stream",
     "text": [
      "100%|██████████████████████████████████████████████████████████████████████████████████| 88/88 [01:16<00:00,  1.15it/s]\n"
     ]
    },
    {
     "name": "stdout",
     "output_type": "stream",
     "text": [
      "Epochs: 11 | Train Loss:  0.132                 | Train Accuracy:  0.548                 | Val Loss:  0.153                 | Val Accuracy:  0.485\n"
     ]
    },
    {
     "name": "stderr",
     "output_type": "stream",
     "text": [
      "100%|██████████████████████████████████████████████████████████████████████████████████| 88/88 [01:16<00:00,  1.15it/s]\n"
     ]
    },
    {
     "name": "stdout",
     "output_type": "stream",
     "text": [
      "Epochs: 12 | Train Loss:  0.133                 | Train Accuracy:  0.534                 | Val Loss:  0.150                 | Val Accuracy:  0.503\n"
     ]
    },
    {
     "name": "stderr",
     "output_type": "stream",
     "text": [
      "100%|██████████████████████████████████████████████████████████████████████████████████| 88/88 [01:16<00:00,  1.15it/s]\n"
     ]
    },
    {
     "name": "stdout",
     "output_type": "stream",
     "text": [
      "Epochs: 13 | Train Loss:  0.131                 | Train Accuracy:  0.530                 | Val Loss:  0.146                 | Val Accuracy:  0.514\n"
     ]
    },
    {
     "name": "stderr",
     "output_type": "stream",
     "text": [
      "100%|██████████████████████████████████████████████████████████████████████████████████| 88/88 [01:16<00:00,  1.15it/s]\n"
     ]
    },
    {
     "name": "stdout",
     "output_type": "stream",
     "text": [
      "Epochs: 14 | Train Loss:  0.130                 | Train Accuracy:  0.541                 | Val Loss:  0.145                 | Val Accuracy:  0.495\n"
     ]
    },
    {
     "name": "stderr",
     "output_type": "stream",
     "text": [
      "100%|██████████████████████████████████████████████████████████████████████████████████| 88/88 [01:16<00:00,  1.15it/s]\n"
     ]
    },
    {
     "name": "stdout",
     "output_type": "stream",
     "text": [
      "Epochs: 15 | Train Loss:  0.127                 | Train Accuracy:  0.558                 | Val Loss:  0.141                 | Val Accuracy:  0.527\n"
     ]
    },
    {
     "name": "stderr",
     "output_type": "stream",
     "text": [
      "100%|██████████████████████████████████████████████████████████████████████████████████| 88/88 [01:16<00:00,  1.15it/s]\n"
     ]
    },
    {
     "name": "stdout",
     "output_type": "stream",
     "text": [
      "Epochs: 16 | Train Loss:  0.126                 | Train Accuracy:  0.551                 | Val Loss:  0.142                 | Val Accuracy:  0.515\n"
     ]
    },
    {
     "name": "stderr",
     "output_type": "stream",
     "text": [
      "100%|██████████████████████████████████████████████████████████████████████████████████| 88/88 [01:16<00:00,  1.15it/s]\n"
     ]
    },
    {
     "name": "stdout",
     "output_type": "stream",
     "text": [
      "Epochs: 17 | Train Loss:  0.122                 | Train Accuracy:  0.563                 | Val Loss:  0.146                 | Val Accuracy:  0.491\n"
     ]
    },
    {
     "name": "stderr",
     "output_type": "stream",
     "text": [
      "100%|██████████████████████████████████████████████████████████████████████████████████| 88/88 [01:16<00:00,  1.15it/s]\n"
     ]
    },
    {
     "name": "stdout",
     "output_type": "stream",
     "text": [
      "Epochs: 18 | Train Loss:  0.120                 | Train Accuracy:  0.576                 | Val Loss:  0.146                 | Val Accuracy:  0.491\n"
     ]
    },
    {
     "name": "stderr",
     "output_type": "stream",
     "text": [
      "100%|██████████████████████████████████████████████████████████████████████████████████| 88/88 [01:16<00:00,  1.15it/s]\n"
     ]
    },
    {
     "name": "stdout",
     "output_type": "stream",
     "text": [
      "Epochs: 19 | Train Loss:  0.117                 | Train Accuracy:  0.585                 | Val Loss:  0.141                 | Val Accuracy:  0.524\n"
     ]
    },
    {
     "name": "stderr",
     "output_type": "stream",
     "text": [
      "100%|██████████████████████████████████████████████████████████████████████████████████| 88/88 [01:16<00:00,  1.15it/s]\n"
     ]
    },
    {
     "name": "stdout",
     "output_type": "stream",
     "text": [
      "Epochs: 20 | Train Loss:  0.118                 | Train Accuracy:  0.580                 | Val Loss:  0.147                 | Val Accuracy:  0.524\n"
     ]
    },
    {
     "name": "stderr",
     "output_type": "stream",
     "text": [
      "100%|██████████████████████████████████████████████████████████████████████████████████| 88/88 [01:16<00:00,  1.15it/s]\n"
     ]
    },
    {
     "name": "stdout",
     "output_type": "stream",
     "text": [
      "Epochs: 21 | Train Loss:  0.117                 | Train Accuracy:  0.577                 | Val Loss:  0.141                 | Val Accuracy:  0.531\n"
     ]
    },
    {
     "name": "stderr",
     "output_type": "stream",
     "text": [
      "100%|██████████████████████████████████████████████████████████████████████████████████| 88/88 [01:16<00:00,  1.15it/s]\n"
     ]
    },
    {
     "name": "stdout",
     "output_type": "stream",
     "text": [
      "Epochs: 22 | Train Loss:  0.112                 | Train Accuracy:  0.595                 | Val Loss:  0.145                 | Val Accuracy:  0.495\n"
     ]
    },
    {
     "name": "stderr",
     "output_type": "stream",
     "text": [
      "100%|██████████████████████████████████████████████████████████████████████████████████| 88/88 [01:16<00:00,  1.15it/s]\n"
     ]
    },
    {
     "name": "stdout",
     "output_type": "stream",
     "text": [
      "Epochs: 23 | Train Loss:  0.111                 | Train Accuracy:  0.600                 | Val Loss:  0.140                 | Val Accuracy:  0.522\n"
     ]
    },
    {
     "name": "stderr",
     "output_type": "stream",
     "text": [
      "100%|██████████████████████████████████████████████████████████████████████████████████| 88/88 [01:16<00:00,  1.15it/s]\n"
     ]
    },
    {
     "name": "stdout",
     "output_type": "stream",
     "text": [
      "Epochs: 24 | Train Loss:  0.108                 | Train Accuracy:  0.597                 | Val Loss:  0.141                 | Val Accuracy:  0.531\n"
     ]
    },
    {
     "name": "stderr",
     "output_type": "stream",
     "text": [
      "100%|██████████████████████████████████████████████████████████████████████████████████| 88/88 [01:16<00:00,  1.15it/s]\n"
     ]
    },
    {
     "name": "stdout",
     "output_type": "stream",
     "text": [
      "Epochs: 25 | Train Loss:  0.105                 | Train Accuracy:  0.624                 | Val Loss:  0.146                 | Val Accuracy:  0.507\n"
     ]
    },
    {
     "name": "stderr",
     "output_type": "stream",
     "text": [
      "100%|██████████████████████████████████████████████████████████████████████████████████| 88/88 [01:16<00:00,  1.15it/s]\n"
     ]
    },
    {
     "name": "stdout",
     "output_type": "stream",
     "text": [
      "Epochs: 26 | Train Loss:  0.104                 | Train Accuracy:  0.621                 | Val Loss:  0.148                 | Val Accuracy:  0.515\n"
     ]
    },
    {
     "name": "stderr",
     "output_type": "stream",
     "text": [
      "100%|██████████████████████████████████████████████████████████████████████████████████| 88/88 [01:16<00:00,  1.15it/s]\n"
     ]
    },
    {
     "name": "stdout",
     "output_type": "stream",
     "text": [
      "Epochs: 27 | Train Loss:  0.101                 | Train Accuracy:  0.633                 | Val Loss:  0.146                 | Val Accuracy:  0.505\n"
     ]
    },
    {
     "name": "stderr",
     "output_type": "stream",
     "text": [
      "100%|██████████████████████████████████████████████████████████████████████████████████| 88/88 [01:16<00:00,  1.15it/s]\n"
     ]
    },
    {
     "name": "stdout",
     "output_type": "stream",
     "text": [
      "Epochs: 28 | Train Loss:  0.098                 | Train Accuracy:  0.643                 | Val Loss:  0.144                 | Val Accuracy:  0.533\n"
     ]
    },
    {
     "name": "stderr",
     "output_type": "stream",
     "text": [
      "100%|██████████████████████████████████████████████████████████████████████████████████| 88/88 [01:16<00:00,  1.15it/s]\n"
     ]
    },
    {
     "name": "stdout",
     "output_type": "stream",
     "text": [
      "Epochs: 29 | Train Loss:  0.098                 | Train Accuracy:  0.649                 | Val Loss:  0.152                 | Val Accuracy:  0.519\n"
     ]
    },
    {
     "name": "stderr",
     "output_type": "stream",
     "text": [
      "100%|██████████████████████████████████████████████████████████████████████████████████| 88/88 [01:16<00:00,  1.15it/s]\n"
     ]
    },
    {
     "name": "stdout",
     "output_type": "stream",
     "text": [
      "Epochs: 30 | Train Loss:  0.095                 | Train Accuracy:  0.658                 | Val Loss:  0.153                 | Val Accuracy:  0.490\n"
     ]
    },
    {
     "name": "stderr",
     "output_type": "stream",
     "text": [
      "100%|██████████████████████████████████████████████████████████████████████████████████| 88/88 [01:16<00:00,  1.15it/s]\n"
     ]
    },
    {
     "name": "stdout",
     "output_type": "stream",
     "text": [
      "Epochs: 31 | Train Loss:  0.094                 | Train Accuracy:  0.653                 | Val Loss:  0.150                 | Val Accuracy:  0.509\n"
     ]
    },
    {
     "name": "stderr",
     "output_type": "stream",
     "text": [
      "100%|██████████████████████████████████████████████████████████████████████████████████| 88/88 [01:16<00:00,  1.15it/s]\n"
     ]
    },
    {
     "name": "stdout",
     "output_type": "stream",
     "text": [
      "Epochs: 32 | Train Loss:  0.092                 | Train Accuracy:  0.657                 | Val Loss:  0.149                 | Val Accuracy:  0.524\n"
     ]
    },
    {
     "name": "stderr",
     "output_type": "stream",
     "text": [
      "100%|██████████████████████████████████████████████████████████████████████████████████| 88/88 [01:16<00:00,  1.15it/s]\n"
     ]
    },
    {
     "name": "stdout",
     "output_type": "stream",
     "text": [
      "Epochs: 33 | Train Loss:  0.090                 | Train Accuracy:  0.665                 | Val Loss:  0.155                 | Val Accuracy:  0.507\n"
     ]
    },
    {
     "name": "stderr",
     "output_type": "stream",
     "text": [
      "100%|██████████████████████████████████████████████████████████████████████████████████| 88/88 [01:16<00:00,  1.15it/s]\n"
     ]
    },
    {
     "name": "stdout",
     "output_type": "stream",
     "text": [
      "Epochs: 34 | Train Loss:  0.089                 | Train Accuracy:  0.672                 | Val Loss:  0.152                 | Val Accuracy:  0.533\n"
     ]
    },
    {
     "name": "stderr",
     "output_type": "stream",
     "text": [
      "100%|██████████████████████████████████████████████████████████████████████████████████| 88/88 [01:16<00:00,  1.15it/s]\n"
     ]
    },
    {
     "name": "stdout",
     "output_type": "stream",
     "text": [
      "Epochs: 35 | Train Loss:  0.084                 | Train Accuracy:  0.695                 | Val Loss:  0.151                 | Val Accuracy:  0.527\n"
     ]
    },
    {
     "name": "stderr",
     "output_type": "stream",
     "text": [
      "100%|██████████████████████████████████████████████████████████████████████████████████| 88/88 [01:16<00:00,  1.15it/s]\n"
     ]
    },
    {
     "name": "stdout",
     "output_type": "stream",
     "text": [
      "Epochs: 36 | Train Loss:  0.085                 | Train Accuracy:  0.682                 | Val Loss:  0.157                 | Val Accuracy:  0.526\n"
     ]
    },
    {
     "name": "stderr",
     "output_type": "stream",
     "text": [
      "100%|██████████████████████████████████████████████████████████████████████████████████| 88/88 [01:16<00:00,  1.15it/s]\n"
     ]
    },
    {
     "name": "stdout",
     "output_type": "stream",
     "text": [
      "Epochs: 37 | Train Loss:  0.083                 | Train Accuracy:  0.698                 | Val Loss:  0.155                 | Val Accuracy:  0.510\n"
     ]
    },
    {
     "name": "stderr",
     "output_type": "stream",
     "text": [
      "100%|██████████████████████████████████████████████████████████████████████████████████| 88/88 [01:16<00:00,  1.15it/s]\n"
     ]
    },
    {
     "name": "stdout",
     "output_type": "stream",
     "text": [
      "Epochs: 38 | Train Loss:  0.081                 | Train Accuracy:  0.698                 | Val Loss:  0.154                 | Val Accuracy:  0.533\n"
     ]
    },
    {
     "name": "stderr",
     "output_type": "stream",
     "text": [
      "100%|██████████████████████████████████████████████████████████████████████████████████| 88/88 [01:16<00:00,  1.15it/s]\n"
     ]
    },
    {
     "name": "stdout",
     "output_type": "stream",
     "text": [
      "Epochs: 39 | Train Loss:  0.080                 | Train Accuracy:  0.699                 | Val Loss:  0.159                 | Val Accuracy:  0.524\n"
     ]
    },
    {
     "name": "stderr",
     "output_type": "stream",
     "text": [
      "100%|██████████████████████████████████████████████████████████████████████████████████| 88/88 [01:16<00:00,  1.15it/s]\n"
     ]
    },
    {
     "name": "stdout",
     "output_type": "stream",
     "text": [
      "Epochs: 40 | Train Loss:  0.076                 | Train Accuracy:  0.704                 | Val Loss:  0.159                 | Val Accuracy:  0.517\n"
     ]
    },
    {
     "name": "stderr",
     "output_type": "stream",
     "text": [
      "100%|██████████████████████████████████████████████████████████████████████████████████| 88/88 [01:16<00:00,  1.15it/s]\n"
     ]
    },
    {
     "name": "stdout",
     "output_type": "stream",
     "text": [
      "Epochs: 41 | Train Loss:  0.077                 | Train Accuracy:  0.715                 | Val Loss:  0.161                 | Val Accuracy:  0.527\n"
     ]
    },
    {
     "name": "stderr",
     "output_type": "stream",
     "text": [
      "100%|██████████████████████████████████████████████████████████████████████████████████| 88/88 [01:16<00:00,  1.15it/s]\n"
     ]
    },
    {
     "name": "stdout",
     "output_type": "stream",
     "text": [
      "Epochs: 42 | Train Loss:  0.072                 | Train Accuracy:  0.739                 | Val Loss:  0.164                 | Val Accuracy:  0.529\n"
     ]
    },
    {
     "name": "stderr",
     "output_type": "stream",
     "text": [
      "100%|██████████████████████████████████████████████████████████████████████████████████| 88/88 [01:16<00:00,  1.15it/s]\n"
     ]
    },
    {
     "name": "stdout",
     "output_type": "stream",
     "text": [
      "Epochs: 43 | Train Loss:  0.072                 | Train Accuracy:  0.729                 | Val Loss:  0.158                 | Val Accuracy:  0.521\n"
     ]
    },
    {
     "name": "stderr",
     "output_type": "stream",
     "text": [
      "100%|██████████████████████████████████████████████████████████████████████████████████| 88/88 [01:16<00:00,  1.15it/s]\n"
     ]
    },
    {
     "name": "stdout",
     "output_type": "stream",
     "text": [
      "Epochs: 44 | Train Loss:  0.069                 | Train Accuracy:  0.735                 | Val Loss:  0.160                 | Val Accuracy:  0.529\n"
     ]
    },
    {
     "name": "stderr",
     "output_type": "stream",
     "text": [
      "100%|██████████████████████████████████████████████████████████████████████████████████| 88/88 [01:16<00:00,  1.15it/s]\n"
     ]
    },
    {
     "name": "stdout",
     "output_type": "stream",
     "text": [
      "Epochs: 45 | Train Loss:  0.069                 | Train Accuracy:  0.741                 | Val Loss:  0.163                 | Val Accuracy:  0.500\n"
     ]
    },
    {
     "name": "stderr",
     "output_type": "stream",
     "text": [
      "100%|██████████████████████████████████████████████████████████████████████████████████| 88/88 [01:16<00:00,  1.15it/s]\n"
     ]
    },
    {
     "name": "stdout",
     "output_type": "stream",
     "text": [
      "Epochs: 46 | Train Loss:  0.069                 | Train Accuracy:  0.736                 | Val Loss:  0.162                 | Val Accuracy:  0.515\n"
     ]
    },
    {
     "name": "stderr",
     "output_type": "stream",
     "text": [
      "100%|██████████████████████████████████████████████████████████████████████████████████| 88/88 [01:16<00:00,  1.15it/s]\n"
     ]
    },
    {
     "name": "stdout",
     "output_type": "stream",
     "text": [
      "Epochs: 47 | Train Loss:  0.068                 | Train Accuracy:  0.739                 | Val Loss:  0.155                 | Val Accuracy:  0.545\n"
     ]
    },
    {
     "name": "stderr",
     "output_type": "stream",
     "text": [
      "100%|██████████████████████████████████████████████████████████████████████████████████| 88/88 [01:16<00:00,  1.15it/s]\n"
     ]
    },
    {
     "name": "stdout",
     "output_type": "stream",
     "text": [
      "Epochs: 48 | Train Loss:  0.064                 | Train Accuracy:  0.756                 | Val Loss:  0.165                 | Val Accuracy:  0.524\n"
     ]
    },
    {
     "name": "stderr",
     "output_type": "stream",
     "text": [
      "100%|██████████████████████████████████████████████████████████████████████████████████| 88/88 [01:16<00:00,  1.15it/s]\n"
     ]
    },
    {
     "name": "stdout",
     "output_type": "stream",
     "text": [
      "Epochs: 49 | Train Loss:  0.064                 | Train Accuracy:  0.755                 | Val Loss:  0.176                 | Val Accuracy:  0.524\n"
     ]
    },
    {
     "name": "stderr",
     "output_type": "stream",
     "text": [
      "100%|██████████████████████████████████████████████████████████████████████████████████| 88/88 [01:16<00:00,  1.15it/s]\n"
     ]
    },
    {
     "name": "stdout",
     "output_type": "stream",
     "text": [
      "Epochs: 50 | Train Loss:  0.064                 | Train Accuracy:  0.753                 | Val Loss:  0.164                 | Val Accuracy:  0.543\n"
     ]
    },
    {
     "name": "stderr",
     "output_type": "stream",
     "text": [
      "100%|██████████████████████████████████████████████████████████████████████████████████| 88/88 [01:16<00:00,  1.15it/s]\n"
     ]
    },
    {
     "name": "stdout",
     "output_type": "stream",
     "text": [
      "Epochs: 51 | Train Loss:  0.061                 | Train Accuracy:  0.764                 | Val Loss:  0.172                 | Val Accuracy:  0.541\n"
     ]
    },
    {
     "name": "stderr",
     "output_type": "stream",
     "text": [
      "100%|██████████████████████████████████████████████████████████████████████████████████| 88/88 [01:16<00:00,  1.15it/s]\n"
     ]
    },
    {
     "name": "stdout",
     "output_type": "stream",
     "text": [
      "Epochs: 52 | Train Loss:  0.061                 | Train Accuracy:  0.757                 | Val Loss:  0.168                 | Val Accuracy:  0.522\n"
     ]
    },
    {
     "name": "stderr",
     "output_type": "stream",
     "text": [
      "100%|██████████████████████████████████████████████████████████████████████████████████| 88/88 [01:16<00:00,  1.15it/s]\n"
     ]
    },
    {
     "name": "stdout",
     "output_type": "stream",
     "text": [
      "Epochs: 53 | Train Loss:  0.059                 | Train Accuracy:  0.762                 | Val Loss:  0.172                 | Val Accuracy:  0.521\n"
     ]
    },
    {
     "name": "stderr",
     "output_type": "stream",
     "text": [
      "100%|██████████████████████████████████████████████████████████████████████████████████| 88/88 [01:16<00:00,  1.15it/s]\n"
     ]
    },
    {
     "name": "stdout",
     "output_type": "stream",
     "text": [
      "Epochs: 54 | Train Loss:  0.059                 | Train Accuracy:  0.761                 | Val Loss:  0.172                 | Val Accuracy:  0.533\n"
     ]
    },
    {
     "name": "stderr",
     "output_type": "stream",
     "text": [
      "100%|██████████████████████████████████████████████████████████████████████████████████| 88/88 [01:16<00:00,  1.15it/s]\n"
     ]
    },
    {
     "name": "stdout",
     "output_type": "stream",
     "text": [
      "Epochs: 55 | Train Loss:  0.059                 | Train Accuracy:  0.765                 | Val Loss:  0.172                 | Val Accuracy:  0.491\n"
     ]
    },
    {
     "name": "stderr",
     "output_type": "stream",
     "text": [
      "100%|██████████████████████████████████████████████████████████████████████████████████| 88/88 [01:16<00:00,  1.15it/s]\n"
     ]
    },
    {
     "name": "stdout",
     "output_type": "stream",
     "text": [
      "Epochs: 56 | Train Loss:  0.057                 | Train Accuracy:  0.769                 | Val Loss:  0.182                 | Val Accuracy:  0.529\n"
     ]
    },
    {
     "name": "stderr",
     "output_type": "stream",
     "text": [
      "100%|██████████████████████████████████████████████████████████████████████████████████| 88/88 [01:16<00:00,  1.15it/s]\n"
     ]
    },
    {
     "name": "stdout",
     "output_type": "stream",
     "text": [
      "Epochs: 57 | Train Loss:  0.056                 | Train Accuracy:  0.776                 | Val Loss:  0.174                 | Val Accuracy:  0.521\n"
     ]
    },
    {
     "name": "stderr",
     "output_type": "stream",
     "text": [
      "100%|██████████████████████████████████████████████████████████████████████████████████| 88/88 [01:16<00:00,  1.15it/s]\n"
     ]
    },
    {
     "name": "stdout",
     "output_type": "stream",
     "text": [
      "Epochs: 58 | Train Loss:  0.053                 | Train Accuracy:  0.788                 | Val Loss:  0.170                 | Val Accuracy:  0.536\n"
     ]
    },
    {
     "name": "stderr",
     "output_type": "stream",
     "text": [
      "100%|██████████████████████████████████████████████████████████████████████████████████| 88/88 [01:16<00:00,  1.15it/s]\n"
     ]
    },
    {
     "name": "stdout",
     "output_type": "stream",
     "text": [
      "Epochs: 59 | Train Loss:  0.053                 | Train Accuracy:  0.781                 | Val Loss:  0.185                 | Val Accuracy:  0.517\n"
     ]
    },
    {
     "name": "stderr",
     "output_type": "stream",
     "text": [
      "100%|██████████████████████████████████████████████████████████████████████████████████| 88/88 [01:16<00:00,  1.15it/s]\n"
     ]
    },
    {
     "name": "stdout",
     "output_type": "stream",
     "text": [
      "Epochs: 60 | Train Loss:  0.054                 | Train Accuracy:  0.781                 | Val Loss:  0.180                 | Val Accuracy:  0.507\n"
     ]
    },
    {
     "name": "stderr",
     "output_type": "stream",
     "text": [
      "100%|██████████████████████████████████████████████████████████████████████████████████| 88/88 [01:16<00:00,  1.15it/s]\n"
     ]
    },
    {
     "name": "stdout",
     "output_type": "stream",
     "text": [
      "Epochs: 61 | Train Loss:  0.054                 | Train Accuracy:  0.784                 | Val Loss:  0.180                 | Val Accuracy:  0.512\n"
     ]
    },
    {
     "name": "stderr",
     "output_type": "stream",
     "text": [
      "100%|██████████████████████████████████████████████████████████████████████████████████| 88/88 [01:16<00:00,  1.15it/s]\n"
     ]
    },
    {
     "name": "stdout",
     "output_type": "stream",
     "text": [
      "Epochs: 62 | Train Loss:  0.052                 | Train Accuracy:  0.793                 | Val Loss:  0.179                 | Val Accuracy:  0.526\n"
     ]
    },
    {
     "name": "stderr",
     "output_type": "stream",
     "text": [
      "100%|██████████████████████████████████████████████████████████████████████████████████| 88/88 [01:16<00:00,  1.15it/s]\n"
     ]
    },
    {
     "name": "stdout",
     "output_type": "stream",
     "text": [
      "Epochs: 63 | Train Loss:  0.052                 | Train Accuracy:  0.787                 | Val Loss:  0.190                 | Val Accuracy:  0.509\n"
     ]
    },
    {
     "name": "stderr",
     "output_type": "stream",
     "text": [
      "100%|██████████████████████████████████████████████████████████████████████████████████| 88/88 [01:16<00:00,  1.15it/s]\n"
     ]
    },
    {
     "name": "stdout",
     "output_type": "stream",
     "text": [
      "Epochs: 64 | Train Loss:  0.051                 | Train Accuracy:  0.789                 | Val Loss:  0.180                 | Val Accuracy:  0.519\n"
     ]
    },
    {
     "name": "stderr",
     "output_type": "stream",
     "text": [
      "100%|██████████████████████████████████████████████████████████████████████████████████| 88/88 [01:16<00:00,  1.15it/s]\n"
     ]
    },
    {
     "name": "stdout",
     "output_type": "stream",
     "text": [
      "Epochs: 65 | Train Loss:  0.050                 | Train Accuracy:  0.784                 | Val Loss:  0.189                 | Val Accuracy:  0.517\n"
     ]
    },
    {
     "name": "stderr",
     "output_type": "stream",
     "text": [
      "100%|██████████████████████████████████████████████████████████████████████████████████| 88/88 [01:16<00:00,  1.15it/s]\n"
     ]
    },
    {
     "name": "stdout",
     "output_type": "stream",
     "text": [
      "Epochs: 66 | Train Loss:  0.051                 | Train Accuracy:  0.791                 | Val Loss:  0.188                 | Val Accuracy:  0.509\n"
     ]
    },
    {
     "name": "stderr",
     "output_type": "stream",
     "text": [
      "100%|██████████████████████████████████████████████████████████████████████████████████| 88/88 [01:16<00:00,  1.15it/s]\n"
     ]
    },
    {
     "name": "stdout",
     "output_type": "stream",
     "text": [
      "Epochs: 67 | Train Loss:  0.051                 | Train Accuracy:  0.783                 | Val Loss:  0.185                 | Val Accuracy:  0.514\n"
     ]
    },
    {
     "name": "stderr",
     "output_type": "stream",
     "text": [
      "100%|██████████████████████████████████████████████████████████████████████████████████| 88/88 [01:16<00:00,  1.15it/s]\n"
     ]
    },
    {
     "name": "stdout",
     "output_type": "stream",
     "text": [
      "Epochs: 68 | Train Loss:  0.049                 | Train Accuracy:  0.799                 | Val Loss:  0.190                 | Val Accuracy:  0.534\n"
     ]
    },
    {
     "name": "stderr",
     "output_type": "stream",
     "text": [
      "100%|██████████████████████████████████████████████████████████████████████████████████| 88/88 [01:16<00:00,  1.15it/s]\n"
     ]
    },
    {
     "name": "stdout",
     "output_type": "stream",
     "text": [
      "Epochs: 69 | Train Loss:  0.048                 | Train Accuracy:  0.804                 | Val Loss:  0.189                 | Val Accuracy:  0.526\n"
     ]
    },
    {
     "name": "stderr",
     "output_type": "stream",
     "text": [
      "100%|██████████████████████████████████████████████████████████████████████████████████| 88/88 [01:16<00:00,  1.15it/s]\n"
     ]
    },
    {
     "name": "stdout",
     "output_type": "stream",
     "text": [
      "Epochs: 70 | Train Loss:  0.047                 | Train Accuracy:  0.802                 | Val Loss:  0.193                 | Val Accuracy:  0.529\n"
     ]
    },
    {
     "name": "stderr",
     "output_type": "stream",
     "text": [
      "100%|██████████████████████████████████████████████████████████████████████████████████| 88/88 [01:16<00:00,  1.15it/s]\n"
     ]
    },
    {
     "name": "stdout",
     "output_type": "stream",
     "text": [
      "Epochs: 71 | Train Loss:  0.046                 | Train Accuracy:  0.804                 | Val Loss:  0.194                 | Val Accuracy:  0.538\n"
     ]
    },
    {
     "name": "stderr",
     "output_type": "stream",
     "text": [
      "100%|██████████████████████████████████████████████████████████████████████████████████| 88/88 [01:16<00:00,  1.15it/s]\n"
     ]
    },
    {
     "name": "stdout",
     "output_type": "stream",
     "text": [
      "Epochs: 72 | Train Loss:  0.047                 | Train Accuracy:  0.807                 | Val Loss:  0.195                 | Val Accuracy:  0.526\n"
     ]
    },
    {
     "name": "stderr",
     "output_type": "stream",
     "text": [
      "100%|██████████████████████████████████████████████████████████████████████████████████| 88/88 [01:16<00:00,  1.15it/s]\n"
     ]
    },
    {
     "name": "stdout",
     "output_type": "stream",
     "text": [
      "Epochs: 73 | Train Loss:  0.045                 | Train Accuracy:  0.812                 | Val Loss:  0.199                 | Val Accuracy:  0.529\n"
     ]
    },
    {
     "name": "stderr",
     "output_type": "stream",
     "text": [
      "100%|██████████████████████████████████████████████████████████████████████████████████| 88/88 [01:16<00:00,  1.15it/s]\n"
     ]
    },
    {
     "name": "stdout",
     "output_type": "stream",
     "text": [
      "Epochs: 74 | Train Loss:  0.046                 | Train Accuracy:  0.804                 | Val Loss:  0.192                 | Val Accuracy:  0.519\n"
     ]
    },
    {
     "name": "stderr",
     "output_type": "stream",
     "text": [
      "100%|██████████████████████████████████████████████████████████████████████████████████| 88/88 [01:16<00:00,  1.15it/s]\n"
     ]
    },
    {
     "name": "stdout",
     "output_type": "stream",
     "text": [
      "Epochs: 75 | Train Loss:  0.047                 | Train Accuracy:  0.801                 | Val Loss:  0.198                 | Val Accuracy:  0.490\n"
     ]
    },
    {
     "name": "stderr",
     "output_type": "stream",
     "text": [
      "100%|██████████████████████████████████████████████████████████████████████████████████| 88/88 [01:16<00:00,  1.15it/s]\n"
     ]
    },
    {
     "name": "stdout",
     "output_type": "stream",
     "text": [
      "Epochs: 76 | Train Loss:  0.043                 | Train Accuracy:  0.817                 | Val Loss:  0.202                 | Val Accuracy:  0.507\n"
     ]
    },
    {
     "name": "stderr",
     "output_type": "stream",
     "text": [
      "100%|██████████████████████████████████████████████████████████████████████████████████| 88/88 [01:16<00:00,  1.15it/s]\n"
     ]
    },
    {
     "name": "stdout",
     "output_type": "stream",
     "text": [
      "Epochs: 77 | Train Loss:  0.044                 | Train Accuracy:  0.812                 | Val Loss:  0.195                 | Val Accuracy:  0.503\n"
     ]
    },
    {
     "name": "stderr",
     "output_type": "stream",
     "text": [
      "100%|██████████████████████████████████████████████████████████████████████████████████| 88/88 [01:16<00:00,  1.15it/s]\n"
     ]
    },
    {
     "name": "stdout",
     "output_type": "stream",
     "text": [
      "Epochs: 78 | Train Loss:  0.044                 | Train Accuracy:  0.805                 | Val Loss:  0.202                 | Val Accuracy:  0.524\n"
     ]
    },
    {
     "name": "stderr",
     "output_type": "stream",
     "text": [
      "100%|██████████████████████████████████████████████████████████████████████████████████| 88/88 [01:16<00:00,  1.15it/s]\n"
     ]
    },
    {
     "name": "stdout",
     "output_type": "stream",
     "text": [
      "Epochs: 79 | Train Loss:  0.043                 | Train Accuracy:  0.820                 | Val Loss:  0.203                 | Val Accuracy:  0.507\n"
     ]
    },
    {
     "name": "stderr",
     "output_type": "stream",
     "text": [
      "100%|██████████████████████████████████████████████████████████████████████████████████| 88/88 [01:16<00:00,  1.15it/s]\n"
     ]
    },
    {
     "name": "stdout",
     "output_type": "stream",
     "text": [
      "Epochs: 80 | Train Loss:  0.045                 | Train Accuracy:  0.814                 | Val Loss:  0.202                 | Val Accuracy:  0.497\n"
     ]
    },
    {
     "name": "stderr",
     "output_type": "stream",
     "text": [
      "100%|██████████████████████████████████████████████████████████████████████████████████| 88/88 [01:16<00:00,  1.15it/s]\n"
     ]
    },
    {
     "name": "stdout",
     "output_type": "stream",
     "text": [
      "Epochs: 81 | Train Loss:  0.045                 | Train Accuracy:  0.807                 | Val Loss:  0.211                 | Val Accuracy:  0.507\n"
     ]
    },
    {
     "name": "stderr",
     "output_type": "stream",
     "text": [
      "100%|██████████████████████████████████████████████████████████████████████████████████| 88/88 [01:16<00:00,  1.15it/s]\n"
     ]
    },
    {
     "name": "stdout",
     "output_type": "stream",
     "text": [
      "Epochs: 82 | Train Loss:  0.044                 | Train Accuracy:  0.808                 | Val Loss:  0.205                 | Val Accuracy:  0.521\n"
     ]
    },
    {
     "name": "stderr",
     "output_type": "stream",
     "text": [
      "100%|██████████████████████████████████████████████████████████████████████████████████| 88/88 [01:16<00:00,  1.15it/s]\n"
     ]
    },
    {
     "name": "stdout",
     "output_type": "stream",
     "text": [
      "Epochs: 83 | Train Loss:  0.042                 | Train Accuracy:  0.823                 | Val Loss:  0.202                 | Val Accuracy:  0.500\n"
     ]
    },
    {
     "name": "stderr",
     "output_type": "stream",
     "text": [
      "100%|██████████████████████████████████████████████████████████████████████████████████| 88/88 [01:16<00:00,  1.15it/s]\n"
     ]
    },
    {
     "name": "stdout",
     "output_type": "stream",
     "text": [
      "Epochs: 84 | Train Loss:  0.040                 | Train Accuracy:  0.826                 | Val Loss:  0.215                 | Val Accuracy:  0.515\n"
     ]
    },
    {
     "name": "stderr",
     "output_type": "stream",
     "text": [
      "100%|██████████████████████████████████████████████████████████████████████████████████| 88/88 [01:16<00:00,  1.15it/s]\n"
     ]
    },
    {
     "name": "stdout",
     "output_type": "stream",
     "text": [
      "Epochs: 85 | Train Loss:  0.041                 | Train Accuracy:  0.824                 | Val Loss:  0.209                 | Val Accuracy:  0.505\n"
     ]
    },
    {
     "name": "stderr",
     "output_type": "stream",
     "text": [
      "100%|██████████████████████████████████████████████████████████████████████████████████| 88/88 [01:16<00:00,  1.15it/s]\n"
     ]
    },
    {
     "name": "stdout",
     "output_type": "stream",
     "text": [
      "Epochs: 86 | Train Loss:  0.043                 | Train Accuracy:  0.823                 | Val Loss:  0.204                 | Val Accuracy:  0.524\n"
     ]
    },
    {
     "name": "stderr",
     "output_type": "stream",
     "text": [
      "100%|██████████████████████████████████████████████████████████████████████████████████| 88/88 [01:16<00:00,  1.15it/s]\n"
     ]
    },
    {
     "name": "stdout",
     "output_type": "stream",
     "text": [
      "Epochs: 87 | Train Loss:  0.039                 | Train Accuracy:  0.827                 | Val Loss:  0.218                 | Val Accuracy:  0.510\n"
     ]
    },
    {
     "name": "stderr",
     "output_type": "stream",
     "text": [
      "100%|██████████████████████████████████████████████████████████████████████████████████| 88/88 [01:16<00:00,  1.15it/s]\n"
     ]
    },
    {
     "name": "stdout",
     "output_type": "stream",
     "text": [
      "Epochs: 88 | Train Loss:  0.040                 | Train Accuracy:  0.832                 | Val Loss:  0.210                 | Val Accuracy:  0.500\n"
     ]
    },
    {
     "name": "stderr",
     "output_type": "stream",
     "text": [
      "100%|██████████████████████████████████████████████████████████████████████████████████| 88/88 [01:16<00:00,  1.15it/s]\n"
     ]
    },
    {
     "name": "stdout",
     "output_type": "stream",
     "text": [
      "Epochs: 89 | Train Loss:  0.039                 | Train Accuracy:  0.839                 | Val Loss:  0.211                 | Val Accuracy:  0.527\n"
     ]
    },
    {
     "name": "stderr",
     "output_type": "stream",
     "text": [
      "100%|██████████████████████████████████████████████████████████████████████████████████| 88/88 [01:16<00:00,  1.15it/s]\n"
     ]
    },
    {
     "name": "stdout",
     "output_type": "stream",
     "text": [
      "Epochs: 90 | Train Loss:  0.040                 | Train Accuracy:  0.825                 | Val Loss:  0.206                 | Val Accuracy:  0.526\n"
     ]
    },
    {
     "name": "stderr",
     "output_type": "stream",
     "text": [
      "100%|██████████████████████████████████████████████████████████████████████████████████| 88/88 [01:16<00:00,  1.15it/s]\n"
     ]
    },
    {
     "name": "stdout",
     "output_type": "stream",
     "text": [
      "Epochs: 91 | Train Loss:  0.038                 | Train Accuracy:  0.839                 | Val Loss:  0.211                 | Val Accuracy:  0.512\n"
     ]
    },
    {
     "name": "stderr",
     "output_type": "stream",
     "text": [
      "100%|██████████████████████████████████████████████████████████████████████████████████| 88/88 [01:16<00:00,  1.15it/s]\n"
     ]
    },
    {
     "name": "stdout",
     "output_type": "stream",
     "text": [
      "Epochs: 92 | Train Loss:  0.040                 | Train Accuracy:  0.835                 | Val Loss:  0.216                 | Val Accuracy:  0.503\n"
     ]
    },
    {
     "name": "stderr",
     "output_type": "stream",
     "text": [
      "100%|██████████████████████████████████████████████████████████████████████████████████| 88/88 [01:16<00:00,  1.15it/s]\n"
     ]
    },
    {
     "name": "stdout",
     "output_type": "stream",
     "text": [
      "Epochs: 93 | Train Loss:  0.039                 | Train Accuracy:  0.842                 | Val Loss:  0.220                 | Val Accuracy:  0.521\n"
     ]
    },
    {
     "name": "stderr",
     "output_type": "stream",
     "text": [
      "100%|██████████████████████████████████████████████████████████████████████████████████| 88/88 [01:16<00:00,  1.15it/s]\n"
     ]
    },
    {
     "name": "stdout",
     "output_type": "stream",
     "text": [
      "Epochs: 94 | Train Loss:  0.037                 | Train Accuracy:  0.835                 | Val Loss:  0.215                 | Val Accuracy:  0.507\n"
     ]
    },
    {
     "name": "stderr",
     "output_type": "stream",
     "text": [
      "100%|██████████████████████████████████████████████████████████████████████████████████| 88/88 [01:16<00:00,  1.15it/s]\n"
     ]
    },
    {
     "name": "stdout",
     "output_type": "stream",
     "text": [
      "Epochs: 95 | Train Loss:  0.038                 | Train Accuracy:  0.844                 | Val Loss:  0.219                 | Val Accuracy:  0.503\n"
     ]
    },
    {
     "name": "stderr",
     "output_type": "stream",
     "text": [
      "100%|██████████████████████████████████████████████████████████████████████████████████| 88/88 [01:16<00:00,  1.15it/s]\n"
     ]
    },
    {
     "name": "stdout",
     "output_type": "stream",
     "text": [
      "Epochs: 96 | Train Loss:  0.038                 | Train Accuracy:  0.839                 | Val Loss:  0.213                 | Val Accuracy:  0.486\n"
     ]
    },
    {
     "name": "stderr",
     "output_type": "stream",
     "text": [
      "100%|██████████████████████████████████████████████████████████████████████████████████| 88/88 [01:16<00:00,  1.15it/s]\n"
     ]
    },
    {
     "name": "stdout",
     "output_type": "stream",
     "text": [
      "Epochs: 97 | Train Loss:  0.039                 | Train Accuracy:  0.844                 | Val Loss:  0.221                 | Val Accuracy:  0.514\n"
     ]
    },
    {
     "name": "stderr",
     "output_type": "stream",
     "text": [
      "100%|██████████████████████████████████████████████████████████████████████████████████| 88/88 [01:16<00:00,  1.15it/s]\n"
     ]
    },
    {
     "name": "stdout",
     "output_type": "stream",
     "text": [
      "Epochs: 98 | Train Loss:  0.038                 | Train Accuracy:  0.841                 | Val Loss:  0.224                 | Val Accuracy:  0.503\n"
     ]
    },
    {
     "name": "stderr",
     "output_type": "stream",
     "text": [
      "100%|██████████████████████████████████████████████████████████████████████████████████| 88/88 [01:16<00:00,  1.15it/s]\n"
     ]
    },
    {
     "name": "stdout",
     "output_type": "stream",
     "text": [
      "Epochs: 99 | Train Loss:  0.036                 | Train Accuracy:  0.849                 | Val Loss:  0.230                 | Val Accuracy:  0.505\n"
     ]
    },
    {
     "name": "stderr",
     "output_type": "stream",
     "text": [
      "100%|██████████████████████████████████████████████████████████████████████████████████| 88/88 [01:16<00:00,  1.15it/s]\n"
     ]
    },
    {
     "name": "stdout",
     "output_type": "stream",
     "text": [
      "Epochs: 100 | Train Loss:  0.036                 | Train Accuracy:  0.858                 | Val Loss:  0.217                 | Val Accuracy:  0.515\n"
     ]
    },
    {
     "name": "stderr",
     "output_type": "stream",
     "text": [
      "100%|██████████████████████████████████████████████████████████████████████████████████| 88/88 [01:16<00:00,  1.15it/s]\n"
     ]
    },
    {
     "name": "stdout",
     "output_type": "stream",
     "text": [
      "Epochs: 101 | Train Loss:  0.035                 | Train Accuracy:  0.844                 | Val Loss:  0.226                 | Val Accuracy:  0.512\n"
     ]
    },
    {
     "name": "stderr",
     "output_type": "stream",
     "text": [
      "100%|██████████████████████████████████████████████████████████████████████████████████| 88/88 [01:16<00:00,  1.15it/s]\n"
     ]
    },
    {
     "name": "stdout",
     "output_type": "stream",
     "text": [
      "Epochs: 102 | Train Loss:  0.034                 | Train Accuracy:  0.858                 | Val Loss:  0.224                 | Val Accuracy:  0.502\n"
     ]
    },
    {
     "name": "stderr",
     "output_type": "stream",
     "text": [
      "100%|██████████████████████████████████████████████████████████████████████████████████| 88/88 [01:16<00:00,  1.15it/s]\n"
     ]
    },
    {
     "name": "stdout",
     "output_type": "stream",
     "text": [
      "Epochs: 103 | Train Loss:  0.034                 | Train Accuracy:  0.871                 | Val Loss:  0.228                 | Val Accuracy:  0.467\n"
     ]
    },
    {
     "name": "stderr",
     "output_type": "stream",
     "text": [
      "100%|██████████████████████████████████████████████████████████████████████████████████| 88/88 [01:16<00:00,  1.15it/s]\n"
     ]
    },
    {
     "name": "stdout",
     "output_type": "stream",
     "text": [
      "Epochs: 104 | Train Loss:  0.034                 | Train Accuracy:  0.858                 | Val Loss:  0.222                 | Val Accuracy:  0.500\n"
     ]
    },
    {
     "name": "stderr",
     "output_type": "stream",
     "text": [
      "100%|██████████████████████████████████████████████████████████████████████████████████| 88/88 [01:16<00:00,  1.15it/s]\n"
     ]
    },
    {
     "name": "stdout",
     "output_type": "stream",
     "text": [
      "Epochs: 105 | Train Loss:  0.033                 | Train Accuracy:  0.862                 | Val Loss:  0.218                 | Val Accuracy:  0.510\n"
     ]
    },
    {
     "name": "stderr",
     "output_type": "stream",
     "text": [
      "100%|██████████████████████████████████████████████████████████████████████████████████| 88/88 [01:16<00:00,  1.15it/s]\n"
     ]
    },
    {
     "name": "stdout",
     "output_type": "stream",
     "text": [
      "Epochs: 106 | Train Loss:  0.034                 | Train Accuracy:  0.856                 | Val Loss:  0.240                 | Val Accuracy:  0.498\n"
     ]
    },
    {
     "name": "stderr",
     "output_type": "stream",
     "text": [
      "100%|██████████████████████████████████████████████████████████████████████████████████| 88/88 [01:16<00:00,  1.15it/s]\n"
     ]
    },
    {
     "name": "stdout",
     "output_type": "stream",
     "text": [
      "Epochs: 107 | Train Loss:  0.035                 | Train Accuracy:  0.843                 | Val Loss:  0.236                 | Val Accuracy:  0.510\n"
     ]
    },
    {
     "name": "stderr",
     "output_type": "stream",
     "text": [
      "100%|██████████████████████████████████████████████████████████████████████████████████| 88/88 [01:16<00:00,  1.15it/s]\n"
     ]
    },
    {
     "name": "stdout",
     "output_type": "stream",
     "text": [
      "Epochs: 108 | Train Loss:  0.034                 | Train Accuracy:  0.855                 | Val Loss:  0.232                 | Val Accuracy:  0.498\n"
     ]
    },
    {
     "name": "stderr",
     "output_type": "stream",
     "text": [
      "100%|██████████████████████████████████████████████████████████████████████████████████| 88/88 [01:16<00:00,  1.15it/s]\n"
     ]
    },
    {
     "name": "stdout",
     "output_type": "stream",
     "text": [
      "Epochs: 109 | Train Loss:  0.032                 | Train Accuracy:  0.862                 | Val Loss:  0.235                 | Val Accuracy:  0.507\n"
     ]
    },
    {
     "name": "stderr",
     "output_type": "stream",
     "text": [
      "100%|██████████████████████████████████████████████████████████████████████████████████| 88/88 [01:16<00:00,  1.15it/s]\n"
     ]
    },
    {
     "name": "stdout",
     "output_type": "stream",
     "text": [
      "Epochs: 110 | Train Loss:  0.031                 | Train Accuracy:  0.875                 | Val Loss:  0.227                 | Val Accuracy:  0.527\n"
     ]
    },
    {
     "name": "stderr",
     "output_type": "stream",
     "text": [
      "100%|██████████████████████████████████████████████████████████████████████████████████| 88/88 [01:16<00:00,  1.15it/s]\n"
     ]
    },
    {
     "name": "stdout",
     "output_type": "stream",
     "text": [
      "Epochs: 111 | Train Loss:  0.033                 | Train Accuracy:  0.860                 | Val Loss:  0.235                 | Val Accuracy:  0.493\n"
     ]
    },
    {
     "name": "stderr",
     "output_type": "stream",
     "text": [
      "100%|██████████████████████████████████████████████████████████████████████████████████| 88/88 [01:16<00:00,  1.15it/s]\n"
     ]
    },
    {
     "name": "stdout",
     "output_type": "stream",
     "text": [
      "Epochs: 112 | Train Loss:  0.032                 | Train Accuracy:  0.867                 | Val Loss:  0.229                 | Val Accuracy:  0.493\n"
     ]
    },
    {
     "name": "stderr",
     "output_type": "stream",
     "text": [
      "100%|██████████████████████████████████████████████████████████████████████████████████| 88/88 [01:16<00:00,  1.15it/s]\n"
     ]
    },
    {
     "name": "stdout",
     "output_type": "stream",
     "text": [
      "Epochs: 113 | Train Loss:  0.032                 | Train Accuracy:  0.871                 | Val Loss:  0.241                 | Val Accuracy:  0.469\n"
     ]
    },
    {
     "name": "stderr",
     "output_type": "stream",
     "text": [
      "100%|██████████████████████████████████████████████████████████████████████████████████| 88/88 [01:16<00:00,  1.15it/s]\n"
     ]
    },
    {
     "name": "stdout",
     "output_type": "stream",
     "text": [
      "Epochs: 114 | Train Loss:  0.032                 | Train Accuracy:  0.865                 | Val Loss:  0.233                 | Val Accuracy:  0.493\n"
     ]
    },
    {
     "name": "stderr",
     "output_type": "stream",
     "text": [
      "100%|██████████████████████████████████████████████████████████████████████████████████| 88/88 [01:16<00:00,  1.15it/s]\n"
     ]
    },
    {
     "name": "stdout",
     "output_type": "stream",
     "text": [
      "Epochs: 115 | Train Loss:  0.032                 | Train Accuracy:  0.855                 | Val Loss:  0.241                 | Val Accuracy:  0.517\n"
     ]
    },
    {
     "name": "stderr",
     "output_type": "stream",
     "text": [
      "100%|██████████████████████████████████████████████████████████████████████████████████| 88/88 [01:16<00:00,  1.15it/s]\n"
     ]
    },
    {
     "name": "stdout",
     "output_type": "stream",
     "text": [
      "Epochs: 116 | Train Loss:  0.032                 | Train Accuracy:  0.867                 | Val Loss:  0.243                 | Val Accuracy:  0.505\n"
     ]
    },
    {
     "name": "stderr",
     "output_type": "stream",
     "text": [
      "100%|██████████████████████████████████████████████████████████████████████████████████| 88/88 [01:16<00:00,  1.15it/s]\n"
     ]
    },
    {
     "name": "stdout",
     "output_type": "stream",
     "text": [
      "Epochs: 117 | Train Loss:  0.030                 | Train Accuracy:  0.876                 | Val Loss:  0.259                 | Val Accuracy:  0.469\n"
     ]
    },
    {
     "name": "stderr",
     "output_type": "stream",
     "text": [
      "100%|██████████████████████████████████████████████████████████████████████████████████| 88/88 [01:16<00:00,  1.15it/s]\n"
     ]
    },
    {
     "name": "stdout",
     "output_type": "stream",
     "text": [
      "Epochs: 118 | Train Loss:  0.031                 | Train Accuracy:  0.871                 | Val Loss:  0.243                 | Val Accuracy:  0.497\n"
     ]
    },
    {
     "name": "stderr",
     "output_type": "stream",
     "text": [
      "100%|██████████████████████████████████████████████████████████████████████████████████| 88/88 [01:16<00:00,  1.15it/s]\n"
     ]
    },
    {
     "name": "stdout",
     "output_type": "stream",
     "text": [
      "Epochs: 119 | Train Loss:  0.030                 | Train Accuracy:  0.875                 | Val Loss:  0.245                 | Val Accuracy:  0.505\n"
     ]
    },
    {
     "name": "stderr",
     "output_type": "stream",
     "text": [
      "100%|██████████████████████████████████████████████████████████████████████████████████| 88/88 [01:16<00:00,  1.15it/s]\n"
     ]
    },
    {
     "name": "stdout",
     "output_type": "stream",
     "text": [
      "Epochs: 120 | Train Loss:  0.030                 | Train Accuracy:  0.880                 | Val Loss:  0.252                 | Val Accuracy:  0.509\n"
     ]
    },
    {
     "name": "stderr",
     "output_type": "stream",
     "text": [
      "100%|██████████████████████████████████████████████████████████████████████████████████| 88/88 [01:16<00:00,  1.15it/s]\n"
     ]
    },
    {
     "name": "stdout",
     "output_type": "stream",
     "text": [
      "Epochs: 121 | Train Loss:  0.030                 | Train Accuracy:  0.871                 | Val Loss:  0.249                 | Val Accuracy:  0.485\n"
     ]
    },
    {
     "name": "stderr",
     "output_type": "stream",
     "text": [
      "100%|██████████████████████████████████████████████████████████████████████████████████| 88/88 [01:16<00:00,  1.15it/s]\n"
     ]
    },
    {
     "name": "stdout",
     "output_type": "stream",
     "text": [
      "Epochs: 122 | Train Loss:  0.029                 | Train Accuracy:  0.878                 | Val Loss:  0.256                 | Val Accuracy:  0.500\n"
     ]
    },
    {
     "name": "stderr",
     "output_type": "stream",
     "text": [
      "100%|██████████████████████████████████████████████████████████████████████████████████| 88/88 [01:16<00:00,  1.15it/s]\n"
     ]
    },
    {
     "name": "stdout",
     "output_type": "stream",
     "text": [
      "Epochs: 123 | Train Loss:  0.029                 | Train Accuracy:  0.880                 | Val Loss:  0.235                 | Val Accuracy:  0.512\n"
     ]
    },
    {
     "name": "stderr",
     "output_type": "stream",
     "text": [
      "100%|██████████████████████████████████████████████████████████████████████████████████| 88/88 [01:16<00:00,  1.15it/s]\n"
     ]
    },
    {
     "name": "stdout",
     "output_type": "stream",
     "text": [
      "Epochs: 124 | Train Loss:  0.029                 | Train Accuracy:  0.866                 | Val Loss:  0.254                 | Val Accuracy:  0.490\n"
     ]
    },
    {
     "name": "stderr",
     "output_type": "stream",
     "text": [
      "100%|██████████████████████████████████████████████████████████████████████████████████| 88/88 [01:16<00:00,  1.15it/s]\n"
     ]
    },
    {
     "name": "stdout",
     "output_type": "stream",
     "text": [
      "Epochs: 125 | Train Loss:  0.028                 | Train Accuracy:  0.874                 | Val Loss:  0.242                 | Val Accuracy:  0.498\n"
     ]
    },
    {
     "name": "stderr",
     "output_type": "stream",
     "text": [
      "100%|██████████████████████████████████████████████████████████████████████████████████| 88/88 [01:16<00:00,  1.15it/s]\n"
     ]
    },
    {
     "name": "stdout",
     "output_type": "stream",
     "text": [
      "Epochs: 126 | Train Loss:  0.029                 | Train Accuracy:  0.872                 | Val Loss:  0.251                 | Val Accuracy:  0.498\n"
     ]
    },
    {
     "name": "stderr",
     "output_type": "stream",
     "text": [
      "100%|██████████████████████████████████████████████████████████████████████████████████| 88/88 [01:16<00:00,  1.15it/s]\n"
     ]
    },
    {
     "name": "stdout",
     "output_type": "stream",
     "text": [
      "Epochs: 127 | Train Loss:  0.031                 | Train Accuracy:  0.866                 | Val Loss:  0.243                 | Val Accuracy:  0.486\n"
     ]
    },
    {
     "name": "stderr",
     "output_type": "stream",
     "text": [
      "100%|██████████████████████████████████████████████████████████████████████████████████| 88/88 [01:16<00:00,  1.15it/s]\n"
     ]
    },
    {
     "name": "stdout",
     "output_type": "stream",
     "text": [
      "Epochs: 128 | Train Loss:  0.028                 | Train Accuracy:  0.878                 | Val Loss:  0.234                 | Val Accuracy:  0.534\n"
     ]
    },
    {
     "name": "stderr",
     "output_type": "stream",
     "text": [
      "100%|██████████████████████████████████████████████████████████████████████████████████| 88/88 [01:16<00:00,  1.15it/s]\n"
     ]
    },
    {
     "name": "stdout",
     "output_type": "stream",
     "text": [
      "Epochs: 129 | Train Loss:  0.028                 | Train Accuracy:  0.880                 | Val Loss:  0.258                 | Val Accuracy:  0.514\n"
     ]
    },
    {
     "name": "stderr",
     "output_type": "stream",
     "text": [
      "100%|██████████████████████████████████████████████████████████████████████████████████| 88/88 [01:16<00:00,  1.15it/s]\n"
     ]
    },
    {
     "name": "stdout",
     "output_type": "stream",
     "text": [
      "Epochs: 130 | Train Loss:  0.030                 | Train Accuracy:  0.871                 | Val Loss:  0.255                 | Val Accuracy:  0.510\n"
     ]
    },
    {
     "name": "stderr",
     "output_type": "stream",
     "text": [
      "100%|██████████████████████████████████████████████████████████████████████████████████| 88/88 [01:16<00:00,  1.15it/s]\n"
     ]
    },
    {
     "name": "stdout",
     "output_type": "stream",
     "text": [
      "Epochs: 131 | Train Loss:  0.028                 | Train Accuracy:  0.878                 | Val Loss:  0.247                 | Val Accuracy:  0.533\n"
     ]
    },
    {
     "name": "stderr",
     "output_type": "stream",
     "text": [
      "100%|██████████████████████████████████████████████████████████████████████████████████| 88/88 [01:16<00:00,  1.15it/s]\n"
     ]
    },
    {
     "name": "stdout",
     "output_type": "stream",
     "text": [
      "Epochs: 132 | Train Loss:  0.028                 | Train Accuracy:  0.880                 | Val Loss:  0.261                 | Val Accuracy:  0.498\n"
     ]
    },
    {
     "name": "stderr",
     "output_type": "stream",
     "text": [
      "100%|██████████████████████████████████████████████████████████████████████████████████| 88/88 [01:16<00:00,  1.15it/s]\n"
     ]
    },
    {
     "name": "stdout",
     "output_type": "stream",
     "text": [
      "Epochs: 133 | Train Loss:  0.029                 | Train Accuracy:  0.883                 | Val Loss:  0.260                 | Val Accuracy:  0.503\n"
     ]
    },
    {
     "name": "stderr",
     "output_type": "stream",
     "text": [
      "100%|██████████████████████████████████████████████████████████████████████████████████| 88/88 [01:16<00:00,  1.15it/s]\n"
     ]
    },
    {
     "name": "stdout",
     "output_type": "stream",
     "text": [
      "Epochs: 134 | Train Loss:  0.029                 | Train Accuracy:  0.880                 | Val Loss:  0.249                 | Val Accuracy:  0.519\n"
     ]
    },
    {
     "name": "stderr",
     "output_type": "stream",
     "text": [
      "100%|██████████████████████████████████████████████████████████████████████████████████| 88/88 [01:16<00:00,  1.15it/s]\n"
     ]
    },
    {
     "name": "stdout",
     "output_type": "stream",
     "text": [
      "Epochs: 135 | Train Loss:  0.027                 | Train Accuracy:  0.886                 | Val Loss:  0.259                 | Val Accuracy:  0.485\n"
     ]
    },
    {
     "name": "stderr",
     "output_type": "stream",
     "text": [
      "100%|██████████████████████████████████████████████████████████████████████████████████| 88/88 [01:16<00:00,  1.15it/s]\n"
     ]
    },
    {
     "name": "stdout",
     "output_type": "stream",
     "text": [
      "Epochs: 136 | Train Loss:  0.030                 | Train Accuracy:  0.865                 | Val Loss:  0.251                 | Val Accuracy:  0.502\n"
     ]
    },
    {
     "name": "stderr",
     "output_type": "stream",
     "text": [
      "100%|██████████████████████████████████████████████████████████████████████████████████| 88/88 [01:16<00:00,  1.15it/s]\n"
     ]
    },
    {
     "name": "stdout",
     "output_type": "stream",
     "text": [
      "Epochs: 137 | Train Loss:  0.028                 | Train Accuracy:  0.873                 | Val Loss:  0.262                 | Val Accuracy:  0.515\n"
     ]
    },
    {
     "name": "stderr",
     "output_type": "stream",
     "text": [
      "100%|██████████████████████████████████████████████████████████████████████████████████| 88/88 [01:16<00:00,  1.15it/s]\n"
     ]
    },
    {
     "name": "stdout",
     "output_type": "stream",
     "text": [
      "Epochs: 138 | Train Loss:  0.027                 | Train Accuracy:  0.883                 | Val Loss:  0.257                 | Val Accuracy:  0.515\n"
     ]
    },
    {
     "name": "stderr",
     "output_type": "stream",
     "text": [
      "100%|██████████████████████████████████████████████████████████████████████████████████| 88/88 [01:16<00:00,  1.15it/s]\n"
     ]
    },
    {
     "name": "stdout",
     "output_type": "stream",
     "text": [
      "Epochs: 139 | Train Loss:  0.027                 | Train Accuracy:  0.891                 | Val Loss:  0.256                 | Val Accuracy:  0.524\n"
     ]
    },
    {
     "name": "stderr",
     "output_type": "stream",
     "text": [
      "100%|██████████████████████████████████████████████████████████████████████████████████| 88/88 [01:16<00:00,  1.15it/s]\n"
     ]
    },
    {
     "name": "stdout",
     "output_type": "stream",
     "text": [
      "Epochs: 140 | Train Loss:  0.026                 | Train Accuracy:  0.879                 | Val Loss:  0.254                 | Val Accuracy:  0.507\n"
     ]
    },
    {
     "name": "stderr",
     "output_type": "stream",
     "text": [
      "100%|██████████████████████████████████████████████████████████████████████████████████| 88/88 [01:16<00:00,  1.15it/s]\n"
     ]
    },
    {
     "name": "stdout",
     "output_type": "stream",
     "text": [
      "Epochs: 141 | Train Loss:  0.027                 | Train Accuracy:  0.878                 | Val Loss:  0.263                 | Val Accuracy:  0.497\n"
     ]
    },
    {
     "name": "stderr",
     "output_type": "stream",
     "text": [
      "100%|██████████████████████████████████████████████████████████████████████████████████| 88/88 [01:16<00:00,  1.15it/s]\n"
     ]
    },
    {
     "name": "stdout",
     "output_type": "stream",
     "text": [
      "Epochs: 142 | Train Loss:  0.027                 | Train Accuracy:  0.883                 | Val Loss:  0.248                 | Val Accuracy:  0.510\n"
     ]
    },
    {
     "name": "stderr",
     "output_type": "stream",
     "text": [
      "100%|██████████████████████████████████████████████████████████████████████████████████| 88/88 [01:16<00:00,  1.15it/s]\n"
     ]
    },
    {
     "name": "stdout",
     "output_type": "stream",
     "text": [
      "Epochs: 143 | Train Loss:  0.027                 | Train Accuracy:  0.884                 | Val Loss:  0.253                 | Val Accuracy:  0.481\n"
     ]
    },
    {
     "name": "stderr",
     "output_type": "stream",
     "text": [
      "100%|██████████████████████████████████████████████████████████████████████████████████| 88/88 [01:16<00:00,  1.15it/s]\n"
     ]
    },
    {
     "name": "stdout",
     "output_type": "stream",
     "text": [
      "Epochs: 144 | Train Loss:  0.028                 | Train Accuracy:  0.878                 | Val Loss:  0.252                 | Val Accuracy:  0.521\n"
     ]
    },
    {
     "name": "stderr",
     "output_type": "stream",
     "text": [
      "100%|██████████████████████████████████████████████████████████████████████████████████| 88/88 [01:16<00:00,  1.15it/s]\n"
     ]
    },
    {
     "name": "stdout",
     "output_type": "stream",
     "text": [
      "Epochs: 145 | Train Loss:  0.026                 | Train Accuracy:  0.884                 | Val Loss:  0.254                 | Val Accuracy:  0.474\n"
     ]
    },
    {
     "name": "stderr",
     "output_type": "stream",
     "text": [
      "100%|██████████████████████████████████████████████████████████████████████████████████| 88/88 [01:16<00:00,  1.15it/s]\n"
     ]
    },
    {
     "name": "stdout",
     "output_type": "stream",
     "text": [
      "Epochs: 146 | Train Loss:  0.027                 | Train Accuracy:  0.884                 | Val Loss:  0.264                 | Val Accuracy:  0.521\n"
     ]
    },
    {
     "name": "stderr",
     "output_type": "stream",
     "text": [
      "100%|██████████████████████████████████████████████████████████████████████████████████| 88/88 [01:16<00:00,  1.15it/s]\n"
     ]
    },
    {
     "name": "stdout",
     "output_type": "stream",
     "text": [
      "Epochs: 147 | Train Loss:  0.025                 | Train Accuracy:  0.890                 | Val Loss:  0.256                 | Val Accuracy:  0.521\n"
     ]
    },
    {
     "name": "stderr",
     "output_type": "stream",
     "text": [
      "100%|██████████████████████████████████████████████████████████████████████████████████| 88/88 [01:16<00:00,  1.15it/s]\n"
     ]
    },
    {
     "name": "stdout",
     "output_type": "stream",
     "text": [
      "Epochs: 148 | Train Loss:  0.026                 | Train Accuracy:  0.887                 | Val Loss:  0.269                 | Val Accuracy:  0.524\n"
     ]
    },
    {
     "name": "stderr",
     "output_type": "stream",
     "text": [
      "100%|██████████████████████████████████████████████████████████████████████████████████| 88/88 [01:16<00:00,  1.15it/s]\n"
     ]
    },
    {
     "name": "stdout",
     "output_type": "stream",
     "text": [
      "Epochs: 149 | Train Loss:  0.026                 | Train Accuracy:  0.882                 | Val Loss:  0.260                 | Val Accuracy:  0.503\n"
     ]
    },
    {
     "name": "stderr",
     "output_type": "stream",
     "text": [
      "100%|██████████████████████████████████████████████████████████████████████████████████| 88/88 [01:16<00:00,  1.15it/s]\n"
     ]
    },
    {
     "name": "stdout",
     "output_type": "stream",
     "text": [
      "Epochs: 150 | Train Loss:  0.026                 | Train Accuracy:  0.888                 | Val Loss:  0.263                 | Val Accuracy:  0.479\n"
     ]
    },
    {
     "name": "stderr",
     "output_type": "stream",
     "text": [
      "100%|██████████████████████████████████████████████████████████████████████████████████| 88/88 [01:16<00:00,  1.15it/s]\n"
     ]
    },
    {
     "name": "stdout",
     "output_type": "stream",
     "text": [
      "Epochs: 151 | Train Loss:  0.027                 | Train Accuracy:  0.876                 | Val Loss:  0.284                 | Val Accuracy:  0.502\n"
     ]
    },
    {
     "name": "stderr",
     "output_type": "stream",
     "text": [
      "100%|██████████████████████████████████████████████████████████████████████████████████| 88/88 [01:16<00:00,  1.15it/s]\n"
     ]
    },
    {
     "name": "stdout",
     "output_type": "stream",
     "text": [
      "Epochs: 152 | Train Loss:  0.026                 | Train Accuracy:  0.882                 | Val Loss:  0.274                 | Val Accuracy:  0.500\n"
     ]
    },
    {
     "name": "stderr",
     "output_type": "stream",
     "text": [
      "100%|██████████████████████████████████████████████████████████████████████████████████| 88/88 [01:16<00:00,  1.15it/s]\n"
     ]
    },
    {
     "name": "stdout",
     "output_type": "stream",
     "text": [
      "Epochs: 153 | Train Loss:  0.026                 | Train Accuracy:  0.889                 | Val Loss:  0.273                 | Val Accuracy:  0.509\n"
     ]
    },
    {
     "name": "stderr",
     "output_type": "stream",
     "text": [
      "100%|██████████████████████████████████████████████████████████████████████████████████| 88/88 [01:16<00:00,  1.15it/s]\n"
     ]
    },
    {
     "name": "stdout",
     "output_type": "stream",
     "text": [
      "Epochs: 154 | Train Loss:  0.026                 | Train Accuracy:  0.897                 | Val Loss:  0.264                 | Val Accuracy:  0.507\n"
     ]
    },
    {
     "name": "stderr",
     "output_type": "stream",
     "text": [
      "100%|██████████████████████████████████████████████████████████████████████████████████| 88/88 [01:16<00:00,  1.15it/s]\n"
     ]
    },
    {
     "name": "stdout",
     "output_type": "stream",
     "text": [
      "Epochs: 155 | Train Loss:  0.025                 | Train Accuracy:  0.896                 | Val Loss:  0.249                 | Val Accuracy:  0.509\n"
     ]
    },
    {
     "name": "stderr",
     "output_type": "stream",
     "text": [
      "100%|██████████████████████████████████████████████████████████████████████████████████| 88/88 [01:16<00:00,  1.15it/s]\n"
     ]
    },
    {
     "name": "stdout",
     "output_type": "stream",
     "text": [
      "Epochs: 156 | Train Loss:  0.026                 | Train Accuracy:  0.884                 | Val Loss:  0.258                 | Val Accuracy:  0.534\n"
     ]
    },
    {
     "name": "stderr",
     "output_type": "stream",
     "text": [
      "100%|██████████████████████████████████████████████████████████████████████████████████| 88/88 [01:16<00:00,  1.15it/s]\n"
     ]
    },
    {
     "name": "stdout",
     "output_type": "stream",
     "text": [
      "Epochs: 157 | Train Loss:  0.025                 | Train Accuracy:  0.891                 | Val Loss:  0.269                 | Val Accuracy:  0.498\n"
     ]
    },
    {
     "name": "stderr",
     "output_type": "stream",
     "text": [
      "100%|██████████████████████████████████████████████████████████████████████████████████| 88/88 [01:16<00:00,  1.15it/s]\n"
     ]
    },
    {
     "name": "stdout",
     "output_type": "stream",
     "text": [
      "Epochs: 158 | Train Loss:  0.027                 | Train Accuracy:  0.879                 | Val Loss:  0.272                 | Val Accuracy:  0.500\n"
     ]
    },
    {
     "name": "stderr",
     "output_type": "stream",
     "text": [
      "100%|██████████████████████████████████████████████████████████████████████████████████| 88/88 [01:16<00:00,  1.15it/s]\n"
     ]
    },
    {
     "name": "stdout",
     "output_type": "stream",
     "text": [
      "Epochs: 159 | Train Loss:  0.027                 | Train Accuracy:  0.883                 | Val Loss:  0.258                 | Val Accuracy:  0.491\n"
     ]
    },
    {
     "name": "stderr",
     "output_type": "stream",
     "text": [
      "100%|██████████████████████████████████████████████████████████████████████████████████| 88/88 [01:16<00:00,  1.15it/s]\n"
     ]
    },
    {
     "name": "stdout",
     "output_type": "stream",
     "text": [
      "Epochs: 160 | Train Loss:  0.026                 | Train Accuracy:  0.888                 | Val Loss:  0.276                 | Val Accuracy:  0.481\n"
     ]
    },
    {
     "name": "stderr",
     "output_type": "stream",
     "text": [
      "100%|██████████████████████████████████████████████████████████████████████████████████| 88/88 [01:16<00:00,  1.15it/s]\n"
     ]
    },
    {
     "name": "stdout",
     "output_type": "stream",
     "text": [
      "Epochs: 161 | Train Loss:  0.026                 | Train Accuracy:  0.891                 | Val Loss:  0.264                 | Val Accuracy:  0.497\n"
     ]
    },
    {
     "name": "stderr",
     "output_type": "stream",
     "text": [
      "100%|██████████████████████████████████████████████████████████████████████████████████| 88/88 [01:16<00:00,  1.15it/s]\n"
     ]
    },
    {
     "name": "stdout",
     "output_type": "stream",
     "text": [
      "Epochs: 162 | Train Loss:  0.026                 | Train Accuracy:  0.898                 | Val Loss:  0.271                 | Val Accuracy:  0.505\n"
     ]
    },
    {
     "name": "stderr",
     "output_type": "stream",
     "text": [
      "100%|██████████████████████████████████████████████████████████████████████████████████| 88/88 [01:16<00:00,  1.15it/s]\n"
     ]
    },
    {
     "name": "stdout",
     "output_type": "stream",
     "text": [
      "Epochs: 163 | Train Loss:  0.026                 | Train Accuracy:  0.890                 | Val Loss:  0.264                 | Val Accuracy:  0.515\n"
     ]
    },
    {
     "name": "stderr",
     "output_type": "stream",
     "text": [
      "100%|██████████████████████████████████████████████████████████████████████████████████| 88/88 [01:16<00:00,  1.15it/s]\n"
     ]
    },
    {
     "name": "stdout",
     "output_type": "stream",
     "text": [
      "Epochs: 164 | Train Loss:  0.026                 | Train Accuracy:  0.887                 | Val Loss:  0.272                 | Val Accuracy:  0.507\n"
     ]
    },
    {
     "name": "stderr",
     "output_type": "stream",
     "text": [
      "100%|██████████████████████████████████████████████████████████████████████████████████| 88/88 [01:16<00:00,  1.15it/s]\n"
     ]
    },
    {
     "name": "stdout",
     "output_type": "stream",
     "text": [
      "Epochs: 165 | Train Loss:  0.025                 | Train Accuracy:  0.896                 | Val Loss:  0.265                 | Val Accuracy:  0.531\n"
     ]
    },
    {
     "name": "stderr",
     "output_type": "stream",
     "text": [
      "100%|██████████████████████████████████████████████████████████████████████████████████| 88/88 [01:16<00:00,  1.15it/s]\n"
     ]
    },
    {
     "name": "stdout",
     "output_type": "stream",
     "text": [
      "Epochs: 166 | Train Loss:  0.026                 | Train Accuracy:  0.892                 | Val Loss:  0.269                 | Val Accuracy:  0.473\n"
     ]
    },
    {
     "name": "stderr",
     "output_type": "stream",
     "text": [
      "100%|██████████████████████████████████████████████████████████████████████████████████| 88/88 [01:16<00:00,  1.15it/s]\n"
     ]
    },
    {
     "name": "stdout",
     "output_type": "stream",
     "text": [
      "Epochs: 167 | Train Loss:  0.026                 | Train Accuracy:  0.878                 | Val Loss:  0.266                 | Val Accuracy:  0.526\n"
     ]
    },
    {
     "name": "stderr",
     "output_type": "stream",
     "text": [
      "100%|██████████████████████████████████████████████████████████████████████████████████| 88/88 [01:16<00:00,  1.15it/s]\n"
     ]
    },
    {
     "name": "stdout",
     "output_type": "stream",
     "text": [
      "Epochs: 168 | Train Loss:  0.025                 | Train Accuracy:  0.888                 | Val Loss:  0.261                 | Val Accuracy:  0.498\n"
     ]
    },
    {
     "name": "stderr",
     "output_type": "stream",
     "text": [
      "100%|██████████████████████████████████████████████████████████████████████████████████| 88/88 [01:16<00:00,  1.15it/s]\n"
     ]
    },
    {
     "name": "stdout",
     "output_type": "stream",
     "text": [
      "Epochs: 169 | Train Loss:  0.025                 | Train Accuracy:  0.891                 | Val Loss:  0.267                 | Val Accuracy:  0.497\n"
     ]
    },
    {
     "name": "stderr",
     "output_type": "stream",
     "text": [
      "100%|██████████████████████████████████████████████████████████████████████████████████| 88/88 [01:16<00:00,  1.15it/s]\n"
     ]
    },
    {
     "name": "stdout",
     "output_type": "stream",
     "text": [
      "Epochs: 170 | Train Loss:  0.025                 | Train Accuracy:  0.890                 | Val Loss:  0.267                 | Val Accuracy:  0.505\n"
     ]
    },
    {
     "name": "stderr",
     "output_type": "stream",
     "text": [
      "100%|██████████████████████████████████████████████████████████████████████████████████| 88/88 [01:16<00:00,  1.15it/s]\n"
     ]
    },
    {
     "name": "stdout",
     "output_type": "stream",
     "text": [
      "Epochs: 171 | Train Loss:  0.026                 | Train Accuracy:  0.887                 | Val Loss:  0.267                 | Val Accuracy:  0.512\n"
     ]
    },
    {
     "name": "stderr",
     "output_type": "stream",
     "text": [
      "100%|██████████████████████████████████████████████████████████████████████████████████| 88/88 [01:16<00:00,  1.15it/s]\n"
     ]
    },
    {
     "name": "stdout",
     "output_type": "stream",
     "text": [
      "Epochs: 172 | Train Loss:  0.026                 | Train Accuracy:  0.884                 | Val Loss:  0.278                 | Val Accuracy:  0.517\n"
     ]
    },
    {
     "name": "stderr",
     "output_type": "stream",
     "text": [
      "100%|██████████████████████████████████████████████████████████████████████████████████| 88/88 [01:16<00:00,  1.15it/s]\n"
     ]
    },
    {
     "name": "stdout",
     "output_type": "stream",
     "text": [
      "Epochs: 173 | Train Loss:  0.025                 | Train Accuracy:  0.894                 | Val Loss:  0.275                 | Val Accuracy:  0.529\n"
     ]
    },
    {
     "name": "stderr",
     "output_type": "stream",
     "text": [
      "100%|██████████████████████████████████████████████████████████████████████████████████| 88/88 [01:16<00:00,  1.15it/s]\n"
     ]
    },
    {
     "name": "stdout",
     "output_type": "stream",
     "text": [
      "Epochs: 174 | Train Loss:  0.025                 | Train Accuracy:  0.887                 | Val Loss:  0.274                 | Val Accuracy:  0.507\n"
     ]
    },
    {
     "name": "stderr",
     "output_type": "stream",
     "text": [
      "100%|██████████████████████████████████████████████████████████████████████████████████| 88/88 [01:16<00:00,  1.15it/s]\n"
     ]
    },
    {
     "name": "stdout",
     "output_type": "stream",
     "text": [
      "Epochs: 175 | Train Loss:  0.026                 | Train Accuracy:  0.884                 | Val Loss:  0.266                 | Val Accuracy:  0.485\n"
     ]
    },
    {
     "name": "stderr",
     "output_type": "stream",
     "text": [
      "100%|██████████████████████████████████████████████████████████████████████████████████| 88/88 [01:16<00:00,  1.15it/s]\n"
     ]
    },
    {
     "name": "stdout",
     "output_type": "stream",
     "text": [
      "Epochs: 176 | Train Loss:  0.026                 | Train Accuracy:  0.886                 | Val Loss:  0.265                 | Val Accuracy:  0.507\n"
     ]
    },
    {
     "name": "stderr",
     "output_type": "stream",
     "text": [
      "100%|██████████████████████████████████████████████████████████████████████████████████| 88/88 [01:16<00:00,  1.15it/s]\n"
     ]
    },
    {
     "name": "stdout",
     "output_type": "stream",
     "text": [
      "Epochs: 177 | Train Loss:  0.025                 | Train Accuracy:  0.896                 | Val Loss:  0.257                 | Val Accuracy:  0.500\n"
     ]
    },
    {
     "name": "stderr",
     "output_type": "stream",
     "text": [
      "100%|██████████████████████████████████████████████████████████████████████████████████| 88/88 [01:16<00:00,  1.15it/s]\n"
     ]
    },
    {
     "name": "stdout",
     "output_type": "stream",
     "text": [
      "Epochs: 178 | Train Loss:  0.025                 | Train Accuracy:  0.882                 | Val Loss:  0.264                 | Val Accuracy:  0.534\n"
     ]
    },
    {
     "name": "stderr",
     "output_type": "stream",
     "text": [
      "100%|██████████████████████████████████████████████████████████████████████████████████| 88/88 [01:16<00:00,  1.15it/s]\n"
     ]
    },
    {
     "name": "stdout",
     "output_type": "stream",
     "text": [
      "Epochs: 179 | Train Loss:  0.025                 | Train Accuracy:  0.892                 | Val Loss:  0.269                 | Val Accuracy:  0.507\n"
     ]
    },
    {
     "name": "stderr",
     "output_type": "stream",
     "text": [
      "100%|██████████████████████████████████████████████████████████████████████████████████| 88/88 [01:16<00:00,  1.15it/s]\n"
     ]
    },
    {
     "name": "stdout",
     "output_type": "stream",
     "text": [
      "Epochs: 180 | Train Loss:  0.025                 | Train Accuracy:  0.890                 | Val Loss:  0.272                 | Val Accuracy:  0.498\n"
     ]
    },
    {
     "name": "stderr",
     "output_type": "stream",
     "text": [
      "100%|██████████████████████████████████████████████████████████████████████████████████| 88/88 [01:16<00:00,  1.15it/s]\n"
     ]
    },
    {
     "name": "stdout",
     "output_type": "stream",
     "text": [
      "Epochs: 181 | Train Loss:  0.026                 | Train Accuracy:  0.886                 | Val Loss:  0.275                 | Val Accuracy:  0.527\n"
     ]
    },
    {
     "name": "stderr",
     "output_type": "stream",
     "text": [
      "100%|██████████████████████████████████████████████████████████████████████████████████| 88/88 [01:16<00:00,  1.15it/s]\n"
     ]
    },
    {
     "name": "stdout",
     "output_type": "stream",
     "text": [
      "Epochs: 182 | Train Loss:  0.025                 | Train Accuracy:  0.896                 | Val Loss:  0.264                 | Val Accuracy:  0.493\n"
     ]
    },
    {
     "name": "stderr",
     "output_type": "stream",
     "text": [
      "100%|██████████████████████████████████████████████████████████████████████████████████| 88/88 [01:16<00:00,  1.15it/s]\n"
     ]
    },
    {
     "name": "stdout",
     "output_type": "stream",
     "text": [
      "Epochs: 183 | Train Loss:  0.025                 | Train Accuracy:  0.889                 | Val Loss:  0.275                 | Val Accuracy:  0.500\n"
     ]
    },
    {
     "name": "stderr",
     "output_type": "stream",
     "text": [
      "100%|██████████████████████████████████████████████████████████████████████████████████| 88/88 [01:16<00:00,  1.15it/s]\n"
     ]
    },
    {
     "name": "stdout",
     "output_type": "stream",
     "text": [
      "Epochs: 184 | Train Loss:  0.026                 | Train Accuracy:  0.887                 | Val Loss:  0.263                 | Val Accuracy:  0.521\n"
     ]
    },
    {
     "name": "stderr",
     "output_type": "stream",
     "text": [
      "100%|██████████████████████████████████████████████████████████████████████████████████| 88/88 [01:16<00:00,  1.15it/s]\n"
     ]
    },
    {
     "name": "stdout",
     "output_type": "stream",
     "text": [
      "Epochs: 185 | Train Loss:  0.024                 | Train Accuracy:  0.895                 | Val Loss:  0.277                 | Val Accuracy:  0.500\n"
     ]
    },
    {
     "name": "stderr",
     "output_type": "stream",
     "text": [
      "100%|██████████████████████████████████████████████████████████████████████████████████| 88/88 [01:16<00:00,  1.15it/s]\n"
     ]
    },
    {
     "name": "stdout",
     "output_type": "stream",
     "text": [
      "Epochs: 186 | Train Loss:  0.025                 | Train Accuracy:  0.884                 | Val Loss:  0.281                 | Val Accuracy:  0.521\n"
     ]
    },
    {
     "name": "stderr",
     "output_type": "stream",
     "text": [
      "100%|██████████████████████████████████████████████████████████████████████████████████| 88/88 [01:16<00:00,  1.15it/s]\n"
     ]
    },
    {
     "name": "stdout",
     "output_type": "stream",
     "text": [
      "Epochs: 187 | Train Loss:  0.025                 | Train Accuracy:  0.891                 | Val Loss:  0.276                 | Val Accuracy:  0.497\n"
     ]
    },
    {
     "name": "stderr",
     "output_type": "stream",
     "text": [
      "100%|██████████████████████████████████████████████████████████████████████████████████| 88/88 [01:16<00:00,  1.15it/s]\n"
     ]
    },
    {
     "name": "stdout",
     "output_type": "stream",
     "text": [
      "Epochs: 188 | Train Loss:  0.025                 | Train Accuracy:  0.890                 | Val Loss:  0.274                 | Val Accuracy:  0.512\n"
     ]
    },
    {
     "name": "stderr",
     "output_type": "stream",
     "text": [
      "100%|██████████████████████████████████████████████████████████████████████████████████| 88/88 [01:16<00:00,  1.15it/s]\n"
     ]
    },
    {
     "name": "stdout",
     "output_type": "stream",
     "text": [
      "Epochs: 189 | Train Loss:  0.025                 | Train Accuracy:  0.897                 | Val Loss:  0.278                 | Val Accuracy:  0.524\n"
     ]
    },
    {
     "name": "stderr",
     "output_type": "stream",
     "text": [
      "100%|██████████████████████████████████████████████████████████████████████████████████| 88/88 [01:16<00:00,  1.15it/s]\n"
     ]
    },
    {
     "name": "stdout",
     "output_type": "stream",
     "text": [
      "Epochs: 190 | Train Loss:  0.026                 | Train Accuracy:  0.886                 | Val Loss:  0.270                 | Val Accuracy:  0.515\n"
     ]
    },
    {
     "name": "stderr",
     "output_type": "stream",
     "text": [
      "100%|██████████████████████████████████████████████████████████████████████████████████| 88/88 [01:16<00:00,  1.15it/s]\n"
     ]
    },
    {
     "name": "stdout",
     "output_type": "stream",
     "text": [
      "Epochs: 191 | Train Loss:  0.025                 | Train Accuracy:  0.883                 | Val Loss:  0.272                 | Val Accuracy:  0.503\n"
     ]
    },
    {
     "name": "stderr",
     "output_type": "stream",
     "text": [
      "100%|██████████████████████████████████████████████████████████████████████████████████| 88/88 [01:16<00:00,  1.15it/s]\n"
     ]
    },
    {
     "name": "stdout",
     "output_type": "stream",
     "text": [
      "Epochs: 192 | Train Loss:  0.025                 | Train Accuracy:  0.896                 | Val Loss:  0.285                 | Val Accuracy:  0.534\n"
     ]
    },
    {
     "name": "stderr",
     "output_type": "stream",
     "text": [
      "100%|██████████████████████████████████████████████████████████████████████████████████| 88/88 [01:16<00:00,  1.15it/s]\n"
     ]
    },
    {
     "name": "stdout",
     "output_type": "stream",
     "text": [
      "Epochs: 193 | Train Loss:  0.024                 | Train Accuracy:  0.894                 | Val Loss:  0.277                 | Val Accuracy:  0.519\n"
     ]
    },
    {
     "name": "stderr",
     "output_type": "stream",
     "text": [
      "100%|██████████████████████████████████████████████████████████████████████████████████| 88/88 [01:16<00:00,  1.15it/s]\n"
     ]
    },
    {
     "name": "stdout",
     "output_type": "stream",
     "text": [
      "Epochs: 194 | Train Loss:  0.024                 | Train Accuracy:  0.895                 | Val Loss:  0.277                 | Val Accuracy:  0.521\n"
     ]
    },
    {
     "name": "stderr",
     "output_type": "stream",
     "text": [
      "100%|██████████████████████████████████████████████████████████████████████████████████| 88/88 [01:16<00:00,  1.15it/s]\n"
     ]
    },
    {
     "name": "stdout",
     "output_type": "stream",
     "text": [
      "Epochs: 195 | Train Loss:  0.026                 | Train Accuracy:  0.888                 | Val Loss:  0.275                 | Val Accuracy:  0.515\n"
     ]
    },
    {
     "name": "stderr",
     "output_type": "stream",
     "text": [
      "100%|██████████████████████████████████████████████████████████████████████████████████| 88/88 [01:16<00:00,  1.15it/s]\n"
     ]
    },
    {
     "name": "stdout",
     "output_type": "stream",
     "text": [
      "Epochs: 196 | Train Loss:  0.025                 | Train Accuracy:  0.894                 | Val Loss:  0.256                 | Val Accuracy:  0.500\n"
     ]
    },
    {
     "name": "stderr",
     "output_type": "stream",
     "text": [
      "100%|██████████████████████████████████████████████████████████████████████████████████| 88/88 [01:16<00:00,  1.15it/s]\n"
     ]
    },
    {
     "name": "stdout",
     "output_type": "stream",
     "text": [
      "Epochs: 197 | Train Loss:  0.025                 | Train Accuracy:  0.888                 | Val Loss:  0.274                 | Val Accuracy:  0.497\n"
     ]
    },
    {
     "name": "stderr",
     "output_type": "stream",
     "text": [
      "100%|██████████████████████████████████████████████████████████████████████████████████| 88/88 [01:16<00:00,  1.15it/s]\n"
     ]
    },
    {
     "name": "stdout",
     "output_type": "stream",
     "text": [
      "Epochs: 198 | Train Loss:  0.025                 | Train Accuracy:  0.890                 | Val Loss:  0.284                 | Val Accuracy:  0.514\n"
     ]
    },
    {
     "name": "stderr",
     "output_type": "stream",
     "text": [
      "100%|██████████████████████████████████████████████████████████████████████████████████| 88/88 [01:16<00:00,  1.15it/s]\n"
     ]
    },
    {
     "name": "stdout",
     "output_type": "stream",
     "text": [
      "Epochs: 199 | Train Loss:  0.025                 | Train Accuracy:  0.894                 | Val Loss:  0.279                 | Val Accuracy:  0.512\n"
     ]
    },
    {
     "name": "stderr",
     "output_type": "stream",
     "text": [
      "100%|██████████████████████████████████████████████████████████████████████████████████| 88/88 [01:16<00:00,  1.15it/s]\n"
     ]
    },
    {
     "name": "stdout",
     "output_type": "stream",
     "text": [
      "Epochs: 200 | Train Loss:  0.024                 | Train Accuracy:  0.891                 | Val Loss:  0.281                 | Val Accuracy:  0.512\n"
     ]
    },
    {
     "name": "stderr",
     "output_type": "stream",
     "text": [
      "100%|██████████████████████████████████████████████████████████████████████████████████| 88/88 [01:16<00:00,  1.15it/s]\n"
     ]
    },
    {
     "name": "stdout",
     "output_type": "stream",
     "text": [
      "Epochs: 201 | Train Loss:  0.023                 | Train Accuracy:  0.899                 | Val Loss:  0.280                 | Val Accuracy:  0.524\n"
     ]
    },
    {
     "name": "stderr",
     "output_type": "stream",
     "text": [
      "100%|██████████████████████████████████████████████████████████████████████████████████| 88/88 [01:16<00:00,  1.15it/s]\n"
     ]
    },
    {
     "name": "stdout",
     "output_type": "stream",
     "text": [
      "Epochs: 202 | Train Loss:  0.024                 | Train Accuracy:  0.896                 | Val Loss:  0.298                 | Val Accuracy:  0.507\n"
     ]
    },
    {
     "name": "stderr",
     "output_type": "stream",
     "text": [
      "100%|██████████████████████████████████████████████████████████████████████████████████| 88/88 [01:16<00:00,  1.15it/s]\n"
     ]
    },
    {
     "name": "stdout",
     "output_type": "stream",
     "text": [
      "Epochs: 203 | Train Loss:  0.024                 | Train Accuracy:  0.902                 | Val Loss:  0.271                 | Val Accuracy:  0.500\n"
     ]
    },
    {
     "name": "stderr",
     "output_type": "stream",
     "text": [
      "100%|██████████████████████████████████████████████████████████████████████████████████| 88/88 [01:16<00:00,  1.15it/s]\n"
     ]
    },
    {
     "name": "stdout",
     "output_type": "stream",
     "text": [
      "Epochs: 204 | Train Loss:  0.024                 | Train Accuracy:  0.890                 | Val Loss:  0.281                 | Val Accuracy:  0.488\n"
     ]
    },
    {
     "name": "stderr",
     "output_type": "stream",
     "text": [
      "100%|██████████████████████████████████████████████████████████████████████████████████| 88/88 [01:16<00:00,  1.15it/s]\n"
     ]
    },
    {
     "name": "stdout",
     "output_type": "stream",
     "text": [
      "Epochs: 205 | Train Loss:  0.024                 | Train Accuracy:  0.899                 | Val Loss:  0.289                 | Val Accuracy:  0.500\n"
     ]
    },
    {
     "name": "stderr",
     "output_type": "stream",
     "text": [
      "100%|██████████████████████████████████████████████████████████████████████████████████| 88/88 [01:16<00:00,  1.15it/s]\n"
     ]
    },
    {
     "name": "stdout",
     "output_type": "stream",
     "text": [
      "Epochs: 206 | Train Loss:  0.024                 | Train Accuracy:  0.896                 | Val Loss:  0.282                 | Val Accuracy:  0.495\n"
     ]
    },
    {
     "name": "stderr",
     "output_type": "stream",
     "text": [
      "100%|██████████████████████████████████████████████████████████████████████████████████| 88/88 [01:16<00:00,  1.15it/s]\n"
     ]
    },
    {
     "name": "stdout",
     "output_type": "stream",
     "text": [
      "Epochs: 207 | Train Loss:  0.025                 | Train Accuracy:  0.888                 | Val Loss:  0.298                 | Val Accuracy:  0.510\n"
     ]
    },
    {
     "name": "stderr",
     "output_type": "stream",
     "text": [
      "100%|██████████████████████████████████████████████████████████████████████████████████| 88/88 [01:16<00:00,  1.15it/s]\n"
     ]
    },
    {
     "name": "stdout",
     "output_type": "stream",
     "text": [
      "Epochs: 208 | Train Loss:  0.024                 | Train Accuracy:  0.897                 | Val Loss:  0.281                 | Val Accuracy:  0.507\n"
     ]
    },
    {
     "name": "stderr",
     "output_type": "stream",
     "text": [
      "100%|██████████████████████████████████████████████████████████████████████████████████| 88/88 [01:16<00:00,  1.15it/s]\n"
     ]
    },
    {
     "name": "stdout",
     "output_type": "stream",
     "text": [
      "Epochs: 209 | Train Loss:  0.024                 | Train Accuracy:  0.897                 | Val Loss:  0.276                 | Val Accuracy:  0.533\n"
     ]
    },
    {
     "name": "stderr",
     "output_type": "stream",
     "text": [
      "100%|██████████████████████████████████████████████████████████████████████████████████| 88/88 [01:16<00:00,  1.15it/s]\n"
     ]
    },
    {
     "name": "stdout",
     "output_type": "stream",
     "text": [
      "Epochs: 210 | Train Loss:  0.023                 | Train Accuracy:  0.904                 | Val Loss:  0.278                 | Val Accuracy:  0.527\n"
     ]
    },
    {
     "name": "stderr",
     "output_type": "stream",
     "text": [
      "100%|██████████████████████████████████████████████████████████████████████████████████| 88/88 [01:16<00:00,  1.15it/s]\n"
     ]
    },
    {
     "name": "stdout",
     "output_type": "stream",
     "text": [
      "Epochs: 211 | Train Loss:  0.023                 | Train Accuracy:  0.894                 | Val Loss:  0.294                 | Val Accuracy:  0.531\n"
     ]
    },
    {
     "name": "stderr",
     "output_type": "stream",
     "text": [
      "100%|██████████████████████████████████████████████████████████████████████████████████| 88/88 [01:16<00:00,  1.15it/s]\n"
     ]
    },
    {
     "name": "stdout",
     "output_type": "stream",
     "text": [
      "Epochs: 212 | Train Loss:  0.023                 | Train Accuracy:  0.898                 | Val Loss:  0.283                 | Val Accuracy:  0.519\n"
     ]
    },
    {
     "name": "stderr",
     "output_type": "stream",
     "text": [
      "100%|██████████████████████████████████████████████████████████████████████████████████| 88/88 [01:16<00:00,  1.15it/s]\n"
     ]
    },
    {
     "name": "stdout",
     "output_type": "stream",
     "text": [
      "Epochs: 213 | Train Loss:  0.023                 | Train Accuracy:  0.900                 | Val Loss:  0.283                 | Val Accuracy:  0.510\n"
     ]
    },
    {
     "name": "stderr",
     "output_type": "stream",
     "text": [
      "100%|██████████████████████████████████████████████████████████████████████████████████| 88/88 [01:16<00:00,  1.15it/s]\n"
     ]
    },
    {
     "name": "stdout",
     "output_type": "stream",
     "text": [
      "Epochs: 214 | Train Loss:  0.024                 | Train Accuracy:  0.895                 | Val Loss:  0.280                 | Val Accuracy:  0.521\n"
     ]
    },
    {
     "name": "stderr",
     "output_type": "stream",
     "text": [
      "100%|██████████████████████████████████████████████████████████████████████████████████| 88/88 [01:16<00:00,  1.15it/s]\n"
     ]
    },
    {
     "name": "stdout",
     "output_type": "stream",
     "text": [
      "Epochs: 215 | Train Loss:  0.022                 | Train Accuracy:  0.902                 | Val Loss:  0.278                 | Val Accuracy:  0.483\n"
     ]
    },
    {
     "name": "stderr",
     "output_type": "stream",
     "text": [
      "100%|██████████████████████████████████████████████████████████████████████████████████| 88/88 [01:16<00:00,  1.15it/s]\n"
     ]
    },
    {
     "name": "stdout",
     "output_type": "stream",
     "text": [
      "Epochs: 216 | Train Loss:  0.024                 | Train Accuracy:  0.906                 | Val Loss:  0.280                 | Val Accuracy:  0.529\n"
     ]
    },
    {
     "name": "stderr",
     "output_type": "stream",
     "text": [
      "100%|██████████████████████████████████████████████████████████████████████████████████| 88/88 [01:16<00:00,  1.15it/s]\n"
     ]
    },
    {
     "name": "stdout",
     "output_type": "stream",
     "text": [
      "Epochs: 217 | Train Loss:  0.023                 | Train Accuracy:  0.896                 | Val Loss:  0.287                 | Val Accuracy:  0.491\n"
     ]
    },
    {
     "name": "stderr",
     "output_type": "stream",
     "text": [
      "100%|██████████████████████████████████████████████████████████████████████████████████| 88/88 [01:16<00:00,  1.15it/s]\n"
     ]
    },
    {
     "name": "stdout",
     "output_type": "stream",
     "text": [
      "Epochs: 218 | Train Loss:  0.024                 | Train Accuracy:  0.898                 | Val Loss:  0.310                 | Val Accuracy:  0.527\n"
     ]
    },
    {
     "name": "stderr",
     "output_type": "stream",
     "text": [
      "100%|██████████████████████████████████████████████████████████████████████████████████| 88/88 [01:16<00:00,  1.15it/s]\n"
     ]
    },
    {
     "name": "stdout",
     "output_type": "stream",
     "text": [
      "Epochs: 219 | Train Loss:  0.023                 | Train Accuracy:  0.899                 | Val Loss:  0.279                 | Val Accuracy:  0.519\n"
     ]
    },
    {
     "name": "stderr",
     "output_type": "stream",
     "text": [
      "100%|██████████████████████████████████████████████████████████████████████████████████| 88/88 [01:16<00:00,  1.15it/s]\n"
     ]
    },
    {
     "name": "stdout",
     "output_type": "stream",
     "text": [
      "Epochs: 220 | Train Loss:  0.022                 | Train Accuracy:  0.910                 | Val Loss:  0.288                 | Val Accuracy:  0.553\n"
     ]
    },
    {
     "name": "stderr",
     "output_type": "stream",
     "text": [
      "100%|██████████████████████████████████████████████████████████████████████████████████| 88/88 [01:16<00:00,  1.15it/s]\n"
     ]
    },
    {
     "name": "stdout",
     "output_type": "stream",
     "text": [
      "Epochs: 221 | Train Loss:  0.023                 | Train Accuracy:  0.895                 | Val Loss:  0.298                 | Val Accuracy:  0.490\n"
     ]
    },
    {
     "name": "stderr",
     "output_type": "stream",
     "text": [
      "100%|██████████████████████████████████████████████████████████████████████████████████| 88/88 [01:16<00:00,  1.15it/s]\n"
     ]
    },
    {
     "name": "stdout",
     "output_type": "stream",
     "text": [
      "Epochs: 222 | Train Loss:  0.023                 | Train Accuracy:  0.902                 | Val Loss:  0.290                 | Val Accuracy:  0.536\n"
     ]
    },
    {
     "name": "stderr",
     "output_type": "stream",
     "text": [
      "100%|██████████████████████████████████████████████████████████████████████████████████| 88/88 [01:16<00:00,  1.15it/s]\n"
     ]
    },
    {
     "name": "stdout",
     "output_type": "stream",
     "text": [
      "Epochs: 223 | Train Loss:  0.023                 | Train Accuracy:  0.903                 | Val Loss:  0.284                 | Val Accuracy:  0.519\n"
     ]
    },
    {
     "name": "stderr",
     "output_type": "stream",
     "text": [
      "100%|██████████████████████████████████████████████████████████████████████████████████| 88/88 [01:16<00:00,  1.15it/s]\n"
     ]
    },
    {
     "name": "stdout",
     "output_type": "stream",
     "text": [
      "Epochs: 224 | Train Loss:  0.023                 | Train Accuracy:  0.899                 | Val Loss:  0.285                 | Val Accuracy:  0.510\n"
     ]
    },
    {
     "name": "stderr",
     "output_type": "stream",
     "text": [
      "100%|██████████████████████████████████████████████████████████████████████████████████| 88/88 [01:16<00:00,  1.15it/s]\n"
     ]
    },
    {
     "name": "stdout",
     "output_type": "stream",
     "text": [
      "Epochs: 225 | Train Loss:  0.023                 | Train Accuracy:  0.903                 | Val Loss:  0.295                 | Val Accuracy:  0.509\n"
     ]
    },
    {
     "name": "stderr",
     "output_type": "stream",
     "text": [
      "100%|██████████████████████████████████████████████████████████████████████████████████| 88/88 [01:16<00:00,  1.15it/s]\n"
     ]
    },
    {
     "name": "stdout",
     "output_type": "stream",
     "text": [
      "Epochs: 226 | Train Loss:  0.023                 | Train Accuracy:  0.904                 | Val Loss:  0.316                 | Val Accuracy:  0.517\n"
     ]
    },
    {
     "name": "stderr",
     "output_type": "stream",
     "text": [
      "100%|██████████████████████████████████████████████████████████████████████████████████| 88/88 [01:16<00:00,  1.15it/s]\n"
     ]
    },
    {
     "name": "stdout",
     "output_type": "stream",
     "text": [
      "Epochs: 227 | Train Loss:  0.023                 | Train Accuracy:  0.900                 | Val Loss:  0.295                 | Val Accuracy:  0.524\n"
     ]
    },
    {
     "name": "stderr",
     "output_type": "stream",
     "text": [
      "100%|██████████████████████████████████████████████████████████████████████████████████| 88/88 [01:16<00:00,  1.15it/s]\n"
     ]
    },
    {
     "name": "stdout",
     "output_type": "stream",
     "text": [
      "Epochs: 228 | Train Loss:  0.023                 | Train Accuracy:  0.900                 | Val Loss:  0.277                 | Val Accuracy:  0.533\n"
     ]
    },
    {
     "name": "stderr",
     "output_type": "stream",
     "text": [
      "100%|██████████████████████████████████████████████████████████████████████████████████| 88/88 [01:16<00:00,  1.15it/s]\n"
     ]
    },
    {
     "name": "stdout",
     "output_type": "stream",
     "text": [
      "Epochs: 229 | Train Loss:  0.024                 | Train Accuracy:  0.903                 | Val Loss:  0.296                 | Val Accuracy:  0.493\n"
     ]
    },
    {
     "name": "stderr",
     "output_type": "stream",
     "text": [
      "100%|██████████████████████████████████████████████████████████████████████████████████| 88/88 [01:16<00:00,  1.15it/s]\n"
     ]
    },
    {
     "name": "stdout",
     "output_type": "stream",
     "text": [
      "Epochs: 230 | Train Loss:  0.023                 | Train Accuracy:  0.900                 | Val Loss:  0.293                 | Val Accuracy:  0.512\n"
     ]
    },
    {
     "name": "stderr",
     "output_type": "stream",
     "text": [
      "100%|██████████████████████████████████████████████████████████████████████████████████| 88/88 [01:16<00:00,  1.15it/s]\n"
     ]
    },
    {
     "name": "stdout",
     "output_type": "stream",
     "text": [
      "Epochs: 231 | Train Loss:  0.023                 | Train Accuracy:  0.898                 | Val Loss:  0.311                 | Val Accuracy:  0.515\n"
     ]
    },
    {
     "name": "stderr",
     "output_type": "stream",
     "text": [
      "100%|██████████████████████████████████████████████████████████████████████████████████| 88/88 [01:16<00:00,  1.15it/s]\n"
     ]
    },
    {
     "name": "stdout",
     "output_type": "stream",
     "text": [
      "Epochs: 232 | Train Loss:  0.023                 | Train Accuracy:  0.897                 | Val Loss:  0.316                 | Val Accuracy:  0.512\n"
     ]
    },
    {
     "name": "stderr",
     "output_type": "stream",
     "text": [
      "100%|██████████████████████████████████████████████████████████████████████████████████| 88/88 [01:16<00:00,  1.15it/s]\n"
     ]
    },
    {
     "name": "stdout",
     "output_type": "stream",
     "text": [
      "Epochs: 233 | Train Loss:  0.023                 | Train Accuracy:  0.899                 | Val Loss:  0.284                 | Val Accuracy:  0.502\n"
     ]
    },
    {
     "name": "stderr",
     "output_type": "stream",
     "text": [
      "100%|██████████████████████████████████████████████████████████████████████████████████| 88/88 [01:16<00:00,  1.15it/s]\n"
     ]
    },
    {
     "name": "stdout",
     "output_type": "stream",
     "text": [
      "Epochs: 234 | Train Loss:  0.022                 | Train Accuracy:  0.903                 | Val Loss:  0.268                 | Val Accuracy:  0.541\n"
     ]
    },
    {
     "name": "stderr",
     "output_type": "stream",
     "text": [
      "100%|██████████████████████████████████████████████████████████████████████████████████| 88/88 [01:16<00:00,  1.15it/s]\n"
     ]
    },
    {
     "name": "stdout",
     "output_type": "stream",
     "text": [
      "Epochs: 235 | Train Loss:  0.023                 | Train Accuracy:  0.902                 | Val Loss:  0.291                 | Val Accuracy:  0.505\n"
     ]
    },
    {
     "name": "stderr",
     "output_type": "stream",
     "text": [
      "100%|██████████████████████████████████████████████████████████████████████████████████| 88/88 [01:16<00:00,  1.15it/s]\n"
     ]
    },
    {
     "name": "stdout",
     "output_type": "stream",
     "text": [
      "Epochs: 236 | Train Loss:  0.022                 | Train Accuracy:  0.907                 | Val Loss:  0.303                 | Val Accuracy:  0.493\n"
     ]
    },
    {
     "name": "stderr",
     "output_type": "stream",
     "text": [
      "100%|██████████████████████████████████████████████████████████████████████████████████| 88/88 [01:16<00:00,  1.15it/s]\n"
     ]
    },
    {
     "name": "stdout",
     "output_type": "stream",
     "text": [
      "Epochs: 237 | Train Loss:  0.023                 | Train Accuracy:  0.896                 | Val Loss:  0.284                 | Val Accuracy:  0.486\n"
     ]
    },
    {
     "name": "stderr",
     "output_type": "stream",
     "text": [
      "100%|██████████████████████████████████████████████████████████████████████████████████| 88/88 [01:16<00:00,  1.15it/s]\n"
     ]
    },
    {
     "name": "stdout",
     "output_type": "stream",
     "text": [
      "Epochs: 238 | Train Loss:  0.024                 | Train Accuracy:  0.897                 | Val Loss:  0.302                 | Val Accuracy:  0.507\n"
     ]
    },
    {
     "name": "stderr",
     "output_type": "stream",
     "text": [
      "100%|██████████████████████████████████████████████████████████████████████████████████| 88/88 [01:16<00:00,  1.15it/s]\n"
     ]
    },
    {
     "name": "stdout",
     "output_type": "stream",
     "text": [
      "Epochs: 239 | Train Loss:  0.023                 | Train Accuracy:  0.902                 | Val Loss:  0.297                 | Val Accuracy:  0.517\n"
     ]
    },
    {
     "name": "stderr",
     "output_type": "stream",
     "text": [
      "100%|██████████████████████████████████████████████████████████████████████████████████| 88/88 [01:16<00:00,  1.15it/s]\n"
     ]
    },
    {
     "name": "stdout",
     "output_type": "stream",
     "text": [
      "Epochs: 240 | Train Loss:  0.022                 | Train Accuracy:  0.906                 | Val Loss:  0.301                 | Val Accuracy:  0.517\n"
     ]
    },
    {
     "name": "stderr",
     "output_type": "stream",
     "text": [
      "100%|██████████████████████████████████████████████████████████████████████████████████| 88/88 [01:16<00:00,  1.15it/s]\n"
     ]
    },
    {
     "name": "stdout",
     "output_type": "stream",
     "text": [
      "Epochs: 241 | Train Loss:  0.022                 | Train Accuracy:  0.907                 | Val Loss:  0.285                 | Val Accuracy:  0.497\n"
     ]
    },
    {
     "name": "stderr",
     "output_type": "stream",
     "text": [
      "100%|██████████████████████████████████████████████████████████████████████████████████| 88/88 [01:16<00:00,  1.15it/s]\n"
     ]
    },
    {
     "name": "stdout",
     "output_type": "stream",
     "text": [
      "Epochs: 242 | Train Loss:  0.021                 | Train Accuracy:  0.913                 | Val Loss:  0.295                 | Val Accuracy:  0.497\n"
     ]
    },
    {
     "name": "stderr",
     "output_type": "stream",
     "text": [
      "100%|██████████████████████████████████████████████████████████████████████████████████| 88/88 [01:16<00:00,  1.15it/s]\n"
     ]
    },
    {
     "name": "stdout",
     "output_type": "stream",
     "text": [
      "Epochs: 243 | Train Loss:  0.021                 | Train Accuracy:  0.910                 | Val Loss:  0.304                 | Val Accuracy:  0.521\n"
     ]
    },
    {
     "name": "stderr",
     "output_type": "stream",
     "text": [
      "100%|██████████████████████████████████████████████████████████████████████████████████| 88/88 [01:16<00:00,  1.15it/s]\n"
     ]
    },
    {
     "name": "stdout",
     "output_type": "stream",
     "text": [
      "Epochs: 244 | Train Loss:  0.022                 | Train Accuracy:  0.905                 | Val Loss:  0.299                 | Val Accuracy:  0.515\n"
     ]
    },
    {
     "name": "stderr",
     "output_type": "stream",
     "text": [
      "100%|██████████████████████████████████████████████████████████████████████████████████| 88/88 [01:16<00:00,  1.15it/s]\n"
     ]
    },
    {
     "name": "stdout",
     "output_type": "stream",
     "text": [
      "Epochs: 245 | Train Loss:  0.021                 | Train Accuracy:  0.911                 | Val Loss:  0.299                 | Val Accuracy:  0.497\n"
     ]
    },
    {
     "name": "stderr",
     "output_type": "stream",
     "text": [
      " 48%|███████████████████████████████████████▏                                          | 42/88 [00:37<00:41,  1.12it/s]\n"
     ]
    },
    {
     "ename": "KeyboardInterrupt",
     "evalue": "",
     "output_type": "error",
     "traceback": [
      "\u001b[1;31m---------------------------------------------------------------------------\u001b[0m",
      "\u001b[1;31mKeyboardInterrupt\u001b[0m                         Traceback (most recent call last)",
      "Cell \u001b[1;32mIn[23], line 71\u001b[0m\n\u001b[0;32m     61\u001b[0m                     total_acc_val \u001b[38;5;241m+\u001b[39m\u001b[38;5;241m=\u001b[39m acc\n\u001b[0;32m     63\u001b[0m             \u001b[38;5;28mprint\u001b[39m(\n\u001b[0;32m     64\u001b[0m                 \u001b[38;5;124mf\u001b[39m\u001b[38;5;124m'\u001b[39m\u001b[38;5;124mEpochs: \u001b[39m\u001b[38;5;132;01m{\u001b[39;00mepoch_num\u001b[38;5;250m \u001b[39m\u001b[38;5;241m+\u001b[39m\u001b[38;5;250m \u001b[39m\u001b[38;5;241m1\u001b[39m\u001b[38;5;132;01m}\u001b[39;00m\u001b[38;5;124m | Train Loss: \u001b[39m\u001b[38;5;132;01m{\u001b[39;00mtotal_loss_train\u001b[38;5;250m \u001b[39m\u001b[38;5;241m/\u001b[39m\u001b[38;5;250m \u001b[39m\u001b[38;5;28mlen\u001b[39m(train_data)\u001b[38;5;132;01m:\u001b[39;00m\u001b[38;5;124m .3f\u001b[39m\u001b[38;5;132;01m}\u001b[39;00m\u001b[38;5;124m \u001b[39m\u001b[38;5;130;01m\\\u001b[39;00m\n\u001b[0;32m     65\u001b[0m \u001b[38;5;124m                | Train Accuracy: \u001b[39m\u001b[38;5;132;01m{\u001b[39;00mtotal_acc_train\u001b[38;5;250m \u001b[39m\u001b[38;5;241m/\u001b[39m\u001b[38;5;250m \u001b[39m\u001b[38;5;28mlen\u001b[39m(train_data)\u001b[38;5;132;01m:\u001b[39;00m\u001b[38;5;124m .3f\u001b[39m\u001b[38;5;132;01m}\u001b[39;00m\u001b[38;5;124m \u001b[39m\u001b[38;5;130;01m\\\u001b[39;00m\n\u001b[0;32m     66\u001b[0m \u001b[38;5;124m                | Val Loss: \u001b[39m\u001b[38;5;132;01m{\u001b[39;00mtotal_loss_val\u001b[38;5;250m \u001b[39m\u001b[38;5;241m/\u001b[39m\u001b[38;5;250m \u001b[39m\u001b[38;5;28mlen\u001b[39m(val_data)\u001b[38;5;132;01m:\u001b[39;00m\u001b[38;5;124m .3f\u001b[39m\u001b[38;5;132;01m}\u001b[39;00m\u001b[38;5;124m \u001b[39m\u001b[38;5;130;01m\\\u001b[39;00m\n\u001b[0;32m     67\u001b[0m \u001b[38;5;124m                | Val Accuracy: \u001b[39m\u001b[38;5;132;01m{\u001b[39;00mtotal_acc_val\u001b[38;5;250m \u001b[39m\u001b[38;5;241m/\u001b[39m\u001b[38;5;250m \u001b[39m\u001b[38;5;28mlen\u001b[39m(val_data)\u001b[38;5;132;01m:\u001b[39;00m\u001b[38;5;124m .3f\u001b[39m\u001b[38;5;132;01m}\u001b[39;00m\u001b[38;5;124m'\u001b[39m)\n\u001b[1;32m---> 71\u001b[0m \u001b[43mtrain\u001b[49m\u001b[43m(\u001b[49m\u001b[43mmodel\u001b[49m\u001b[43m,\u001b[49m\u001b[43m \u001b[49m\u001b[43mdf_train\u001b[49m\u001b[43m,\u001b[49m\u001b[43m \u001b[49m\u001b[43mdf_val\u001b[49m\u001b[43m,\u001b[49m\u001b[43m \u001b[49m\u001b[43mLR\u001b[49m\u001b[43m,\u001b[49m\u001b[43m \u001b[49m\u001b[43mEPOCHS\u001b[49m\u001b[43m)\u001b[49m\n",
      "Cell \u001b[1;32mIn[23], line 35\u001b[0m, in \u001b[0;36mtrain\u001b[1;34m(model, train_data, val_data, learning_rate, epochs)\u001b[0m\n\u001b[0;32m     33\u001b[0m output \u001b[38;5;241m=\u001b[39m model(input_id, mask)\n\u001b[0;32m     34\u001b[0m batch_loss \u001b[38;5;241m=\u001b[39m criterion(output, train_label)\n\u001b[1;32m---> 35\u001b[0m total_loss_train \u001b[38;5;241m+\u001b[39m\u001b[38;5;241m=\u001b[39m batch_loss\u001b[38;5;241m.\u001b[39mitem()\n\u001b[0;32m     37\u001b[0m acc \u001b[38;5;241m=\u001b[39m (output\u001b[38;5;241m.\u001b[39margmax(dim\u001b[38;5;241m=\u001b[39m\u001b[38;5;241m1\u001b[39m) \u001b[38;5;241m==\u001b[39m train_label)\u001b[38;5;241m.\u001b[39msum()\u001b[38;5;241m.\u001b[39mitem()\n\u001b[0;32m     38\u001b[0m total_acc_train \u001b[38;5;241m+\u001b[39m\u001b[38;5;241m=\u001b[39m acc\n",
      "\u001b[1;31mKeyboardInterrupt\u001b[0m: "
     ]
    }
   ],
   "source": [
    "from torch.optim import Adam\n",
    "from tqdm import tqdm\n",
    "\n",
    "def train(model, train_data, val_data, learning_rate, epochs):\n",
    "\n",
    "    train, val = Dataset(train_data), Dataset(val_data)\n",
    "\n",
    "    train_dataloader = torch.utils.data.DataLoader(train, batch_size=10)\n",
    "    val_dataloader = torch.utils.data.DataLoader(val, batch_size=10)\n",
    "\n",
    "    use_cuda = torch.cuda.is_available()\n",
    "    device = torch.device(\"cuda:0\" if use_cuda else \"cpu\")\n",
    "\n",
    "    criterion = nn.CrossEntropyLoss()\n",
    "    optimizer = Adam(model.parameters(), lr= learning_rate)\n",
    "\n",
    "    if use_cuda:\n",
    "\n",
    "            model = model.cuda()\n",
    "            criterion = criterion.cuda()\n",
    "\n",
    "    for epoch_num in range(epochs):\n",
    "\n",
    "            total_acc_train = 0\n",
    "            total_loss_train = 0\n",
    "            n=0\n",
    "            for train_input, train_label in tqdm(train_dataloader):\n",
    "                train_label = train_label.to(device)\n",
    "                mask = train_input['attention_mask'].squeeze(1).to(device)\n",
    "                input_id = train_input['input_ids'].squeeze(1).to(device)\n",
    "\n",
    "\n",
    "                output = model(input_id, mask)\n",
    "                batch_loss = criterion(output, train_label)\n",
    "                total_loss_train += batch_loss.item()\n",
    "\n",
    "                acc = (output.argmax(dim=1) == train_label).sum().item()\n",
    "                total_acc_train += acc\n",
    "\n",
    "                model.zero_grad()\n",
    "                batch_loss.backward()\n",
    "                optimizer.step()\n",
    "\n",
    "            total_acc_val = 0\n",
    "            total_loss_val = 0\n",
    "\n",
    "            with torch.no_grad():\n",
    "\n",
    "                for val_input, val_label in val_dataloader:\n",
    "\n",
    "                    val_label = val_label.to(device)\n",
    "                    mask = val_input['attention_mask'].squeeze(1).to(device)\n",
    "                    input_id = val_input['input_ids'].squeeze(1).to(device)\n",
    "\n",
    "                    output = model(input_id, mask)\n",
    "\n",
    "                    batch_loss = criterion(output, val_label.long())\n",
    "                    total_loss_val += batch_loss.item()\n",
    "\n",
    "                    acc = (output.argmax(dim=1) == val_label).sum().item()\n",
    "                    total_acc_val += acc\n",
    "\n",
    "            print(\n",
    "                f'Epochs: {epoch_num + 1} | Train Loss: {total_loss_train / len(train_data): .3f} \\\n",
    "                | Train Accuracy: {total_acc_train / len(train_data): .3f} \\\n",
    "                | Val Loss: {total_loss_val / len(val_data): .3f} \\\n",
    "                | Val Accuracy: {total_acc_val / len(val_data): .3f}')\n",
    "\n",
    "\n",
    "\n",
    "train(model, df_train, df_val, LR, EPOCHS)"
   ]
  },
  {
   "cell_type": "code",
   "execution_count": null,
   "id": "dd7129e9",
   "metadata": {
    "colab": {
     "base_uri": "https://localhost:8080/"
    },
    "id": "dd7129e9",
    "outputId": "1f8c2c2f-cdf8-4752-d7dd-7044e816c573"
   },
   "outputs": [],
   "source": [
    "'''\n",
    "def evaluate(model, test_data):\n",
    "\n",
    "    test = Dataset(test_data)\n",
    "\n",
    "    test_dataloader = torch.utils.data.DataLoader(test, batch_size=2)\n",
    "\n",
    "    use_cuda = torch.cuda.is_available()\n",
    "    device = torch.device(\"cuda\" if use_cuda else \"cpu\")\n",
    "\n",
    "    if use_cuda:\n",
    "\n",
    "        model = model.cuda()\n",
    "\n",
    "    total_acc_test = 0\n",
    "    with torch.no_grad():\n",
    "\n",
    "        for test_input, test_label in test_dataloader:\n",
    "\n",
    "              test_label = test_label.to(device)\n",
    "              mask = test_input['attention_mask'].to(device)\n",
    "              input_id = test_input['input_ids'].squeeze(1).to(device)\n",
    "\n",
    "              output = model(input_id, mask)\n",
    "\n",
    "              acc = (output.argmax(dim=1) == test_label).sum().item()\n",
    "              total_acc_test += acc\n",
    "\n",
    "    print(f'Test Accuracy: {total_acc_test / len(test_data): .3f}')\n",
    "\n",
    "evaluate(model, df_test)\n",
    "'''"
   ]
  },
  {
   "cell_type": "code",
   "execution_count": 24,
   "id": "6b8f285b",
   "metadata": {
    "id": "6b8f285b"
   },
   "outputs": [],
   "source": [
    "torch.save(model.state_dict(), 'XLNet_model_freeze.pth')"
   ]
  },
  {
   "cell_type": "code",
   "execution_count": null,
   "id": "170cb493",
   "metadata": {
    "id": "170cb493"
   },
   "outputs": [],
   "source": []
  },
  {
   "cell_type": "code",
   "execution_count": null,
   "id": "85a5f6ae",
   "metadata": {},
   "outputs": [],
   "source": []
  }
 ],
 "metadata": {
  "accelerator": "GPU",
  "colab": {
   "gpuType": "A100",
   "machine_shape": "hm",
   "provenance": []
  },
  "kernelspec": {
   "display_name": "gpu1",
   "language": "python",
   "name": "gpu1"
  },
  "language_info": {
   "codemirror_mode": {
    "name": "ipython",
    "version": 3
   },
   "file_extension": ".py",
   "mimetype": "text/x-python",
   "name": "python",
   "nbconvert_exporter": "python",
   "pygments_lexer": "ipython3",
   "version": "3.9.18"
  }
 },
 "nbformat": 4,
 "nbformat_minor": 5
}
