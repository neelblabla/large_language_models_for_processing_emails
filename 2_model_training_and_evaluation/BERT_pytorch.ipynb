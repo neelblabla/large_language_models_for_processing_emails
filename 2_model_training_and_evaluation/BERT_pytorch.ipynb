{
 "cells": [
  {
   "cell_type": "code",
   "execution_count": 63,
   "id": "de291b61",
   "metadata": {},
   "outputs": [],
   "source": [
    "import torch\n",
    "from transformers import BertTokenizer, BertForSequenceClassification, AdamW\n",
    "from torch.utils.data import DataLoader, TensorDataset, RandomSampler\n",
    "import pandas as pd\n",
    "import numpy as np\n",
    "from torch.utils.data import Dataset"
   ]
  },
  {
   "cell_type": "code",
   "execution_count": null,
   "id": "e2f69e00",
   "metadata": {},
   "outputs": [],
   "source": []
  },
  {
   "cell_type": "code",
   "execution_count": 64,
   "id": "8470d053",
   "metadata": {},
   "outputs": [
    {
     "data": {
      "text/plain": [
       "True"
      ]
     },
     "execution_count": 64,
     "metadata": {},
     "output_type": "execute_result"
    }
   ],
   "source": [
    "torch.cuda.is_available()"
   ]
  },
  {
   "cell_type": "code",
   "execution_count": 61,
   "id": "464cca13",
   "metadata": {},
   "outputs": [
    {
     "data": {
      "text/plain": [
       "'|===========================================================================|\\n|                  PyTorch CUDA memory summary, device ID 0                 |\\n|---------------------------------------------------------------------------|\\n|            CUDA OOMs: 0            |        cudaMalloc retries: 0         |\\n|===========================================================================|\\n|        Metric         | Cur Usage  | Peak Usage | Tot Alloc  | Tot Freed  |\\n|---------------------------------------------------------------------------|\\n| Allocated memory      |   2549 MiB |   4415 MiB |  39025 GiB |  39023 GiB |\\n|       from large pool |   2546 MiB |   4412 MiB |  39019 GiB |  39017 GiB |\\n|       from small pool |      2 MiB |      3 MiB |      5 GiB |      5 GiB |\\n|---------------------------------------------------------------------------|\\n| Active memory         |   2549 MiB |   4415 MiB |  39025 GiB |  39023 GiB |\\n|       from large pool |   2546 MiB |   4412 MiB |  39019 GiB |  39017 GiB |\\n|       from small pool |      2 MiB |      3 MiB |      5 GiB |      5 GiB |\\n|---------------------------------------------------------------------------|\\n| Requested memory      |   2522 MiB |   4392 MiB |  38998 GiB |  38995 GiB |\\n|       from large pool |   2519 MiB |   4389 MiB |  38992 GiB |  38990 GiB |\\n|       from small pool |      2 MiB |      3 MiB |      5 GiB |      5 GiB |\\n|---------------------------------------------------------------------------|\\n| GPU reserved memory   |   4972 MiB |   4972 MiB |   8160 MiB |   3188 MiB |\\n|       from large pool |   4966 MiB |   4966 MiB |   8152 MiB |   3186 MiB |\\n|       from small pool |      6 MiB |      6 MiB |      8 MiB |      2 MiB |\\n|---------------------------------------------------------------------------|\\n| Non-releasable memory |    920 MiB |   1220 MiB |  20627 GiB |  20626 GiB |\\n|       from large pool |    919 MiB |   1219 MiB |  20621 GiB |  20620 GiB |\\n|       from small pool |      1 MiB |      2 MiB |      5 GiB |      5 GiB |\\n|---------------------------------------------------------------------------|\\n| Allocations           |    1229    |    1238    |    3750 K  |    3749 K  |\\n|       from large pool |     452    |     514    |    2410 K  |    2410 K  |\\n|       from small pool |     777    |     786    |    1339 K  |    1338 K  |\\n|---------------------------------------------------------------------------|\\n| Active allocs         |    1229    |    1238    |    3750 K  |    3749 K  |\\n|       from large pool |     452    |     514    |    2410 K  |    2410 K  |\\n|       from small pool |     777    |     786    |    1339 K  |    1338 K  |\\n|---------------------------------------------------------------------------|\\n| GPU reserved segments |     155    |     155    |     212    |      57    |\\n|       from large pool |     152    |     152    |     208    |      56    |\\n|       from small pool |       3    |       3    |       4    |       1    |\\n|---------------------------------------------------------------------------|\\n| Non-releasable allocs |     147    |     235    |    1750 K  |    1749 K  |\\n|       from large pool |     121    |     140    |    1332 K  |    1332 K  |\\n|       from small pool |      26    |     108    |     417 K  |     417 K  |\\n|---------------------------------------------------------------------------|\\n| Oversize allocations  |       0    |       0    |       0    |       0    |\\n|---------------------------------------------------------------------------|\\n| Oversize GPU segments |       0    |       0    |       0    |       0    |\\n|===========================================================================|\\n'"
      ]
     },
     "execution_count": 61,
     "metadata": {},
     "output_type": "execute_result"
    }
   ],
   "source": [
    "torch.cuda.memory_summary(device=None, abbreviated=False)"
   ]
  },
  {
   "cell_type": "code",
   "execution_count": 62,
   "id": "3afd05bf",
   "metadata": {},
   "outputs": [],
   "source": [
    "torch.cuda.empty_cache()"
   ]
  },
  {
   "cell_type": "code",
   "execution_count": 40,
   "id": "0b92c18f",
   "metadata": {},
   "outputs": [
    {
     "data": {
      "text/plain": [
       "'NVIDIA GeForce RTX 3060 Laptop GPU'"
      ]
     },
     "execution_count": 40,
     "metadata": {},
     "output_type": "execute_result"
    }
   ],
   "source": [
    "torch.cuda.get_device_name(0)"
   ]
  },
  {
   "cell_type": "code",
   "execution_count": 41,
   "id": "3abc6572",
   "metadata": {},
   "outputs": [],
   "source": [
    "device=torch.device('cuda:0')"
   ]
  },
  {
   "cell_type": "code",
   "execution_count": 42,
   "id": "e478071d",
   "metadata": {},
   "outputs": [
    {
     "name": "stderr",
     "output_type": "stream",
     "text": [
      "Some weights of BertForSequenceClassification were not initialized from the model checkpoint at bert-base-uncased and are newly initialized: ['classifier.bias', 'classifier.weight']\n",
      "You should probably TRAIN this model on a down-stream task to be able to use it for predictions and inference.\n"
     ]
    }
   ],
   "source": [
    "\n",
    "# Load a pre-trained BERT model and tokenizer\n",
    "model_name = \"bert-base-uncased\"\n",
    "tokenizer = BertTokenizer.from_pretrained(model_name)\n",
    "model = BertForSequenceClassification.from_pretrained(model_name, num_labels=8)"
   ]
  },
  {
   "cell_type": "code",
   "execution_count": 43,
   "id": "b2b7591b",
   "metadata": {},
   "outputs": [],
   "source": [
    "content = pd.read_csv('content.csv', sep=',')\n",
    "label = pd.read_csv('label.csv', sep=',')\n",
    "message_id = pd.read_csv('message_id.csv', sep=',')\n",
    "content=content.values.tolist()\n",
    "label=label.values.tolist()\n",
    "message_id=message_id.values.tolist()"
   ]
  },
  {
   "cell_type": "code",
   "execution_count": 44,
   "id": "a21eee23",
   "metadata": {},
   "outputs": [],
   "source": [
    "content=[str(item) for sublist in content for item in sublist]\n",
    "label=[item-1 for sublist in label for item in sublist]\n",
    "message_id=[item for sublist in message_id for item in sublist]"
   ]
  },
  {
   "cell_type": "code",
   "execution_count": 45,
   "id": "5e4713ee",
   "metadata": {},
   "outputs": [
    {
     "name": "stderr",
     "output_type": "stream",
     "text": [
      "C:\\Users\\hp\\miniconda3\\envs\\tf_gpu\\lib\\site-packages\\transformers\\optimization.py:411: FutureWarning: This implementation of AdamW is deprecated and will be removed in a future version. Use the PyTorch implementation torch.optim.AdamW instead, or set `no_deprecation_warning=True` to disable this warning\n",
      "  warnings.warn(\n"
     ]
    },
    {
     "name": "stdout",
     "output_type": "stream",
     "text": [
      "0\n",
      "1\n"
     ]
    }
   ],
   "source": [
    "\n",
    "# tokenize \n",
    "inputs = tokenizer(content, padding=True, truncation=True, return_tensors=\"pt\")\n",
    "labels = torch.tensor(label)\n",
    "\n",
    "# batching batch descent\n",
    "dataset = TensorDataset(inputs.input_ids, inputs.attention_mask, labels)\n",
    "dataloader = DataLoader(dataset, batch_size=5, sampler=RandomSampler(dataset))\n",
    "\n",
    "\n",
    "optimizer = AdamW(model.parameters(), lr=0.01)\n",
    "criterion = torch.nn.CrossEntropyLoss()\n",
    "\n",
    "# to gpu\n",
    "model=model.to(device)\n",
    "\n",
    "\n",
    "# Training loop\n",
    "num_epochs=2\n",
    "for epoch in range(num_epochs):\n",
    "    print(epoch)\n",
    "    for batch in dataloader:\n",
    "        optimizer.zero_grad()\n",
    "        input_ids, attention_mask, labels = batch\n",
    "        \n",
    "        input_ids=input_ids.to(device)\n",
    "        attention_mask=attention_mask.to(device)\n",
    "        labels=labels.to(device)\n",
    "        \n",
    "        outputs = model(input_ids, attention_mask=attention_mask, labels=labels)\n",
    "        loss = outputs.loss\n",
    "        loss.backward()\n",
    "        optimizer.step()\n",
    "\n",
    "# Evaluation and inference steps would follow here"
   ]
  },
  {
   "cell_type": "code",
   "execution_count": 57,
   "id": "53eaff4b",
   "metadata": {},
   "outputs": [],
   "source": [
    "# Replace 'new_text' with the text you want to classify\n",
    "new_text = \"I hope this email finds you well. My name is John Smith, and I am a student in your Intro to European History class.  \"\n",
    "\n",
    "# Tokenize and preprocess the input text\n",
    "input_data = tokenizer(new_text, padding=True, truncation=True, return_tensors=\"pt\")\n",
    "input_ids = input_data.input_ids.to(device)\n",
    "attention_mask = input_data.attention_mask.to(device)\n",
    "\n",
    "# Set the model to evaluation mode\n",
    "model.eval()\n",
    "\n",
    "# Make predictions\n",
    "with torch.no_grad():\n",
    "    outputs = model(input_ids, attention_mask=attention_mask)\n",
    "\n",
    "# Get the predicted class probabilities or logits\n",
    "logits = outputs.logits\n",
    "\n",
    "# If you want class probabilities, you can apply a softmax function\n",
    "probs = torch.softmax(logits, dim=1)\n",
    "\n",
    "# If you want the predicted class labels, you can find the argmax\n",
    "predicted_labels = torch.argmax(logits, dim=1)"
   ]
  },
  {
   "cell_type": "code",
   "execution_count": 58,
   "id": "755c4768",
   "metadata": {},
   "outputs": [
    {
     "data": {
      "text/plain": [
       "tensor([[5.2345e-02, 2.5044e-04, 4.1016e-02, 8.7724e-01, 2.3429e-02, 4.3960e-03,\n",
       "         9.5913e-04, 3.6388e-04]], device='cuda:0')"
      ]
     },
     "execution_count": 58,
     "metadata": {},
     "output_type": "execute_result"
    }
   ],
   "source": [
    "probs"
   ]
  },
  {
   "cell_type": "code",
   "execution_count": null,
   "id": "91976ae8",
   "metadata": {},
   "outputs": [],
   "source": []
  },
  {
   "cell_type": "code",
   "execution_count": null,
   "id": "79d6fbf6",
   "metadata": {},
   "outputs": [],
   "source": []
  },
  {
   "cell_type": "code",
   "execution_count": null,
   "id": "3af15a48",
   "metadata": {},
   "outputs": [],
   "source": []
  }
 ],
 "metadata": {
  "kernelspec": {
   "display_name": "Python 3 (ipykernel)",
   "language": "python",
   "name": "python3"
  },
  "language_info": {
   "codemirror_mode": {
    "name": "ipython",
    "version": 3
   },
   "file_extension": ".py",
   "mimetype": "text/x-python",
   "name": "python",
   "nbconvert_exporter": "python",
   "pygments_lexer": "ipython3",
   "version": "3.10.9"
  }
 },
 "nbformat": 4,
 "nbformat_minor": 5
}
