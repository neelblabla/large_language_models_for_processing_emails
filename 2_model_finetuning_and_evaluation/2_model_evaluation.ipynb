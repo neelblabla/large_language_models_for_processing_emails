{
 "cells": [
  {
   "cell_type": "markdown",
   "metadata": {},
   "source": [
    "### Assessing and evaluating model outputs"
   ]
  },
  {
   "cell_type": "code",
   "execution_count": 10,
   "metadata": {},
   "outputs": [],
   "source": [
    "import pandas as pd\n",
    "import matplotlib.pyplot as plt"
   ]
  },
  {
   "cell_type": "code",
   "execution_count": 11,
   "metadata": {},
   "outputs": [
    {
     "data": {
      "text/html": [
       "<div>\n",
       "<style scoped>\n",
       "    .dataframe tbody tr th:only-of-type {\n",
       "        vertical-align: middle;\n",
       "    }\n",
       "\n",
       "    .dataframe tbody tr th {\n",
       "        vertical-align: top;\n",
       "    }\n",
       "\n",
       "    .dataframe thead th {\n",
       "        text-align: right;\n",
       "    }\n",
       "</style>\n",
       "<table border=\"1\" class=\"dataframe\">\n",
       "  <thead>\n",
       "    <tr style=\"text-align: right;\">\n",
       "      <th></th>\n",
       "      <th>input_test_prompts</th>\n",
       "      <th>category</th>\n",
       "      <th>model_output</th>\n",
       "      <th>match</th>\n",
       "    </tr>\n",
       "  </thead>\n",
       "  <tbody>\n",
       "    <tr>\n",
       "      <th>0</th>\n",
       "      <td>&lt;s&gt;[INST] &lt;&lt;SYS&gt;&gt; I am sharing an email body w...</td>\n",
       "      <td>Company Business, Strategy, etc.(elaborate in ...</td>\n",
       "      <td>[INST] &lt;&lt;SYS&gt;&gt; I am sharing an email body with...</td>\n",
       "      <td>Y</td>\n",
       "    </tr>\n",
       "    <tr>\n",
       "      <th>1</th>\n",
       "      <td>&lt;s&gt;[INST] &lt;&lt;SYS&gt;&gt; I am sharing an email body w...</td>\n",
       "      <td>Company Business, Strategy, etc.(elaborate in ...</td>\n",
       "      <td>[INST] &lt;&lt;SYS&gt;&gt; I am sharing an email body with...</td>\n",
       "      <td>Y</td>\n",
       "    </tr>\n",
       "    <tr>\n",
       "      <th>2</th>\n",
       "      <td>&lt;s&gt;[INST] &lt;&lt;SYS&gt;&gt; I am sharing an email body w...</td>\n",
       "      <td>Logistic Arrangements(meeting scheduling, tech...</td>\n",
       "      <td>[INST] &lt;&lt;SYS&gt;&gt; I am sharing an email body with...</td>\n",
       "      <td>Y</td>\n",
       "    </tr>\n",
       "    <tr>\n",
       "      <th>3</th>\n",
       "      <td>&lt;s&gt;[INST] &lt;&lt;SYS&gt;&gt; I am sharing an email body w...</td>\n",
       "      <td>Logistic Arrangements(meeting scheduling, tech...</td>\n",
       "      <td>[INST] &lt;&lt;SYS&gt;&gt; I am sharing an email body with...</td>\n",
       "      <td>Y</td>\n",
       "    </tr>\n",
       "    <tr>\n",
       "      <th>4</th>\n",
       "      <td>&lt;s&gt;[INST] &lt;&lt;SYS&gt;&gt; I am sharing an email body w...</td>\n",
       "      <td>Logistic Arrangements(meeting scheduling, tech...</td>\n",
       "      <td>[INST] &lt;&lt;SYS&gt;&gt; I am sharing an email body with...</td>\n",
       "      <td>N</td>\n",
       "    </tr>\n",
       "  </tbody>\n",
       "</table>\n",
       "</div>"
      ],
      "text/plain": [
       "                                  input_test_prompts  \\\n",
       "0  <s>[INST] <<SYS>> I am sharing an email body w...   \n",
       "1  <s>[INST] <<SYS>> I am sharing an email body w...   \n",
       "2  <s>[INST] <<SYS>> I am sharing an email body w...   \n",
       "3  <s>[INST] <<SYS>> I am sharing an email body w...   \n",
       "4  <s>[INST] <<SYS>> I am sharing an email body w...   \n",
       "\n",
       "                                            category  \\\n",
       "0  Company Business, Strategy, etc.(elaborate in ...   \n",
       "1  Company Business, Strategy, etc.(elaborate in ...   \n",
       "2  Logistic Arrangements(meeting scheduling, tech...   \n",
       "3  Logistic Arrangements(meeting scheduling, tech...   \n",
       "4  Logistic Arrangements(meeting scheduling, tech...   \n",
       "\n",
       "                                        model_output match  \n",
       "0  [INST] <<SYS>> I am sharing an email body with...     Y  \n",
       "1  [INST] <<SYS>> I am sharing an email body with...     Y  \n",
       "2  [INST] <<SYS>> I am sharing an email body with...     Y  \n",
       "3  [INST] <<SYS>> I am sharing an email body with...     Y  \n",
       "4  [INST] <<SYS>> I am sharing an email body with...     N  "
      ]
     },
     "execution_count": 11,
     "metadata": {},
     "output_type": "execute_result"
    }
   ],
   "source": [
    "# import model_test_output-evaluation_df.csv in a dataframe\n",
    "model_output_df = pd.read_csv(\"model_test_output-evaluation_df.csv\")\n",
    "model_output_df.head()"
   ]
  },
  {
   "cell_type": "code",
   "execution_count": 12,
   "metadata": {},
   "outputs": [
    {
     "data": {
      "text/plain": [
       "([<matplotlib.patches.Wedge at 0x119e02310>,\n",
       "  <matplotlib.patches.Wedge at 0x119e03bd0>],\n",
       " [Text(-0.49938947630209496, 0.9801072140121811, 'Y'),\n",
       "  Text(0.49938938453783227, -0.9801072607683943, 'N')],\n",
       " [Text(-0.2723942598011427, 0.5346039349157351, '65.0%\\n39'),\n",
       "  Text(0.27239420974790846, -0.5346039604191241, '35.0%\\n21')])"
      ]
     },
     "execution_count": 12,
     "metadata": {},
     "output_type": "execute_result"
    },
    {
     "data": {
      "image/png": "[encoded data removed]",
      "text/plain": [
       "<Figure size 640x480 with 1 Axes>"
      ]
     },
     "metadata": {},
     "output_type": "display_data"
    }
   ],
   "source": [
    "# pie-chart of model response 'match' with human labels \n",
    "total = model_output_df['match'].value_counts().values.sum()\n",
    "def fmt(x):\n",
    "    return '{:.1f}%\\n{:.0f}'.format(x, total*x/100)\n",
    "plt.pie(model_output_df['match'].value_counts().values, labels=model_output_df['match'].value_counts().index, autopct=fmt)"
   ]
  },
  {
   "cell_type": "markdown",
   "metadata": {},
   "source": [
    "# To analyze (amongst others)\n",
    "- What classes are predicted accurately by Model?\n",
    "- Is there a bias in model output towards any particular class?\n",
    "- Is there any class missing in the model predictions?"
   ]
  }
 ],
 "metadata": {
  "kernelspec": {
   "display_name": "llm",
   "language": "python",
   "name": "python3"
  },
  "language_info": {
   "codemirror_mode": {
    "name": "ipython",
    "version": 3
   },
   "file_extension": ".py",
   "mimetype": "text/x-python",
   "name": "python",
   "nbconvert_exporter": "python",
   "pygments_lexer": "ipython3",
   "version": "3.11.5"
  },
  "orig_nbformat": 4
 },
 "nbformat": 4,
 "nbformat_minor": 2
}
