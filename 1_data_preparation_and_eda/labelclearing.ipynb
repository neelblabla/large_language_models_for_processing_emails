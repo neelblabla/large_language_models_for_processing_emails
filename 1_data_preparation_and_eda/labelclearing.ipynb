{
 "cells": [
  {
   "cell_type": "code",
   "execution_count": 1,
   "metadata": {},
   "outputs": [],
   "source": [
    "import numpy as np\n",
    "import pandas as pd"
   ]
  },
  {
   "cell_type": "code",
   "execution_count": 2,
   "metadata": {},
   "outputs": [
    {
     "name": "stdout",
     "output_type": "stream",
     "text": [
      "Index(['column_a', 'message_id', 'date', 'from', 'to', 'subject', 'x_from',\n",
      "       'x_to', 'x_cc', 'x_bcc', 'x_folder', 'x_origin', 'x_filename',\n",
      "       'content', 'user', 'cat_1_level_1', 'cat_1_level_2', 'cat_1_weight',\n",
      "       'cat_2_level_1', 'cat_2_level_2', 'cat_2_weight', 'cat_3_level_1',\n",
      "       'cat_3_level_2', 'cat_3_weight', 'cat_4_level_1', 'cat_4_level_2',\n",
      "       'cat_4_weight', 'cat_5_level_1', 'cat_5_level_2', 'cat_5_weight',\n",
      "       'cat_6_level_1', 'cat_6_level_2', 'cat_6_weight', 'cat_7_level_1',\n",
      "       'cat_7_level_2', 'cat_7_weight', 'cat_8_level_1', 'cat_8_level_2',\n",
      "       'cat_8_weight', 'cat_9_level_1', 'cat_9_level_2', 'cat_9_weight',\n",
      "       'cat_10_level_1', 'cat_10_level_2', 'cat_10_weight', 'cat_11_level_1',\n",
      "       'cat_11_level_2', 'cat_11_weight', 'cat_12_level_1', 'cat_12_level_2',\n",
      "       'cat_12_weight', 'labeled'],\n",
      "      dtype='object')\n"
     ]
    },
    {
     "data": {
      "text/plain": [
       "0    I also need to know the base salaries of Jay R...\n",
       "1    Thanks for the information. It would be helpfu...\n",
       "2    -----Original Message----- From: Hawkins, Bern...\n",
       "3    -----Original Message----- From: Perrino, Dave...\n",
       "4    -----Original Message----- From: Comnes, Alan ...\n",
       "Name: content, dtype: object"
      ]
     },
     "execution_count": 2,
     "metadata": {},
     "output_type": "execute_result"
    }
   ],
   "source": [
    "df = pd.read_csv('labelled_enron.csv')\n",
    "\n",
    "print(df.columns)"
   ]
  },
  {
   "cell_type": "code",
   "execution_count": 3,
   "metadata": {},
   "outputs": [
    {
     "name": "stdout",
     "output_type": "stream",
     "text": [
      "   column_a                                     message_id  \\\n",
      "0       379   <9831685.1075855725804.JavaMail.evans@thyme>   \n",
      "1       381  <21041312.1075855725847.JavaMail.evans@thyme>   \n",
      "2      2139   <5907100.1075858639941.JavaMail.evans@thyme>   \n",
      "3      2140  <26625142.1075858639964.JavaMail.evans@thyme>   \n",
      "4      2232  <19730598.1075858642129.JavaMail.evans@thyme>   \n",
      "\n",
      "                  date                                    from  \\\n",
      "0  2001-03-15T14:45:00  frozenset({'phillip.allen@enron.com'})   \n",
      "1  2001-03-15T14:11:00  frozenset({'phillip.allen@enron.com'})   \n",
      "2  2001-06-20T17:04:51       frozenset({'k..allen@enron.com'})   \n",
      "3  2001-06-20T17:09:00       frozenset({'k..allen@enron.com'})   \n",
      "4  2001-08-09T12:30:58       frozenset({'k..allen@enron.com'})   \n",
      "\n",
      "                                                  to  \\\n",
      "0                frozenset({'todd.burke@enron.com'})   \n",
      "1                frozenset({'kim.bolton@enron.com'})   \n",
      "2  frozenset({'matt.smith@enron.com', 'matthew.le...   \n",
      "3  frozenset({'matt.smith@enron.com', 'matthew.le...   \n",
      "4  frozenset({'matt.smith@enron.com', 'm..tholt@e...   \n",
      "\n",
      "                                             subject  \\\n",
      "0      Re: Confidential Employee Information/Lenhart   \n",
      "1  RE: PERSONAL AND CONFIDENTIAL COMPENSATION INF...   \n",
      "2  FW: Western Wholesale Activities - Gas & Power...   \n",
      "3  FW: Western Wholesale Activities - Gas & Power...   \n",
      "4  FW: Western Wholesale Activities - Gas & Power...   \n",
      "\n",
      "                                              x_from  \\\n",
      "0                                    Phillip K Allen   \n",
      "1                                    Phillip K Allen   \n",
      "2  Allen, Phillip K. </O=ENRON/OU=NA/CN=RECIPIENT...   \n",
      "3  Allen, Phillip K. </O=ENRON/OU=NA/CN=RECIPIENT...   \n",
      "4  Allen, Phillip K. </O=ENRON/OU=NA/CN=RECIPIENT...   \n",
      "\n",
      "                                                x_to x_cc  x_bcc  ...  \\\n",
      "0                                         Todd Burke  NaN    NaN  ...   \n",
      "1                                         Kim Bolton  NaN    NaN  ...   \n",
      "2  Lenhart, Matthew </O=ENRON/OU=NA/CN=RECIPIENTS...  NaN    NaN  ...   \n",
      "3  Lenhart, Matthew </O=ENRON/OU=NA/CN=RECIPIENTS...  NaN    NaN  ...   \n",
      "4  Smith, Matt </O=ENRON/OU=NA/CN=RECIPIENTS/CN=M...  NaN    NaN  ...   \n",
      "\n",
      "  cat_10_level_1 cat_10_level_2 cat_10_weight cat_11_level_1 cat_11_level_2  \\\n",
      "0            NaN            NaN           NaN            NaN            NaN   \n",
      "1            NaN            NaN           NaN            NaN            NaN   \n",
      "2            NaN            NaN           NaN            NaN            NaN   \n",
      "3            NaN            NaN           NaN            NaN            NaN   \n",
      "4            NaN            NaN           NaN            NaN            NaN   \n",
      "\n",
      "   cat_11_weight  cat_12_level_1  cat_12_level_2  cat_12_weight  labeled  \n",
      "0            NaN             NaN             NaN            NaN     True  \n",
      "1            NaN             NaN             NaN            NaN     True  \n",
      "2            NaN             NaN             NaN            NaN     True  \n",
      "3            NaN             NaN             NaN            NaN     True  \n",
      "4            NaN             NaN             NaN            NaN     True  \n",
      "\n",
      "[5 rows x 52 columns]\n"
     ]
    }
   ],
   "source": [
    "print(df.head())"
   ]
  },
  {
   "cell_type": "code",
   "execution_count": 4,
   "metadata": {},
   "outputs": [
    {
     "data": {
      "text/html": [
       "<div>\n",
       "<style scoped>\n",
       "    .dataframe tbody tr th:only-of-type {\n",
       "        vertical-align: middle;\n",
       "    }\n",
       "\n",
       "    .dataframe tbody tr th {\n",
       "        vertical-align: top;\n",
       "    }\n",
       "\n",
       "    .dataframe thead th {\n",
       "        text-align: right;\n",
       "    }\n",
       "</style>\n",
       "<table border=\"1\" class=\"dataframe\">\n",
       "  <thead>\n",
       "    <tr style=\"text-align: right;\">\n",
       "      <th></th>\n",
       "      <th>message_id</th>\n",
       "      <th>subject</th>\n",
       "      <th>content</th>\n",
       "      <th>cat_1_level_2</th>\n",
       "    </tr>\n",
       "  </thead>\n",
       "  <tbody>\n",
       "    <tr>\n",
       "      <th>0</th>\n",
       "      <td>&lt;9831685.1075855725804.JavaMail.evans@thyme&gt;</td>\n",
       "      <td>Re: Confidential Employee Information/Lenhart</td>\n",
       "      <td>I also need to know the base salaries of Jay R...</td>\n",
       "      <td>1.0</td>\n",
       "    </tr>\n",
       "    <tr>\n",
       "      <th>1</th>\n",
       "      <td>&lt;21041312.1075855725847.JavaMail.evans@thyme&gt;</td>\n",
       "      <td>RE: PERSONAL AND CONFIDENTIAL COMPENSATION INF...</td>\n",
       "      <td>Thanks for the information. It would be helpfu...</td>\n",
       "      <td>3.0</td>\n",
       "    </tr>\n",
       "    <tr>\n",
       "      <th>2</th>\n",
       "      <td>&lt;5907100.1075858639941.JavaMail.evans@thyme&gt;</td>\n",
       "      <td>FW: Western Wholesale Activities - Gas &amp; Power...</td>\n",
       "      <td>-----Original Message----- From: Hawkins, Bern...</td>\n",
       "      <td>4.0</td>\n",
       "    </tr>\n",
       "    <tr>\n",
       "      <th>3</th>\n",
       "      <td>&lt;26625142.1075858639964.JavaMail.evans@thyme&gt;</td>\n",
       "      <td>FW: Western Wholesale Activities - Gas &amp; Power...</td>\n",
       "      <td>-----Original Message----- From: Perrino, Dave...</td>\n",
       "      <td>4.0</td>\n",
       "    </tr>\n",
       "    <tr>\n",
       "      <th>4</th>\n",
       "      <td>&lt;19730598.1075858642129.JavaMail.evans@thyme&gt;</td>\n",
       "      <td>FW: Western Wholesale Activities - Gas &amp; Power...</td>\n",
       "      <td>-----Original Message----- From: Comnes, Alan ...</td>\n",
       "      <td>4.0</td>\n",
       "    </tr>\n",
       "  </tbody>\n",
       "</table>\n",
       "</div>"
      ],
      "text/plain": [
       "                                      message_id  \\\n",
       "0   <9831685.1075855725804.JavaMail.evans@thyme>   \n",
       "1  <21041312.1075855725847.JavaMail.evans@thyme>   \n",
       "2   <5907100.1075858639941.JavaMail.evans@thyme>   \n",
       "3  <26625142.1075858639964.JavaMail.evans@thyme>   \n",
       "4  <19730598.1075858642129.JavaMail.evans@thyme>   \n",
       "\n",
       "                                             subject  \\\n",
       "0      Re: Confidential Employee Information/Lenhart   \n",
       "1  RE: PERSONAL AND CONFIDENTIAL COMPENSATION INF...   \n",
       "2  FW: Western Wholesale Activities - Gas & Power...   \n",
       "3  FW: Western Wholesale Activities - Gas & Power...   \n",
       "4  FW: Western Wholesale Activities - Gas & Power...   \n",
       "\n",
       "                                             content  cat_1_level_2  \n",
       "0  I also need to know the base salaries of Jay R...            1.0  \n",
       "1  Thanks for the information. It would be helpfu...            3.0  \n",
       "2  -----Original Message----- From: Hawkins, Bern...            4.0  \n",
       "3  -----Original Message----- From: Perrino, Dave...            4.0  \n",
       "4  -----Original Message----- From: Comnes, Alan ...            4.0  "
      ]
     },
     "execution_count": 4,
     "metadata": {},
     "output_type": "execute_result"
    }
   ],
   "source": [
    "new_df = df[['message_id', 'subject', 'content', 'cat_1_level_2']]\n",
    "\n",
    "new_df.head()"
   ]
  },
  {
   "cell_type": "code",
   "execution_count": 5,
   "metadata": {},
   "outputs": [
    {
     "data": {
      "text/plain": [
       "\"import pandas as pd\\nimport numpy as np\\n\\n# Create a new column\\nnew_df['highest_weight_cat'] = ''\\n\\n# Define the weight columns\\nweight_columns = ['cat_{}_weight'.format(i) for i in range(1, 13)]\\n\\n# Iterate through rows\\nfor index, row in new_df.iterrows():\\n    # Get the values of the weight columns for the current row\\n    weights = row[weight_columns].values\\n    \\n    # Find the index of the maximum value using NumPy\\n    max_weight_index = np.argmax(weights)\\n    \\n    # Get the column name corresponding to the maximum value\\n    max_weight_col = weight_columns[max_weight_index]\\n    \\n    # Set the 'highest_weight_cat' column to the column name\\n    new_df.at[index, 'highest_weight_cat'] = max_weight_col\\n\\n# Define the weight columns to drop\\nweight_columns_to_drop = ['cat_{}_weight'.format(i) for i in range(1, 13)]\\n\\n# Drop the specified weight columns\\nnew_df.drop(columns=weight_columns_to_drop, inplace=True)\\n\""
      ]
     },
     "execution_count": 5,
     "metadata": {},
     "output_type": "execute_result"
    }
   ],
   "source": [
    "## Compare Weight, save it for maybe later\n",
    "'''import pandas as pd\n",
    "import numpy as np\n",
    "\n",
    "# Create a new column\n",
    "new_df['highest_weight_cat'] = ''\n",
    "\n",
    "# Define the weight columns\n",
    "weight_columns = ['cat_{}_weight'.format(i) for i in range(1, 13)]\n",
    "\n",
    "# Iterate through rows\n",
    "for index, row in new_df.iterrows():\n",
    "    # Get the values of the weight columns for the current row\n",
    "    weights = row[weight_columns].values\n",
    "    \n",
    "    # Find the index of the maximum value using NumPy\n",
    "    max_weight_index = np.argmax(weights)\n",
    "    \n",
    "    # Get the column name corresponding to the maximum value\n",
    "    max_weight_col = weight_columns[max_weight_index]\n",
    "    \n",
    "    # Set the 'highest_weight_cat' column to the column name\n",
    "    new_df.at[index, 'highest_weight_cat'] = max_weight_col\n",
    "\n",
    "# Define the weight columns to drop\n",
    "weight_columns_to_drop = ['cat_{}_weight'.format(i) for i in range(1, 13)]\n",
    "\n",
    "# Drop the specified weight columns\n",
    "new_df.drop(columns=weight_columns_to_drop, inplace=True)\n",
    "'''"
   ]
  },
  {
   "cell_type": "code",
   "execution_count": 6,
   "metadata": {},
   "outputs": [
    {
     "name": "stderr",
     "output_type": "stream",
     "text": [
      "/var/folders/sb/rscyryt53fs5t_zbvkxgpzjc0000gn/T/ipykernel_2426/2168557669.py:2: SettingWithCopyWarning: \n",
      "A value is trying to be set on a copy of a slice from a DataFrame.\n",
      "Try using .loc[row_indexer,col_indexer] = value instead\n",
      "\n",
      "See the caveats in the documentation: https://pandas.pydata.org/pandas-docs/stable/user_guide/indexing.html#returning-a-view-versus-a-copy\n",
      "  new_df['label'] = new_df['cat_1_level_2'].apply(lambda x: 1.0 + (x / 10.0))\n",
      "/var/folders/sb/rscyryt53fs5t_zbvkxgpzjc0000gn/T/ipykernel_2426/2168557669.py:16: SettingWithCopyWarning: \n",
      "A value is trying to be set on a copy of a slice from a DataFrame.\n",
      "Try using .loc[row_indexer,col_indexer] = value instead\n",
      "\n",
      "See the caveats in the documentation: https://pandas.pydata.org/pandas-docs/stable/user_guide/indexing.html#returning-a-view-versus-a-copy\n",
      "  new_df['label'] = new_df['label'].map(label_mapping)\n",
      "/var/folders/sb/rscyryt53fs5t_zbvkxgpzjc0000gn/T/ipykernel_2426/2168557669.py:18: SettingWithCopyWarning: \n",
      "A value is trying to be set on a copy of a slice from a DataFrame\n",
      "\n",
      "See the caveats in the documentation: https://pandas.pydata.org/pandas-docs/stable/user_guide/indexing.html#returning-a-view-versus-a-copy\n",
      "  new_df.drop(columns=['cat_1_level_2'], inplace=True)\n"
     ]
    },
    {
     "data": {
      "text/html": [
       "<div>\n",
       "<style scoped>\n",
       "    .dataframe tbody tr th:only-of-type {\n",
       "        vertical-align: middle;\n",
       "    }\n",
       "\n",
       "    .dataframe tbody tr th {\n",
       "        vertical-align: top;\n",
       "    }\n",
       "\n",
       "    .dataframe thead th {\n",
       "        text-align: right;\n",
       "    }\n",
       "</style>\n",
       "<table border=\"1\" class=\"dataframe\">\n",
       "  <thead>\n",
       "    <tr style=\"text-align: right;\">\n",
       "      <th></th>\n",
       "      <th>message_id</th>\n",
       "      <th>subject</th>\n",
       "      <th>content</th>\n",
       "      <th>label</th>\n",
       "    </tr>\n",
       "  </thead>\n",
       "  <tbody>\n",
       "    <tr>\n",
       "      <th>0</th>\n",
       "      <td>&lt;9831685.1075855725804.JavaMail.evans@thyme&gt;</td>\n",
       "      <td>Re: Confidential Employee Information/Lenhart</td>\n",
       "      <td>I also need to know the base salaries of Jay R...</td>\n",
       "      <td>Company Business, Strategy, etc.(elaborate in ...</td>\n",
       "    </tr>\n",
       "    <tr>\n",
       "      <th>1</th>\n",
       "      <td>&lt;21041312.1075855725847.JavaMail.evans@thyme&gt;</td>\n",
       "      <td>RE: PERSONAL AND CONFIDENTIAL COMPENSATION INF...</td>\n",
       "      <td>Thanks for the information. It would be helpfu...</td>\n",
       "      <td>Personal but in professional context(e.g., it ...</td>\n",
       "    </tr>\n",
       "    <tr>\n",
       "      <th>2</th>\n",
       "      <td>&lt;5907100.1075858639941.JavaMail.evans@thyme&gt;</td>\n",
       "      <td>FW: Western Wholesale Activities - Gas &amp; Power...</td>\n",
       "      <td>-----Original Message----- From: Hawkins, Bern...</td>\n",
       "      <td>Logistic Arrangements(meeting scheduling, tech...</td>\n",
       "    </tr>\n",
       "    <tr>\n",
       "      <th>3</th>\n",
       "      <td>&lt;26625142.1075858639964.JavaMail.evans@thyme&gt;</td>\n",
       "      <td>FW: Western Wholesale Activities - Gas &amp; Power...</td>\n",
       "      <td>-----Original Message----- From: Perrino, Dave...</td>\n",
       "      <td>Logistic Arrangements(meeting scheduling, tech...</td>\n",
       "    </tr>\n",
       "    <tr>\n",
       "      <th>4</th>\n",
       "      <td>&lt;19730598.1075858642129.JavaMail.evans@thyme&gt;</td>\n",
       "      <td>FW: Western Wholesale Activities - Gas &amp; Power...</td>\n",
       "      <td>-----Original Message----- From: Comnes, Alan ...</td>\n",
       "      <td>Logistic Arrangements(meeting scheduling, tech...</td>\n",
       "    </tr>\n",
       "  </tbody>\n",
       "</table>\n",
       "</div>"
      ],
      "text/plain": [
       "                                      message_id  \\\n",
       "0   <9831685.1075855725804.JavaMail.evans@thyme>   \n",
       "1  <21041312.1075855725847.JavaMail.evans@thyme>   \n",
       "2   <5907100.1075858639941.JavaMail.evans@thyme>   \n",
       "3  <26625142.1075858639964.JavaMail.evans@thyme>   \n",
       "4  <19730598.1075858642129.JavaMail.evans@thyme>   \n",
       "\n",
       "                                             subject  \\\n",
       "0      Re: Confidential Employee Information/Lenhart   \n",
       "1  RE: PERSONAL AND CONFIDENTIAL COMPENSATION INF...   \n",
       "2  FW: Western Wholesale Activities - Gas & Power...   \n",
       "3  FW: Western Wholesale Activities - Gas & Power...   \n",
       "4  FW: Western Wholesale Activities - Gas & Power...   \n",
       "\n",
       "                                             content  \\\n",
       "0  I also need to know the base salaries of Jay R...   \n",
       "1  Thanks for the information. It would be helpfu...   \n",
       "2  -----Original Message----- From: Hawkins, Bern...   \n",
       "3  -----Original Message----- From: Perrino, Dave...   \n",
       "4  -----Original Message----- From: Comnes, Alan ...   \n",
       "\n",
       "                                               label  \n",
       "0  Company Business, Strategy, etc.(elaborate in ...  \n",
       "1  Personal but in professional context(e.g., it ...  \n",
       "2  Logistic Arrangements(meeting scheduling, tech...  \n",
       "3  Logistic Arrangements(meeting scheduling, tech...  \n",
       "4  Logistic Arrangements(meeting scheduling, tech...  "
      ]
     },
     "execution_count": 6,
     "metadata": {},
     "output_type": "execute_result"
    }
   ],
   "source": [
    "# Create a new 'label' column based on 'cat_1_level_2'\n",
    "new_df['label'] = new_df['cat_1_level_2'].apply(lambda x: 1.0 + (x / 10.0))\n",
    "\n",
    "# Map 'label' values to the desired labels\n",
    "label_mapping = {\n",
    "    1.1: 'Company Business, Strategy, etc.(elaborate in Section 3 [Topics])',\n",
    "    1.2: 'Purely Personal',\n",
    "    1.3: 'Personal but in professional context(e.g., it was good working with you)',\n",
    "    1.4: 'Logistic Arrangements(meeting scheduling, technical support, etc)',\n",
    "    1.5: 'Employment arrangements(job seeking, hiring, recommendations, etc) ',\n",
    "    1.6: 'Document editing/checking(collaboration)',\n",
    "    1.7: 'Empty message(due to missing attachment)',\n",
    "    1.8: 'Empty message'\n",
    "}\n",
    "\n",
    "new_df['label'] = new_df['label'].map(label_mapping)\n",
    "\n",
    "new_df.drop(columns=['cat_1_level_2'], inplace=True)\n",
    "\n",
    "new_df.head()"
   ]
  },
  {
   "cell_type": "code",
   "execution_count": 7,
   "metadata": {},
   "outputs": [
    {
     "name": "stderr",
     "output_type": "stream",
     "text": [
      "/var/folders/sb/rscyryt53fs5t_zbvkxgpzjc0000gn/T/ipykernel_2426/696120635.py:1: SettingWithCopyWarning: \n",
      "A value is trying to be set on a copy of a slice from a DataFrame\n",
      "\n",
      "See the caveats in the documentation: https://pandas.pydata.org/pandas-docs/stable/user_guide/indexing.html#returning-a-view-versus-a-copy\n",
      "  new_df.rename(columns={'content': 'body', 'label': 'category'}, inplace=True)\n"
     ]
    }
   ],
   "source": [
    "new_df.rename(columns={'content': 'body', 'label': 'category'}, inplace=True)\n",
    "\n",
    "# Save the DataFrame as a new CSV file\n",
    "#new_df.to_csv('simplified_labeled_enron.csv', index=False)"
   ]
  },
  {
   "cell_type": "code",
   "execution_count": 8,
   "metadata": {},
   "outputs": [],
   "source": [
    "# Split into train and test dataset\n",
    "original_df = pd.read_csv('simplified_labeled_enron.csv')\n",
    "\n",
    "# Shuffle the rows randomly\n",
    "shuffled_df = original_df.sample(frac=1, random_state=42)  # Use a fixed random_state for reproducibility\n",
    "\n",
    "# Split the DataFrame into two parts\n",
    "first_part = shuffled_df.iloc[:1400]\n",
    "second_part = shuffled_df.iloc[1400:]\n",
    "\n",
    "# Save the two split DataFrames to separate CSV files\n",
    "first_part.to_csv('simplified_labeled_enron_train.csv', index=False)\n",
    "second_part.to_csv('simplified_labeled_enron_test.csv', index=False)\n"
   ]
  }
 ],
 "metadata": {
  "kernelspec": {
   "display_name": "base",
   "language": "python",
   "name": "python3"
  },
  "language_info": {
   "codemirror_mode": {
    "name": "ipython",
    "version": 3
   },
   "file_extension": ".py",
   "mimetype": "text/x-python",
   "name": "python",
   "nbconvert_exporter": "python",
   "pygments_lexer": "ipython3",
   "version": "3.9.16"
  },
  "orig_nbformat": 4
 },
 "nbformat": 4,
 "nbformat_minor": 2
}
